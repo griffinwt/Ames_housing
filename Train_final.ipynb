{
 "cells": [
  {
   "cell_type": "code",
   "execution_count": 1,
   "metadata": {},
   "outputs": [],
   "source": [
    "from scipy.stats import ttest_ind\n",
    "import pandas as pd\n",
    "import numpy as np\n",
    "from scipy import stats\n",
    "import seaborn as sns\n",
    "import matplotlib.pyplot as plt\n",
    "import re\n",
    "#week 3\n",
    "from sklearn.linear_model import LinearRegression\n",
    "from sklearn import metrics\n",
    "import statsmodels.api as sm\n",
    "from sklearn.model_selection import train_test_split, cross_val_score\n",
    "from sklearn.preprocessing import StandardScaler, PolynomialFeatures\n",
    "#week 4\n",
    "from sklearn.linear_model import LogisticRegression\n",
    "\n",
    "#my .py file\n",
    "import cleaner as cleaner"
   ]
  },
  {
   "cell_type": "code",
   "execution_count": 2,
   "metadata": {},
   "outputs": [],
   "source": [
    "home = pd.read_csv('./datasets/train.csv')\n",
    "home.columns = [col.lower().replace(' ', '_') for col in home.columns] #reformat df columns"
   ]
  },
  {
   "cell_type": "code",
   "execution_count": 8,
   "metadata": {},
   "outputs": [],
   "source": [
    "features = ['year_built', 'total_bsmt_sf', 'gr_liv_area', 'full_bath', 'lot_frontage',\n",
    "           'mas_vnr_area', 'totrms_abvgrd', 'fireplaces', 'bsmtfin_sf_1', 'garage',\n",
    "            'lot_area', 'wood_deck_sf', 'open_porch_sf', '2nd_flr_sf', 'bsmt_full_bath', 'half_bath',\n",
    "           'liv_tot']\n",
    "cat_features = ['ms_cat', 'bldg_type', 'st_cat', 'hs_cat', 'mas_cat', 'ex_cat', 'h_cat', 'k_cat', 'cen_cat', 'n_cat', \n",
    "                'overall_qual', 'nz']\n",
    "all_feat = cat_features + features"
   ]
  },
  {
   "cell_type": "code",
   "execution_count": 10,
   "metadata": {},
   "outputs": [
    {
     "name": "stdout",
     "output_type": "stream",
     "text": [
      "Your training score is 0.9123398390829967\n",
      "Your test score is 0.7619056268061724\n",
      "Your cross val scores are [0.89138191 0.90025678 0.88727284 0.90045931 0.8999233 ]\n",
      "Your mean cross val score is 0.8958588283121358\n"
     ]
    },
    {
     "data": {
      "image/png": "[encoded data removed]",
      "text/plain": [
       "<Figure size 432x288 with 1 Axes>"
      ]
     },
     "metadata": {
      "needs_background": "light"
     },
     "output_type": "display_data"
    },
    {
     "data": {
      "text/plain": [
       "'Your RMSE for test 2020-10-06 23:16:52.836324 is 0.14337281447342445.'"
      ]
     },
     "execution_count": 10,
     "metadata": {},
     "output_type": "execute_result"
    }
   ],
   "source": [
    "cleaner.make_model(home, all_feat, cat_features)"
   ]
  },
  {
   "cell_type": "code",
   "execution_count": 11,
   "metadata": {},
   "outputs": [
    {
     "name": "stdout",
     "output_type": "stream",
     "text": [
      "Your training score is 0.9117575497726158\n",
      "Your test score is 0.7721074370720897\n",
      "Your cross val scores are [0.89107177 0.90128829 0.88733681 0.89888718 0.89876284]\n",
      "Your mean cross val score is 0.8954693803473261\n"
     ]
    },
    {
     "data": {
      "image/png": "[encoded data removed]",
      "text/plain": [
       "<Figure size 432x288 with 1 Axes>"
      ]
     },
     "metadata": {
      "needs_background": "light"
     },
     "output_type": "display_data"
    },
    {
     "data": {
      "text/plain": [
       "'Your RMSE for test 2020-10-06 23:17:30.633676 is 0.14227643155638556.'"
      ]
     },
     "execution_count": 11,
     "metadata": {},
     "output_type": "execute_result"
    }
   ],
   "source": [
    "features = ['year_built', 'total_bsmt_sf', 'gr_liv_area', 'full_bath', 'lot_frontage',\n",
    "           'mas_vnr_area', 'totrms_abvgrd', 'fireplaces', 'bsmtfin_sf_1', 'garage',\n",
    "            'wood_deck_sf', 'open_porch_sf', '2nd_flr_sf', 'bsmt_full_bath', 'half_bath',\n",
    "           'liv_tot']\n",
    "cat_features = ['ms_cat', 'bldg_type', 'st_cat', 'hs_cat', 'mas_cat', 'ex_cat', 'h_cat', 'k_cat', 'cen_cat', 'n_cat', \n",
    "                'overall_qual', 'nz']\n",
    "all_feat = cat_features + features\n",
    "cleaner.make_model(home, all_feat, cat_features)"
   ]
  },
  {
   "cell_type": "code",
   "execution_count": 12,
   "metadata": {},
   "outputs": [
    {
     "name": "stdout",
     "output_type": "stream",
     "text": [
      "Your training score is 0.9116975166960088\n",
      "Your test score is 0.7208812551455394\n",
      "Your cross val scores are [0.89091455 0.90145005 0.88779234 0.89878048 0.89863923]\n",
      "Your mean cross val score is 0.8955153291435325\n"
     ]
    },
    {
     "data": {
      "image/png": "[encoded data removed]",
      "text/plain": [
       "<Figure size 432x288 with 1 Axes>"
      ]
     },
     "metadata": {
      "needs_background": "light"
     },
     "output_type": "display_data"
    },
    {
     "data": {
      "text/plain": [
       "'Your RMSE for test 2020-10-06 23:18:16.969456 is 0.14901522047084934.'"
      ]
     },
     "execution_count": 12,
     "metadata": {},
     "output_type": "execute_result"
    }
   ],
   "source": [
    "features = ['year_built', 'total_bsmt_sf', 'gr_liv_area', 'full_bath', 'lot_frontage',\n",
    "           'mas_vnr_area', 'totrms_abvgrd', 'fireplaces', 'bsmtfin_sf_1', 'garage',\n",
    "            'wood_deck_sf', 'open_porch_sf', '2nd_flr_sf', 'bsmt_full_bath', 'half_bath']\n",
    "cat_features = ['ms_cat', 'bldg_type', 'st_cat', 'hs_cat', 'mas_cat', 'ex_cat', 'h_cat', 'k_cat', 'cen_cat', 'n_cat', \n",
    "                'overall_qual', 'nz']\n",
    "all_feat = cat_features + features\n",
    "cleaner.make_model(home, all_feat, cat_features)"
   ]
  },
  {
   "cell_type": "code",
   "execution_count": 13,
   "metadata": {},
   "outputs": [
    {
     "name": "stdout",
     "output_type": "stream",
     "text": [
      "Your training score is 0.9119034297713443\n",
      "Your test score is 0.7258990583179361\n",
      "Your cross val scores are [0.89163997 0.89871825 0.88718324 0.9012604  0.89827737]\n",
      "Your mean cross val score is 0.8954158464830326\n"
     ]
    },
    {
     "data": {
      "image/png": "[encoded data removed]",
      "text/plain": [
       "<Figure size 432x288 with 1 Axes>"
      ]
     },
     "metadata": {
      "needs_background": "light"
     },
     "output_type": "display_data"
    },
    {
     "data": {
      "text/plain": [
       "'Your RMSE for test 2020-10-06 23:18:54.569462 is 0.14828043243813427.'"
      ]
     },
     "execution_count": 13,
     "metadata": {},
     "output_type": "execute_result"
    }
   ],
   "source": [
    "features = ['year_built', 'total_bsmt_sf', 'gr_liv_area', 'full_bath', 'lot_area',\n",
    "           'mas_vnr_area', 'totrms_abvgrd', 'fireplaces', 'bsmtfin_sf_1', 'garage',\n",
    "            'wood_deck_sf', 'open_porch_sf', '2nd_flr_sf', 'bsmt_full_bath', 'half_bath']\n",
    "cat_features = ['ms_cat', 'bldg_type', 'st_cat', 'hs_cat', 'mas_cat', 'ex_cat', 'h_cat', 'k_cat', 'cen_cat', 'n_cat', \n",
    "                'overall_qual', 'nz']\n",
    "all_feat = cat_features + features\n",
    "cleaner.make_model(home, all_feat, cat_features)"
   ]
  },
  {
   "cell_type": "code",
   "execution_count": 14,
   "metadata": {},
   "outputs": [
    {
     "name": "stdout",
     "output_type": "stream",
     "text": [
      "Your training score is 0.9119034297713443\n",
      "Your test score is 0.7258990583178908\n",
      "Your cross val scores are [0.89163997 0.89871825 0.88718324 0.9012604  0.89827737]\n",
      "Your mean cross val score is 0.8954158464830375\n"
     ]
    },
    {
     "data": {
      "image/png": "[encoded data removed]",
      "text/plain": [
       "<Figure size 432x288 with 1 Axes>"
      ]
     },
     "metadata": {
      "needs_background": "light"
     },
     "output_type": "display_data"
    },
    {
     "data": {
      "text/plain": [
       "'Your RMSE for test 2020-10-06 23:20:05.474249 is 0.1482804324381401.'"
      ]
     },
     "execution_count": 14,
     "metadata": {},
     "output_type": "execute_result"
    }
   ],
   "source": [
    "features = ['year_built', 'total_bsmt_sf', 'gr_liv_area', 'full_bath', 'lot_area',\n",
    "           'mas_vnr_area', 'totrms_abvgrd', 'fireplaces', 'bsmtfin_sf_1', 'garage',\n",
    "            'wood_deck_sf', 'open_porch_sf', '2nd_flr_sf', 'bsmt_full_bath', 'half_bath', 'cen_cat']\n",
    "cat_features = ['ms_cat', 'bldg_type', 'st_cat', 'hs_cat', 'mas_cat', 'ex_cat', 'h_cat', 'k_cat', 'n_cat', \n",
    "                'overall_qual', 'nz']\n",
    "all_feat = cat_features + features\n",
    "cleaner.make_model(home, all_feat, cat_features)"
   ]
  },
  {
   "cell_type": "code",
   "execution_count": 15,
   "metadata": {},
   "outputs": [
    {
     "name": "stdout",
     "output_type": "stream",
     "text": [
      "Your training score is 0.9082737643837584\n",
      "Your test score is 0.7315789411045601\n",
      "Your cross val scores are [0.88866625 0.89852747 0.87938771 0.90180901 0.89080806]\n",
      "Your mean cross val score is 0.8918397004690931\n"
     ]
    },
    {
     "data": {
      "image/png": "[encoded data removed]",
      "text/plain": [
       "<Figure size 432x288 with 1 Axes>"
      ]
     },
     "metadata": {
      "needs_background": "light"
     },
     "output_type": "display_data"
    },
    {
     "data": {
      "text/plain": [
       "'Your RMSE for test 2020-10-06 23:21:07.503368 is 0.14914818261954793.'"
      ]
     },
     "execution_count": 15,
     "metadata": {},
     "output_type": "execute_result"
    }
   ],
   "source": [
    "features = ['year_built', 'total_bsmt_sf', 'gr_liv_area', 'full_bath', 'lot_area',\n",
    "           'mas_vnr_area', 'totrms_abvgrd', 'fireplaces', 'bsmtfin_sf_1', 'garage',\n",
    "            'wood_deck_sf', 'open_porch_sf', '2nd_flr_sf', 'bsmt_full_bath', 'half_bath', 'cen_cat']\n",
    "cat_features = ['ms_cat', 'bldg_type', 'st_cat', 'hs_cat', 'mas_cat', 'ex_cat', 'h_cat', 'k_cat', 'n_cat', \n",
    "                'overall_qual']\n",
    "all_feat = cat_features + features\n",
    "cleaner.make_model(home, all_feat, cat_features)"
   ]
  },
  {
   "cell_type": "code",
   "execution_count": null,
   "metadata": {},
   "outputs": [],
   "source": [
    "features = ['year_built', 'total_bsmt_sf', 'gr_liv_area', 'full_bath', 'lot_area',\n",
    "           'mas_vnr_area', 'totrms_abvgrd', 'fireplaces', 'bsmtfin_sf_1', 'garage',\n",
    "            'wood_deck_sf', 'open_porch_sf', '2nd_flr_sf', 'bsmt_full_bath', 'half_bath', 'cen_cat']\n",
    "cat_features = ['ms_cat', 'bldg_type', 'st_cat', 'hs_cat', 'mas_cat', 'ex_cat', 'h_cat', 'k_cat', 'n_cat', \n",
    "                'overall_qual']\n",
    "all_feat = cat_features + features\n",
    "cleaner.make_model(home, all_feat, cat_features)"
   ]
  },
  {
   "cell_type": "code",
   "execution_count": 16,
   "metadata": {},
   "outputs": [
    {
     "name": "stdout",
     "output_type": "stream",
     "text": [
      "Your training score is 0.9042474568237128\n",
      "Your test score is 0.7669030838479207\n",
      "Your cross val scores are [0.87499682 0.90348435 0.86971877 0.89535329 0.90632191]\n",
      "Your mean cross val score is 0.8899750275790541\n"
     ]
    },
    {
     "data": {
      "image/png": "[encoded data removed]",
      "text/plain": [
       "<Figure size 432x288 with 1 Axes>"
      ]
     },
     "metadata": {
      "needs_background": "light"
     },
     "output_type": "display_data"
    },
    {
     "data": {
      "text/plain": [
       "'Your RMSE for test 2020-10-06 23:23:14.190704 is 0.14636858998040217.'"
      ]
     },
     "execution_count": 16,
     "metadata": {},
     "output_type": "execute_result"
    }
   ],
   "source": [
    "features = ['overall_qual', 'year_built', 'total_bsmt_sf', 'gr_liv_area', 'full_bath', 'garage_area',\n",
    "           'mas_vnr_area', 'totrms_abvgrd', 'fireplaces', 'bsmtfin_sf_1', 'oqual_gla', 'garage', 'liv_tot', \n",
    "            'lot_frontage', 'lot_area', 'wood_deck_sf', 'open_porch_sf', '2nd_flr_sf', 'bsmt_full_bath', 'half_bath']\n",
    "cat_features = ['ms_cat', 'bldg_type', 'st_cat', 'hs_cat', 'mas_cat', 'ex_cat', 'h_cat', 'k_cat', 'cen_cat', 'n_cat']\n",
    "all_feat = cat_features + features\n",
    "cleaner.make_model(home, all_feat, cat_features) #THIS IS MY BEST MODEL (ON KAGGLE) SO FAR"
   ]
  },
  {
   "cell_type": "code",
   "execution_count": 17,
   "metadata": {},
   "outputs": [
    {
     "name": "stdout",
     "output_type": "stream",
     "text": [
      "Your training score is 0.906489425108824\n",
      "Your test score is 0.7717966029555676\n",
      "Your cross val scores are [0.87655999 0.90446006 0.87440436 0.89401491 0.90851112]\n",
      "Your mean cross val score is 0.8915900891979046\n"
     ]
    },
    {
     "data": {
      "image/png": "[encoded data removed]",
      "text/plain": [
       "<Figure size 432x288 with 1 Axes>"
      ]
     },
     "metadata": {
      "needs_background": "light"
     },
     "output_type": "display_data"
    },
    {
     "data": {
      "text/plain": [
       "'Your RMSE for test 2020-10-06 23:25:29.535437 is 0.14471931265459956.'"
      ]
     },
     "execution_count": 17,
     "metadata": {},
     "output_type": "execute_result"
    }
   ],
   "source": [
    "features = ['overall_qual', 'year_built', 'total_bsmt_sf', 'gr_liv_area', 'full_bath', 'garage_area',\n",
    "           'mas_vnr_area', 'totrms_abvgrd', 'fireplaces', 'bsmtfin_sf_1', 'oqual_gla', 'garage', 'liv_tot', \n",
    "            'lot_frontage', 'lot_area', 'wood_deck_sf', 'open_porch_sf', '2nd_flr_sf', 'bsmt_full_bath', 'half_bath']\n",
    "cat_features = ['bldg_type', 'st_cat', 'hs_cat', 'mas_cat', 'ex_cat', 'h_cat', 'k_cat', 'cen_cat', 'nz'] #using nz instead of n_cat and ms\n",
    "all_feat = cat_features + features\n",
    "cleaner.make_model(home, all_feat, cat_features)"
   ]
  },
  {
   "cell_type": "code",
   "execution_count": 18,
   "metadata": {},
   "outputs": [
    {
     "name": "stdout",
     "output_type": "stream",
     "text": [
      "Your R2 score is 0.9046768749066646\n",
      "     Id      SalePrice\n",
      "0  2658  104409.003613\n",
      "1  2718  145561.968704\n",
      "2  2414  183558.219646\n",
      "3  1989  102649.420874\n",
      "4   625  178999.078862\n"
     ]
    },
    {
     "name": "stdin",
     "output_type": "stream",
     "text": [
      "Save data? Please enter \"yes\" or \"no\". yes\n"
     ]
    },
    {
     "data": {
      "text/plain": [
       "'All done, submission 20201006232625.478118 saved'"
      ]
     },
     "execution_count": 18,
     "metadata": {},
     "output_type": "execute_result"
    }
   ],
   "source": [
    "features = ['overall_qual', 'year_built', 'total_bsmt_sf', 'gr_liv_area', 'full_bath', 'garage_area',\n",
    "           'mas_vnr_area', 'totrms_abvgrd', 'fireplaces', 'bsmtfin_sf_1', 'oqual_gla', 'garage', 'liv_tot', \n",
    "            'lot_frontage', 'lot_area', 'wood_deck_sf', 'open_porch_sf', '2nd_flr_sf', 'bsmt_full_bath', 'half_bath']\n",
    "cat_features = ['bldg_type', 'st_cat', 'hs_cat', 'mas_cat', 'ex_cat', 'h_cat', 'k_cat', 'cen_cat', 'nz'] #using nz instead of n_cat and ms\n",
    "all_feat = cat_features + features\n",
    "cleaner.save_test(home, all_feat, cat_features)"
   ]
  },
  {
   "cell_type": "code",
   "execution_count": 21,
   "metadata": {},
   "outputs": [
    {
     "name": "stdout",
     "output_type": "stream",
     "text": [
      "Your R2 score is 0.9027204647067768\n",
      "     Id      SalePrice\n",
      "0  2658  104134.924891\n",
      "1  2718  152686.570744\n",
      "2  2414  204605.825750\n",
      "3  1989  102580.214875\n",
      "4   625  174356.066396\n"
     ]
    },
    {
     "name": "stdin",
     "output_type": "stream",
     "text": [
      "Save data? Please enter \"yes\" or \"no\". yes\n"
     ]
    },
    {
     "data": {
      "text/plain": [
       "'All done, submission 20201006233328.350324 saved'"
      ]
     },
     "execution_count": 21,
     "metadata": {},
     "output_type": "execute_result"
    }
   ],
   "source": [
    "features = ['overall_qual', 'year_built', 'total_bsmt_sf', 'gr_liv_area', 'full_bath', 'garage_area',\n",
    "           'mas_vnr_area', 'totrms_abvgrd', 'fireplaces', 'bsmtfin_sf_1', 'oqual_gla', 'garage', 'liv_tot', \n",
    "            'lot_frontage', 'lot_area', 'wood_deck_sf', 'open_porch_sf', '2nd_flr_sf', 'bsmt_full_bath', 'half_bath']\n",
    "cat_features = ['ms_cat', 'bldg_type', 'st_cat', 'hs_cat', 'mas_cat', 'ex_cat', 'h_cat', 'k_cat', 'cen_cat', 'n_cat']\n",
    "all_feat = cat_features + features\n",
    "cleaner.save_test(home, all_feat, cat_features) #THIS IS MY BEST SCORE TO DATE (20201006233328.350324)"
   ]
  }
 ],
 "metadata": {
  "kernelspec": {
   "display_name": "Python 3",
   "language": "python",
   "name": "python3"
  },
  "language_info": {
   "codemirror_mode": {
    "name": "ipython",
    "version": 3
   },
   "file_extension": ".py",
   "mimetype": "text/x-python",
   "name": "python",
   "nbconvert_exporter": "python",
   "pygments_lexer": "ipython3",
   "version": "3.8.3"
  }
 },
 "nbformat": 4,
 "nbformat_minor": 4
}
