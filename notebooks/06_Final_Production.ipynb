{
 "cells": [
  {
   "cell_type": "markdown",
   "metadata": {},
   "source": [
    "# 06 Final Production"
   ]
  },
  {
   "cell_type": "markdown",
   "metadata": {},
   "source": [
    "This notebook was my last - it incorporated the functions stored in my cleaner.py file, the cumulative research from the numerical and categorical filtering notebooks, and the trial and error gleaned from my first train/test notebook.  \n",
    "\n",
    "All of the functions that I ran are commented out now to eliminate re-running them - this is for both brevity and the fact that my functions actually require responses via an \"input()\" line and I would not trouble my esteemed reader with making such decisions. The final make_model will run when this notebook is made because it corresponds to my best model. When given the prompt to \"save\" the image, have no fear if you choose to enter 'yes'. The image will automatically save named after the current timestamp, so you will not be overwriting anything in my repository.\n",
    "\n",
    "#### Skip to the:  \n",
    "[Best Model](#Best-Model)  \n",
    "[Conclusion](#Conclusion)"
   ]
  },
  {
   "cell_type": "code",
   "execution_count": 2,
   "metadata": {},
   "outputs": [],
   "source": [
    "from scipy.stats import ttest_ind\n",
    "import pandas as pd\n",
    "import numpy as np\n",
    "from scipy import stats\n",
    "import seaborn as sns\n",
    "import matplotlib.pyplot as plt\n",
    "import re\n",
    "#week 3\n",
    "from sklearn.linear_model import LinearRegression\n",
    "from sklearn import metrics\n",
    "import statsmodels.api as sm\n",
    "from sklearn.model_selection import train_test_split, cross_val_score\n",
    "from sklearn.preprocessing import StandardScaler, PolynomialFeatures\n",
    "#week 4\n",
    "from sklearn.linear_model import LogisticRegression\n",
    "\n",
    "#my .py file\n",
    "import cleaner as cleaner"
   ]
  },
  {
   "cell_type": "code",
   "execution_count": 3,
   "metadata": {},
   "outputs": [],
   "source": [
    "home = pd.read_csv('../datasets/train.csv')\n",
    "home.columns = [col.lower().replace(' ', '_') for col in home.columns] #reformat df columns"
   ]
  },
  {
   "cell_type": "markdown",
   "metadata": {},
   "source": [
    "### These are various feature combinations that I experimented with.  \n",
    "The make_model() and save_test() functions are commented out for the benefit of the reader to streamline scrolling - the production model is at the bottom and will run if the page is run."
   ]
  },
  {
   "cell_type": "code",
   "execution_count": 4,
   "metadata": {},
   "outputs": [],
   "source": [
    "features = ['year_built', 'total_bsmt_sf', 'gr_liv_area', 'full_bath', 'lot_frontage',\n",
    "           'mas_vnr_area', 'totrms_abvgrd', 'fireplaces', 'bsmtfin_sf_1', 'garage',\n",
    "            'lot_area', 'wood_deck_sf', 'open_porch_sf', '2nd_flr_sf', 'bsmt_full_bath', 'half_bath',\n",
    "           'liv_tot']\n",
    "cat_features = ['ms_cat', 'bldg_type', 'st_cat', 'hs_cat', 'mas_cat', 'ex_cat', 'h_cat', 'k_cat', 'cen_cat', 'n_cat', \n",
    "                'overall_qual', 'nz']\n",
    "all_feat = cat_features + features"
   ]
  },
  {
   "cell_type": "code",
   "execution_count": 5,
   "metadata": {},
   "outputs": [],
   "source": [
    "#cleaner.make_model(home, all_feat, cat_features)"
   ]
  },
  {
   "cell_type": "code",
   "execution_count": 6,
   "metadata": {},
   "outputs": [],
   "source": [
    "features = ['year_built', 'total_bsmt_sf', 'gr_liv_area', 'full_bath', 'lot_frontage',\n",
    "           'mas_vnr_area', 'totrms_abvgrd', 'fireplaces', 'bsmtfin_sf_1', 'garage',\n",
    "            'wood_deck_sf', 'open_porch_sf', '2nd_flr_sf', 'bsmt_full_bath', 'half_bath',\n",
    "           'liv_tot']\n",
    "cat_features = ['ms_cat', 'bldg_type', 'st_cat', 'hs_cat', 'mas_cat', 'ex_cat', 'h_cat', 'k_cat', 'cen_cat', 'n_cat', \n",
    "                'overall_qual', 'nz']\n",
    "all_feat = cat_features + features\n",
    "#cleaner.make_model(home, all_feat, cat_features)"
   ]
  },
  {
   "cell_type": "code",
   "execution_count": 7,
   "metadata": {},
   "outputs": [],
   "source": [
    "features = ['year_built', 'total_bsmt_sf', 'gr_liv_area', 'full_bath', 'lot_frontage',\n",
    "           'mas_vnr_area', 'totrms_abvgrd', 'fireplaces', 'bsmtfin_sf_1', 'garage',\n",
    "            'wood_deck_sf', 'open_porch_sf', '2nd_flr_sf', 'bsmt_full_bath', 'half_bath']\n",
    "cat_features = ['ms_cat', 'bldg_type', 'st_cat', 'hs_cat', 'mas_cat', 'ex_cat', 'h_cat', 'k_cat', 'cen_cat', 'n_cat', \n",
    "                'overall_qual', 'nz']\n",
    "all_feat = cat_features + features\n",
    "#cleaner.make_model(home, all_feat, cat_features)"
   ]
  },
  {
   "cell_type": "code",
   "execution_count": 8,
   "metadata": {},
   "outputs": [],
   "source": [
    "features = ['year_built', 'total_bsmt_sf', 'gr_liv_area', 'full_bath', 'lot_area',\n",
    "           'mas_vnr_area', 'totrms_abvgrd', 'fireplaces', 'bsmtfin_sf_1', 'garage',\n",
    "            'wood_deck_sf', 'open_porch_sf', '2nd_flr_sf', 'bsmt_full_bath', 'half_bath']\n",
    "cat_features = ['ms_cat', 'bldg_type', 'st_cat', 'hs_cat', 'mas_cat', 'ex_cat', 'h_cat', 'k_cat', 'cen_cat', 'n_cat', \n",
    "                'overall_qual', 'nz']\n",
    "all_feat = cat_features + features\n",
    "#cleaner.make_model(home, all_feat, cat_features)"
   ]
  },
  {
   "cell_type": "code",
   "execution_count": 9,
   "metadata": {},
   "outputs": [],
   "source": [
    "features = ['year_built', 'total_bsmt_sf', 'gr_liv_area', 'full_bath', 'lot_area',\n",
    "           'mas_vnr_area', 'totrms_abvgrd', 'fireplaces', 'bsmtfin_sf_1', 'garage',\n",
    "            'wood_deck_sf', 'open_porch_sf', '2nd_flr_sf', 'bsmt_full_bath', 'half_bath', 'cen_cat']\n",
    "cat_features = ['ms_cat', 'bldg_type', 'st_cat', 'hs_cat', 'mas_cat', 'ex_cat', 'h_cat', 'k_cat', 'n_cat', \n",
    "                'overall_qual', 'nz']\n",
    "all_feat = cat_features + features\n",
    "#cleaner.make_model(home, all_feat, cat_features)"
   ]
  },
  {
   "cell_type": "code",
   "execution_count": 10,
   "metadata": {},
   "outputs": [],
   "source": [
    "features = ['year_built', 'total_bsmt_sf', 'gr_liv_area', 'full_bath', 'lot_area',\n",
    "           'mas_vnr_area', 'totrms_abvgrd', 'fireplaces', 'bsmtfin_sf_1', 'garage',\n",
    "            'wood_deck_sf', 'open_porch_sf', '2nd_flr_sf', 'bsmt_full_bath', 'half_bath', 'cen_cat']\n",
    "cat_features = ['ms_cat', 'bldg_type', 'st_cat', 'hs_cat', 'mas_cat', 'ex_cat', 'h_cat', 'k_cat', 'n_cat', \n",
    "                'overall_qual']\n",
    "all_feat = cat_features + features\n",
    "#cleaner.make_model(home, all_feat, cat_features)"
   ]
  },
  {
   "cell_type": "code",
   "execution_count": 11,
   "metadata": {},
   "outputs": [],
   "source": [
    "features = ['year_built', 'total_bsmt_sf', 'gr_liv_area', 'full_bath', 'lot_area',\n",
    "           'mas_vnr_area', 'totrms_abvgrd', 'fireplaces', 'bsmtfin_sf_1', 'garage',\n",
    "            'wood_deck_sf', 'open_porch_sf', '2nd_flr_sf', 'bsmt_full_bath', 'half_bath', 'cen_cat']\n",
    "cat_features = ['ms_cat', 'bldg_type', 'st_cat', 'hs_cat', 'mas_cat', 'ex_cat', 'h_cat', 'k_cat', 'n_cat', \n",
    "                'overall_qual']\n",
    "all_feat = cat_features + features\n",
    "#cleaner.make_model(home, all_feat, cat_features)"
   ]
  },
  {
   "cell_type": "code",
   "execution_count": 12,
   "metadata": {},
   "outputs": [],
   "source": [
    "features = ['overall_qual', 'year_built', 'total_bsmt_sf', 'gr_liv_area', 'full_bath', 'garage_area',\n",
    "           'mas_vnr_area', 'totrms_abvgrd', 'fireplaces', 'bsmtfin_sf_1', 'oqual_gla', 'garage', 'liv_tot', \n",
    "            'lot_frontage', 'lot_area', 'wood_deck_sf', 'open_porch_sf', '2nd_flr_sf', 'bsmt_full_bath', 'half_bath']\n",
    "cat_features = ['ms_cat', 'bldg_type', 'st_cat', 'hs_cat', 'mas_cat', 'ex_cat', 'h_cat', 'k_cat', 'cen_cat', 'n_cat']\n",
    "all_feat = cat_features + features\n",
    "#cleaner.make_model(home, all_feat, cat_features) #THIS IS MY BEST MODEL (ON KAGGLE) SO FAR (10/6)"
   ]
  },
  {
   "cell_type": "code",
   "execution_count": 13,
   "metadata": {},
   "outputs": [],
   "source": [
    "features = ['overall_qual', 'year_built', 'total_bsmt_sf', 'gr_liv_area', 'full_bath', 'garage_area',\n",
    "           'mas_vnr_area', 'totrms_abvgrd', 'fireplaces', 'bsmtfin_sf_1', 'oqual_gla', 'garage', 'liv_tot', \n",
    "            'lot_frontage', 'lot_area', 'wood_deck_sf', 'open_porch_sf', '2nd_flr_sf', 'bsmt_full_bath', 'half_bath']\n",
    "cat_features = ['bldg_type', 'st_cat', 'hs_cat', 'mas_cat', 'ex_cat', 'h_cat', 'k_cat', 'cen_cat', 'nz'] #using nz instead of n_cat and ms\n",
    "all_feat = cat_features + features\n",
    "#cleaner.make_model(home, all_feat, cat_features)"
   ]
  },
  {
   "cell_type": "code",
   "execution_count": 14,
   "metadata": {},
   "outputs": [],
   "source": [
    "features = ['overall_qual', 'year_built', 'total_bsmt_sf', 'gr_liv_area', 'full_bath', 'garage_area',\n",
    "           'mas_vnr_area', 'totrms_abvgrd', 'fireplaces', 'bsmtfin_sf_1', 'oqual_gla', 'garage', 'liv_tot', \n",
    "            'lot_frontage', 'lot_area', 'wood_deck_sf', 'open_porch_sf', '2nd_flr_sf', 'bsmt_full_bath', 'half_bath']\n",
    "cat_features = ['bldg_type', 'st_cat', 'hs_cat', 'mas_cat', 'ex_cat', 'h_cat', 'k_cat', 'cen_cat', 'nz'] #using nz instead of n_cat and ms\n",
    "all_feat = cat_features + features\n",
    "#cleaner.save_test(home, all_feat, cat_features)"
   ]
  },
  {
   "cell_type": "code",
   "execution_count": 15,
   "metadata": {},
   "outputs": [],
   "source": [
    "features = ['overall_qual', 'year_built', 'total_bsmt_sf', 'gr_liv_area', 'full_bath', 'garage_area',\n",
    "           'mas_vnr_area', 'totrms_abvgrd', 'fireplaces', 'bsmtfin_sf_1', 'oqual_gla', 'garage', 'liv_tot', \n",
    "            'lot_frontage', 'lot_area', 'wood_deck_sf', 'open_porch_sf', '2nd_flr_sf', 'bsmt_full_bath', 'half_bath']\n",
    "cat_features = ['ms_cat', 'bldg_type', 'st_cat', 'hs_cat', 'mas_cat', 'ex_cat', 'h_cat', 'k_cat', 'cen_cat', 'n_cat']\n",
    "all_feat = cat_features + features\n",
    "#cleaner.save_test(home, all_feat, cat_features) #THIS IS MY BEST K SCORE TO DATE (20201006233328.350324 - RMSE 22986.486)"
   ]
  },
  {
   "cell_type": "code",
   "execution_count": 16,
   "metadata": {},
   "outputs": [],
   "source": [
    "features = ['overall_qual', 'year_built', 'total_bsmt_sf', 'gr_liv_area', 'full_bath', 'garage_area',\n",
    "           'mas_vnr_area', 'totrms_abvgrd', 'fireplaces', 'bsmtfin_sf_1', 'oqual_gla', 'garage', 'liv_tot', \n",
    "            'lot_frontage', 'lot_area', 'wood_deck_sf', 'open_porch_sf', '2nd_flr_sf', 'bsmt_full_bath', 'half_bath',\n",
    "           'cen_cat', 'h_cat', 'k_cat', 'ex_cat']\n",
    "#cat_features = ['bldg_type', 'st_cat', 'hs_cat', 'mas_cat', 'ex_cat', 'h_cat', 'k_cat', 'cen_cat', 'nz'] #using nz instead of n_cat and ms\n",
    "all_feat = cat_features + features\n",
    "#cleaner.make_model(home, all_feat, 0) #all numerical test including converted cat features"
   ]
  },
  {
   "cell_type": "code",
   "execution_count": 17,
   "metadata": {},
   "outputs": [],
   "source": [
    "#cleaner.save_test(home, all_feat, 0)"
   ]
  },
  {
   "cell_type": "markdown",
   "metadata": {},
   "source": [
    "## Best Model"
   ]
  },
  {
   "cell_type": "markdown",
   "metadata": {},
   "source": [
    "### Again - when prompted by this function to enter \"yes\" or \"no\", feel free to enter either response. You are not in danger of overwriting anything, and you will get all the same metrics displayed either way."
   ]
  },
  {
   "cell_type": "code",
   "execution_count": 18,
   "metadata": {},
   "outputs": [
    {
     "name": "stdout",
     "output_type": "stream",
     "text": [
      "Your training score is 0.9069301315221101\n",
      "Your test score is 0.7919379449620012\n",
      "Your cross val scores are [0.87648499 0.8977872  0.90223774 0.86810159 0.92034896]\n",
      "Your mean cross val score is 0.8929920960944742\n"
     ]
    },
    {
     "name": "stdin",
     "output_type": "stream",
     "text": [
      "Save histogram? Please enter \"yes\" or \"no\". no\n"
     ]
    },
    {
     "name": "stdout",
     "output_type": "stream",
     "text": [
      "okay, not saved\n"
     ]
    },
    {
     "data": {
      "image/png": "[encoded data removed]",
      "text/plain": [
       "<Figure size 1440x720 with 1 Axes>"
      ]
     },
     "metadata": {
      "needs_background": "light"
     },
     "output_type": "display_data"
    },
    {
     "name": "stdout",
     "output_type": "stream",
     "text": [
      "|                      |     coef |   coef_abs |\n",
      "|:---------------------|---------:|-----------:|\n",
      "| ms_cat_ms3           | 0.320036 |   0.320036 |\n",
      "| ms_cat_other         | 0.304347 |   0.304347 |\n",
      "| ms_cat_ms2           | 0.298745 |   0.298745 |\n",
      "| ms_cat_ms4           | 0.276961 |   0.276961 |\n",
      "| ex_cat_2             | 0.212645 |   0.212645 |\n",
      "| k_cat_3              | 0.192331 |   0.192331 |\n",
      "| h_cat_3              | 0.186971 |   0.186971 |\n",
      "| h_cat_2              | 0.182866 |   0.182866 |\n",
      "| ex_cat_1             | 0.174848 |   0.174848 |\n",
      "| neighborhood_StoneBr | 0.138507 |   0.138507 |\n"
     ]
    },
    {
     "data": {
      "text/plain": [
       "'Your RMSE for test 2020-10-09 15:38:32.470927 is 43220.43296864446.'"
      ]
     },
     "execution_count": 18,
     "metadata": {},
     "output_type": "execute_result"
    }
   ],
   "source": [
    "features = ['overall_qual', 'year_built', 'total_bsmt_sf', 'gr_liv_area', 'full_bath', 'garage_area',\n",
    "           'mas_vnr_area', 'totrms_abvgrd', 'fireplaces', 'bsmtfin_sf_1', 'oqual_gla', 'garage', 'liv_tot', \n",
    "            'lot_frontage', 'lot_area', 'wood_deck_sf', 'open_porch_sf', '2nd_flr_sf', 'bsmt_full_bath', 'half_bath']\n",
    "cat_features = ['ms_cat', 'bldg_type', 'st_cat', 'hs_cat', 'mas_cat', 'ex_cat', 'h_cat', 'k_cat', 'cen_cat', 'neighborhood']\n",
    "all_feat = cat_features + features #testing with neighborhood instead of n_cat\n",
    "cleaner.make_model(home, all_feat, cat_features)"
   ]
  },
  {
   "cell_type": "code",
   "execution_count": 19,
   "metadata": {},
   "outputs": [],
   "source": [
    "#cleaner.save_test(home, all_feat, cat_features) #new best, 10/7"
   ]
  },
  {
   "cell_type": "markdown",
   "metadata": {},
   "source": [
    "That dropped me another 200 points on Kaggle! Test name \"20201007190947.002019\", RMSE score 22783.65"
   ]
  },
  {
   "cell_type": "markdown",
   "metadata": {},
   "source": [
    "## Conclusion\n",
    "\n",
    "It is evident from the coefficient table that Zoning, Kitchen Quality, Heating, External Condition, and to a lesser extent Neighborhood have important correlations to sale price that IOWANAHOME realtors would be wise to consider. By noting these features in potential homes for sale and encouraging selling clients to touch up these features, or by telling purchasing clients to prioritize these features with an eye on resale, the organization can bring a higher level of value and expertise to all of their business interactions."
   ]
  }
 ],
 "metadata": {
  "kernelspec": {
   "display_name": "Python 3",
   "language": "python",
   "name": "python3"
  },
  "language_info": {
   "codemirror_mode": {
    "name": "ipython",
    "version": 3
   },
   "file_extension": ".py",
   "mimetype": "text/x-python",
   "name": "python",
   "nbconvert_exporter": "python",
   "pygments_lexer": "ipython3",
   "version": "3.8.3"
  }
 },
 "nbformat": 4,
 "nbformat_minor": 4
}
