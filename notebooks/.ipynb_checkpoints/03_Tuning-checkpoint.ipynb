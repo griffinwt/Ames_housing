{
 "cells": [
  {
   "cell_type": "markdown",
   "metadata": {},
   "source": [
    "# 03 Tuning  \n",
    "This notebook housed my first attempts to combine the separately explored numerical and categorical features from notebooks 1 and 2.  \n",
    "\n",
    "### Skip ahead:\n",
    "[Model 1](#Model-1)  \n",
    "[Model 2](#Model-2)  \n",
    "[Model 3](#Model-3) (First categorical features)  \n",
    "[Model 4](#Model-4)  \n",
    "[Model 5](#Model-5)  \n",
    "[Model 6](#Model-6)  \n",
    "[Model 7](#Model-7)  \n",
    "[Model 8](#Model-8) (Polynomial transformation)  \n",
    "[Model 9](#Model-9) (Log transformation)  \n",
    "[Model 10](#Model-10)  \n",
    "[Model 11](#Model-11)  \n",
    "[Model 12](#Model-12)  \n",
    "[Model 13](#Model-13)  \n",
    "[Model 14](#Model-14)  \n",
    "[Model 15](#Model-15)  \n",
    "[Model 16](#Model-16) (Enter the .PY file)  \n",
    "[To Production!](#To-Production!) (Epilogue)"
   ]
  },
  {
   "cell_type": "code",
   "execution_count": 102,
   "metadata": {},
   "outputs": [],
   "source": [
    "from scipy.stats import ttest_ind\n",
    "import pandas as pd\n",
    "import numpy as np\n",
    "from scipy import stats\n",
    "import seaborn as sns\n",
    "import matplotlib.pyplot as plt\n",
    "import re\n",
    "from sklearn.linear_model import LinearRegression\n",
    "from sklearn import metrics\n",
    "import statsmodels.api as sm\n",
    "from sklearn.model_selection import train_test_split, cross_val_score\n",
    "from sklearn.preprocessing import StandardScaler, PolynomialFeatures\n"
   ]
  },
  {
   "cell_type": "code",
   "execution_count": 103,
   "metadata": {},
   "outputs": [],
   "source": [
    "home = pd.read_csv('../datasets/train.csv')"
   ]
  },
  {
   "cell_type": "markdown",
   "metadata": {},
   "source": [
    "In order to make sorting / calling / organizing easier, I'm going to make all columns lowercase and remove spaces."
   ]
  },
  {
   "cell_type": "code",
   "execution_count": 104,
   "metadata": {},
   "outputs": [],
   "source": [
    "home.columns = [col.lower().replace(' ', '_') for col in home.columns]"
   ]
  },
  {
   "cell_type": "code",
   "execution_count": 105,
   "metadata": {},
   "outputs": [
    {
     "data": {
      "text/html": [
       "<div>\n",
       "<style scoped>\n",
       "    .dataframe tbody tr th:only-of-type {\n",
       "        vertical-align: middle;\n",
       "    }\n",
       "\n",
       "    .dataframe tbody tr th {\n",
       "        vertical-align: top;\n",
       "    }\n",
       "\n",
       "    .dataframe thead th {\n",
       "        text-align: right;\n",
       "    }\n",
       "</style>\n",
       "<table border=\"1\" class=\"dataframe\">\n",
       "  <thead>\n",
       "    <tr style=\"text-align: right;\">\n",
       "      <th></th>\n",
       "      <th>id</th>\n",
       "      <th>pid</th>\n",
       "      <th>ms_subclass</th>\n",
       "      <th>ms_zoning</th>\n",
       "      <th>lot_frontage</th>\n",
       "      <th>lot_area</th>\n",
       "      <th>street</th>\n",
       "      <th>alley</th>\n",
       "      <th>lot_shape</th>\n",
       "      <th>land_contour</th>\n",
       "      <th>...</th>\n",
       "      <th>screen_porch</th>\n",
       "      <th>pool_area</th>\n",
       "      <th>pool_qc</th>\n",
       "      <th>fence</th>\n",
       "      <th>misc_feature</th>\n",
       "      <th>misc_val</th>\n",
       "      <th>mo_sold</th>\n",
       "      <th>yr_sold</th>\n",
       "      <th>sale_type</th>\n",
       "      <th>saleprice</th>\n",
       "    </tr>\n",
       "  </thead>\n",
       "  <tbody>\n",
       "    <tr>\n",
       "      <th>0</th>\n",
       "      <td>109</td>\n",
       "      <td>533352170</td>\n",
       "      <td>60</td>\n",
       "      <td>RL</td>\n",
       "      <td>NaN</td>\n",
       "      <td>13517</td>\n",
       "      <td>Pave</td>\n",
       "      <td>NaN</td>\n",
       "      <td>IR1</td>\n",
       "      <td>Lvl</td>\n",
       "      <td>...</td>\n",
       "      <td>0</td>\n",
       "      <td>0</td>\n",
       "      <td>NaN</td>\n",
       "      <td>NaN</td>\n",
       "      <td>NaN</td>\n",
       "      <td>0</td>\n",
       "      <td>3</td>\n",
       "      <td>2010</td>\n",
       "      <td>WD</td>\n",
       "      <td>130500</td>\n",
       "    </tr>\n",
       "  </tbody>\n",
       "</table>\n",
       "<p>1 rows × 81 columns</p>\n",
       "</div>"
      ],
      "text/plain": [
       "    id        pid  ms_subclass ms_zoning  lot_frontage  lot_area street alley  \\\n",
       "0  109  533352170           60        RL           NaN     13517   Pave   NaN   \n",
       "\n",
       "  lot_shape land_contour  ... screen_porch pool_area pool_qc fence  \\\n",
       "0       IR1          Lvl  ...            0         0     NaN   NaN   \n",
       "\n",
       "  misc_feature misc_val mo_sold yr_sold  sale_type  saleprice  \n",
       "0          NaN        0       3    2010        WD      130500  \n",
       "\n",
       "[1 rows x 81 columns]"
      ]
     },
     "execution_count": 105,
     "metadata": {},
     "output_type": "execute_result"
    }
   ],
   "source": [
    "home.head(1)"
   ]
  },
  {
   "cell_type": "markdown",
   "metadata": {},
   "source": [
    "Okay, that looks good!"
   ]
  },
  {
   "cell_type": "markdown",
   "metadata": {},
   "source": [
    "## Model 1"
   ]
  },
  {
   "cell_type": "markdown",
   "metadata": {},
   "source": [
    "This first model is the same as the first model in my numerical notebook."
   ]
  },
  {
   "cell_type": "markdown",
   "metadata": {},
   "source": [
    "Time to make a 'features' list with these elements. This will be the basis for my very first competition entry:"
   ]
  },
  {
   "cell_type": "code",
   "execution_count": 106,
   "metadata": {},
   "outputs": [],
   "source": [
    "features = ['overall_qual', 'year_built', 'year_remod/add', 'total_bsmt_sf', 'gr_liv_area', 'full_bath', 'garage_area']"
   ]
  },
  {
   "cell_type": "markdown",
   "metadata": {},
   "source": [
    "I wrote this function to full train a model based on a few simple inputs:"
   ]
  },
  {
   "cell_type": "code",
   "execution_count": 107,
   "metadata": {},
   "outputs": [],
   "source": [
    "#accepts df name, test_name, features list, any feature columns that need to be dummified\n",
    "def make_model(df, test_name, features, dum_cols):\n",
    "    X = df[features].fillna(0) #will make nan (should only be numerical) values zeroes\n",
    "    if dum_cols != 0: #if you need to get dummies in any categorical columns, it happens here, otherwise enter '0'\n",
    "        X = pd.get_dummies(X, columns=dum_cols, drop_first=True)\n",
    "    y = df['saleprice'] #add target\n",
    "    lr = LinearRegression()\n",
    "    lr.fit(X, y)\n",
    "    lr.score(X, y)\n",
    "    pred = lr.predict(X)\n",
    "    return f'Your RMSE for test {test_name} is {metrics.mean_squared_error(y, pred)**.5}.'"
   ]
  },
  {
   "cell_type": "code",
   "execution_count": 108,
   "metadata": {},
   "outputs": [
    {
     "data": {
      "text/plain": [
       "'Your RMSE for test numerical is 36384.774108824015.'"
      ]
     },
     "execution_count": 108,
     "metadata": {},
     "output_type": "execute_result"
    }
   ],
   "source": [
    "make_model(home, 'numerical', features, 0)"
   ]
  },
  {
   "cell_type": "markdown",
   "metadata": {},
   "source": [
    "There we go! Our first training model provides an RMSE of 36384.77 which is at least a start. I used this model for my first kaggle submission - that work was done originally in my \"num_filters\" notebook."
   ]
  },
  {
   "cell_type": "markdown",
   "metadata": {},
   "source": [
    "I wrote this function to create a new csv submission for any models that have good training scores:"
   ]
  },
  {
   "cell_type": "code",
   "execution_count": 109,
   "metadata": {},
   "outputs": [],
   "source": [
    "def save_test(df, test_name, features_list, dum_cols):\n",
    "    X = df[features_list].fillna(0) #will make nan (should only be numerical) values zeroes\n",
    "    if dum_cols != 0: #if you need to get dummies in any categorical columns, it happens here, otherwise enter '0'\n",
    "        X = pd.get_dummies(X, columns=dum_cols, drop_first=True)\n",
    "    y = df['saleprice'] #add target\n",
    "    lr = LinearRegression()\n",
    "    lr.fit(X, y)\n",
    "    test = pd.read_csv('datasets/test.csv') #read in test file\n",
    "    test.columns = [col.lower().replace(' ', '_') for col in test.columns] #reformat test columns\n",
    "    sub = test[['id']].copy() #put id numbers in empty array\n",
    "    X_test = test[features].fillna(0) #create X value based on selected features, fill (numerical) nans with 0's\n",
    "    if dum_cols != 0: #if you need to get dummies in any categorical columns, it happens here, else enter '0'\n",
    "        \n",
    "        pd.get_dummies(X_test, columns=dum_cols, drop_first=True)\n",
    "    sub['SalePrice'] = lr.predict(X_test) #make new df column from predictions\n",
    "    sub = sub.rename(columns = {'id' : 'Id'}) #rename id column to fit submission model\n",
    "    sub['Id'] = [int(n) for n in sub['Id']] #make id numbers ints to fit submission model\n",
    "    sub.to_csv(f'models/mod{test_name}.csv', index=False) #save submission as new csv\n",
    "    return f\"All done, submission {test_name} saved\""
   ]
  },
  {
   "cell_type": "markdown",
   "metadata": {},
   "source": [
    "## Model 2"
   ]
  },
  {
   "cell_type": "markdown",
   "metadata": {},
   "source": [
    "I'm curious about some of the features that didn't make my top 10 but could still be valuable in my model - I'm going to add some of them and see how it affects my RMSE:  \n",
    "- mas_vnr_area  \n",
    "- totrms_abvgrd  \n",
    "- fireplaces"
   ]
  },
  {
   "cell_type": "code",
   "execution_count": 110,
   "metadata": {},
   "outputs": [],
   "source": [
    "features = ['overall_qual', 'year_built', 'year_remod/add', 'total_bsmt_sf', 'gr_liv_area', 'full_bath', 'garage_area',\n",
    "           'mas_vnr_area', 'totrms_abvgrd', 'fireplaces']"
   ]
  },
  {
   "cell_type": "code",
   "execution_count": 111,
   "metadata": {},
   "outputs": [
    {
     "data": {
      "text/plain": [
       "'Your RMSE for test numerical is 35356.18459383637.'"
      ]
     },
     "execution_count": 111,
     "metadata": {},
     "output_type": "execute_result"
    }
   ],
   "source": [
    "make_model(home, 'numerical', features, 0)"
   ]
  },
  {
   "cell_type": "markdown",
   "metadata": {},
   "source": [
    "Oho! That brought my RMSE down about 1000! I'm going to go ahead and submit this model to the leaderboard, see if it does any better with the test data."
   ]
  },
  {
   "cell_type": "code",
   "execution_count": 112,
   "metadata": {},
   "outputs": [],
   "source": [
    "#save_test(home, 'plus3num', features, 0)"
   ]
  },
  {
   "cell_type": "markdown",
   "metadata": {},
   "source": [
    "Cool! I uploaded this one and went up one rank on the leaderboard. Progress!"
   ]
  },
  {
   "cell_type": "markdown",
   "metadata": {},
   "source": [
    "## Model 3\n",
    "This is where I first introduced categorical features."
   ]
  },
  {
   "cell_type": "code",
   "execution_count": 113,
   "metadata": {},
   "outputs": [],
   "source": [
    "home2 = home.copy()"
   ]
  },
  {
   "cell_type": "code",
   "execution_count": 114,
   "metadata": {},
   "outputs": [],
   "source": [
    "home2['ms_cat'] = 'other' #making a new column for zone categories\n",
    "home2.loc[(home2['ms_zoning'] == 'I (all)') | \n",
    "      (home2['ms_zoning'] == 'A (agr)') | \n",
    "      (home2['ms_zoning'] == 'C (all)'),\n",
    "     'ms_cat']='ms1' #zone1 includes I, A, C types\n",
    "home2.loc[home2['ms_zoning'] == 'RH', 'ms_cat']='ms2'\n",
    "home2.loc[home2['ms_zoning'] == 'FV', 'ms_cat']='ms3'\n",
    "home2.loc[home2['ms_zoning'] == 'RM', 'ms_cat']='ms4'"
   ]
  },
  {
   "cell_type": "code",
   "execution_count": 115,
   "metadata": {},
   "outputs": [],
   "source": [
    "home2['n_cat'] = 'other' #making a new column for neighborhood category- if there is anything my filters don't catch, they'll roll into \"other\"\n",
    "\n",
    "home2.loc[(home2['neighborhood'] == 'MeadowV') | (home2['neighborhood'] == 'IDOTRR'), 'n_cat']='zone1'\n",
    "\n",
    "home2.loc[(home2['neighborhood'] == 'BRDale') | (home2['neighborhood'] == 'OldTown'), 'n_cat']='zone2'\n",
    "\n",
    "home2.loc[(home2['neighborhood'] == 'Edwards') | (home2['neighborhood'] == 'BrkSide') | (home2['neighborhood'] == 'Sawyer'), 'n_cat']='zone3'\n",
    "\n",
    "home2.loc[(home2['neighborhood'] == 'SWISU') | (home2['neighborhood'] == 'Landmrk') | (home2['neighborhood'] == 'Blueste'), 'n_cat']='zone4'\n",
    "\n",
    "home2.loc[(home2['neighborhood'] == 'NAmes') | (home2['neighborhood'] == 'NPKVill'), 'n_cat']='zone5'\n",
    "\n",
    "home2.loc[home2['neighborhood'] == 'Mitchell', 'n_cat']='zone6'\n",
    "\n",
    "home2.loc[(home2['neighborhood'] == 'Gilbert') | (home2['neighborhood'] == 'SawyerW') | (home2['neighborhood'] == 'NWAmes'), 'n_cat']='zone7'\n",
    "\n",
    "#home2.loc[(home2['neighborhood'] == 'Greens') | (home2['neighborhood'] == 'Blmngtn') | (home2['neighborhood'] == 'CollgCr'), 'n_cat']='zone8' \n",
    "#I'm going to let this just be \"other\"; it's going to be a large category so if we happen to have any odd neighborhoods not listed, they wont change this too much\n",
    "\n",
    "home2.loc[(home2['neighborhood'] == 'Timber') | (home2['neighborhood'] == 'Somerst'), 'n_cat']='zone9'\n",
    "\n",
    "home2.loc[home2['neighborhood'] == 'ClearCr', 'n_cat']='zone10'\n",
    "\n",
    "home2.loc[(home2['neighborhood'] == 'Veenker') | (home2['neighborhood'] == 'GrnHill'), 'n_cat']='zone11'\n",
    "\n",
    "home2.loc[home2['neighborhood'] == 'NoRidge', 'n_cat']='zone12'\n",
    "\n",
    "home2.loc[home2['neighborhood'] == 'NridgeHt', 'n_cat']='zone13'\n",
    "\n",
    "home2.loc[home2['neighborhood'] == 'StoneBr', 'n_cat']='zone14'"
   ]
  },
  {
   "cell_type": "code",
   "execution_count": 116,
   "metadata": {},
   "outputs": [],
   "source": [
    "home2['h_cat'] = 'other'\n",
    "\n",
    "home2.loc[home2['heating'] == 'GasA', 'h_cat']='GasA'\n",
    "\n",
    "home2.loc[home2['heating'] == 'GasW', 'h_cat']='GasW'\n",
    "\n",
    "#the other 3 categories will stay together as \"other\""
   ]
  },
  {
   "cell_type": "code",
   "execution_count": 117,
   "metadata": {},
   "outputs": [
    {
     "data": {
      "text/plain": [
       "TA       1047\n",
       "Gd        806\n",
       "Ex        151\n",
       "other      47\n",
       "Name: k_cat, dtype: int64"
      ]
     },
     "execution_count": 117,
     "metadata": {},
     "output_type": "execute_result"
    }
   ],
   "source": [
    "home2['k_cat'] = 'other'\n",
    "\n",
    "home2.loc[home2['kitchen_qual'] == 'TA', 'k_cat']='TA'\n",
    "\n",
    "home2.loc[home2['kitchen_qual'] == 'Gd', 'k_cat']='Gd'\n",
    "\n",
    "home2.loc[home2['kitchen_qual'] == 'Ex', 'k_cat']='Ex'\n",
    "\n",
    "#Fair + any poors in the test set will stay as 'other'\n",
    "\n",
    "home2['k_cat'].value_counts()"
   ]
  },
  {
   "cell_type": "code",
   "execution_count": 118,
   "metadata": {},
   "outputs": [],
   "source": [
    "home2['st_cat'] = 'other'\n",
    "\n",
    "home2.loc[home2['sale_type'] == 'New', 'st_cat']='New'\n",
    "\n",
    "home2.loc[(home2['sale_type'] == 'Oth') | (home2['sale_type'] == 'ConLI') | (home2['sale_type'] == 'ConLw'), 'st_cat']='occ'\n",
    "\n",
    "home2.loc[(home2['sale_type'] == 'CWD') | (home2['sale_type'] == 'Con'), 'st_cat']='cwn'\n",
    "\n",
    "home2.loc[(home2['sale_type'] == 'COD') | (home2['sale_type'] == 'ConLD'), 'st_cat']='cld'\n",
    "\n",
    "#WD plus any other unrepresented categories (like VWD) will fall into \"other\""
   ]
  },
  {
   "cell_type": "code",
   "execution_count": 119,
   "metadata": {},
   "outputs": [
    {
     "data": {
      "text/plain": [
       "['ms_cat',\n",
       " 'n_cat',\n",
       " 'bldg_type',\n",
       " 'h_cat',\n",
       " 'central_air',\n",
       " 'k_cat',\n",
       " 'st_cat',\n",
       " 'overall_qual',\n",
       " 'year_built',\n",
       " 'year_remod/add',\n",
       " 'total_bsmt_sf',\n",
       " 'gr_liv_area',\n",
       " 'full_bath',\n",
       " 'garage_area',\n",
       " 'mas_vnr_area',\n",
       " 'totrms_abvgrd',\n",
       " 'fireplaces']"
      ]
     },
     "execution_count": 119,
     "metadata": {},
     "output_type": "execute_result"
    }
   ],
   "source": [
    "cat_features = ['ms_cat', 'n_cat', 'bldg_type', 'h_cat', 'central_air', 'k_cat', 'st_cat']\n",
    "features = ['overall_qual', 'year_built', 'year_remod/add', 'total_bsmt_sf', 'gr_liv_area', 'full_bath', 'garage_area',\n",
    "           'mas_vnr_area', 'totrms_abvgrd', 'fireplaces']\n",
    "all_feat = cat_features + features\n",
    "all_feat"
   ]
  },
  {
   "cell_type": "code",
   "execution_count": 120,
   "metadata": {},
   "outputs": [
    {
     "data": {
      "text/plain": [
       "'Your RMSE for test cat_and_num is 30487.9119879809.'"
      ]
     },
     "execution_count": 120,
     "metadata": {},
     "output_type": "execute_result"
    }
   ],
   "source": [
    "make_model(home2, 'cat_and_num', all_feat, cat_features)"
   ]
  },
  {
   "cell_type": "markdown",
   "metadata": {},
   "source": [
    "Okay, that's the best score I've gotten so far! Let's run the test data through and make another submission on Kaggle. I need to add the making of new columns and grouping of column categories into my function so that it will apply itself to the test data."
   ]
  },
  {
   "cell_type": "code",
   "execution_count": 121,
   "metadata": {},
   "outputs": [],
   "source": [
    "def save_test(df, test_name, features_list, dum_cols):\n",
    "    X = df[features_list].fillna(0) #will make nan (should only be numerical) values zeroes\n",
    "    #if dum_cols != 0: #if you need to get dummies in any categorical columns, it happens here, otherwise enter '0'\n",
    "    X = pd.get_dummies(X, columns=dum_cols, drop_first=True)\n",
    "    y = df['saleprice'] #add target\n",
    "    lr = LinearRegression()\n",
    "    lr.fit(X, y)\n",
    "    #print('first done')\n",
    "    test = pd.read_csv('datasets/test.csv') #read in test file\n",
    "    test.columns = [col.lower().replace(' ', '_') for col in test.columns] #reformat test columns\n",
    "    sub = test[['id']].copy() #put id numbers in empty array\n",
    "    \n",
    "    #apply categorical column grouping changes to test data\n",
    "    home2 = test.copy()\n",
    "    \n",
    "    home2['ms_cat'] = 'other' #making a new column for zone categories\n",
    "    home2.loc[(home2['ms_zoning'] == 'I (all)') | \n",
    "          (home2['ms_zoning'] == 'A (agr)') | \n",
    "          (home2['ms_zoning'] == 'C (all)'),\n",
    "         'ms_cat']='zone1' #zone1 includes I, A, C types\n",
    "    home2.loc[home2['ms_zoning'] == 'RH', 'ms_cat']='zone2'\n",
    "    home2.loc[home2['ms_zoning'] == 'FV', 'ms_cat']='zone3'\n",
    "    home2.loc[home2['ms_zoning'] == 'RM', 'ms_cat']='zone4'\n",
    "    \n",
    "    home2['n_cat'] = 'other' #making a new column for neighborhood category- if there is anything my filters don't catch, they'll roll into \"other\"\n",
    "    home2.loc[(home2['neighborhood'] == 'MeadowV') | (home2['neighborhood'] == 'IDOTRR'), 'n_cat']='zone1'\n",
    "    home2.loc[(home2['neighborhood'] == 'BRDale') | (home2['neighborhood'] == 'OldTown'), 'n_cat']='zone2'\n",
    "    home2.loc[(home2['neighborhood'] == 'Edwards') | (home2['neighborhood'] == 'BrkSide') | (home2['neighborhood'] == 'Sawyer'), 'n_cat']='zone3'\n",
    "    home2.loc[(home2['neighborhood'] == 'SWISU') | (home2['neighborhood'] == 'Landmrk') | (home2['neighborhood'] == 'Blueste'), 'n_cat']='zone4'\n",
    "    home2.loc[(home2['neighborhood'] == 'NAmes') | (home2['neighborhood'] == 'NPKVill'), 'n_cat']='zone5'\n",
    "    home2.loc[home2['neighborhood'] == 'Mitchell', 'n_cat']='zone6'\n",
    "    home2.loc[(home2['neighborhood'] == 'Gilbert') | (home2['neighborhood'] == 'SawyerW') | (home2['neighborhood'] == 'NWAmes'), 'n_cat']='zone7'\n",
    "    home2.loc[(home2['neighborhood'] == 'Timber') | (home2['neighborhood'] == 'Somerst'), 'n_cat']='zone9'\n",
    "    home2.loc[home2['neighborhood'] == 'ClearCr', 'n_cat']='zone10'\n",
    "    home2.loc[(home2['neighborhood'] == 'Veenker') | (home2['neighborhood'] == 'GrnHill'), 'n_cat']='zone11'\n",
    "    home2.loc[home2['neighborhood'] == 'NoRidge', 'n_cat']='zone12'\n",
    "    home2.loc[home2['neighborhood'] == 'NridgeHt', 'n_cat']='zone13'\n",
    "    home2.loc[home2['neighborhood'] == 'StoneBr', 'n_cat']='zone14'\n",
    "\n",
    "    home2['h_cat'] = 'other' #new column for heating categories\n",
    "    home2.loc[home2['heating'] == 'GasA', 'h_cat']='GasA'\n",
    "    home2.loc[home2['heating'] == 'GasW', 'h_cat']='GasW'\n",
    "    \n",
    "    home2['k_cat'] = 'other' #new column for kitchen qual categories\n",
    "    home2.loc[home2['kitchen_qual'] == 'TA', 'k_cat']='TA'\n",
    "    home2.loc[home2['kitchen_qual'] == 'Gd', 'k_cat']='Gd'\n",
    "    home2.loc[home2['kitchen_qual'] == 'Ex', 'k_cat']='Ex'\n",
    "    \n",
    "    home2['st_cat'] = 'other' #new column for sale type categories\n",
    "    home2.loc[home2['sale_type'] == 'New', 'st_cat']='New'\n",
    "    home2.loc[(home2['sale_type'] == 'Oth') | (home2['sale_type'] == 'ConLI') | (home2['sale_type'] == 'ConLw'), 'st_cat']='occ'\n",
    "    home2.loc[(home2['sale_type'] == 'CWD') | (home2['sale_type'] == 'Con'), 'st_cat']='cwn'\n",
    "    home2.loc[(home2['sale_type'] == 'COD') | (home2['sale_type'] == 'ConLD'), 'st_cat']='cld' \n",
    "    \n",
    "    test = home2.copy()\n",
    "    #print('cats done')\n",
    "    #sub = test[['id']].copy() #put id numbers in empty array\n",
    "    X_test = test[features_list].fillna(0) #create X value based on selected features, fill (numerical) nans with 0's\n",
    "    #if dum_cols != 0: #if you need to get dummies in any categorical columns, it happens here, else enter '0'\n",
    "    X_test = pd.get_dummies(X_test, columns=dum_cols, drop_first=True)\n",
    "    #return X_test.dtypes\n",
    "    sub['SalePrice'] = lr.predict(X_test) #make new df column from predictions\n",
    "    #print('sub done')\n",
    "    sub = sub.rename(columns = {'id' : 'Id'}) #rename id column to fit submission model\n",
    "    sub['Id'] = [int(n) for n in sub['Id']] #make id numbers ints to fit submission model\n",
    "    sub.to_csv(f'models/mod{test_name}.csv', index=False) #save submission as new csv\n",
    "    return f\"All done, submission {test_name} saved\""
   ]
  },
  {
   "cell_type": "code",
   "execution_count": 122,
   "metadata": {},
   "outputs": [],
   "source": [
    "#save_test(home2, 'cat_and_num1', all_feat, cat_features)"
   ]
  },
  {
   "cell_type": "markdown",
   "metadata": {},
   "source": [
    "Alright, that took about $4k off my prior submission, progress!"
   ]
  },
  {
   "cell_type": "markdown",
   "metadata": {},
   "source": [
    "## Model 4"
   ]
  },
  {
   "cell_type": "markdown",
   "metadata": {},
   "source": [
    "I want to see where I'm missing on my model - is there an obvious overshoot or under-prediction going on? I'm going to try to modify my make_model function to also give me a residual graph when it provides the RMSE."
   ]
  },
  {
   "cell_type": "code",
   "execution_count": 123,
   "metadata": {},
   "outputs": [],
   "source": [
    "#got help from lesson 3.06 notes"
   ]
  },
  {
   "cell_type": "code",
   "execution_count": 124,
   "metadata": {},
   "outputs": [],
   "source": [
    "#accepts df name, test_name, features list, any feature columns that need to be dummified\n",
    "def make_model(df, test_name, features, dum_cols):\n",
    "    X = df[features].fillna(0) #will make nan (should only be numerical) values zeroes\n",
    "    if dum_cols != 0: #if you need to get dummies in any categorical columns, it happens here, otherwise enter '0'\n",
    "        X = pd.get_dummies(X, columns=dum_cols, drop_first=True)\n",
    "    y = df['saleprice'] #add target\n",
    "    lr = LinearRegression()\n",
    "    lr.fit(X, y)\n",
    "    print(f'Your R2 score is {lr.score(X, y)}')\n",
    "    pred = lr.predict(X)\n",
    "    residuals = y - pred #these are the residuals\n",
    "    residuals.hist()\n",
    "    plt.axvline(0, color = 'red')\n",
    "    plt.show()\n",
    "    return f'Your RMSE for test {test_name} is {metrics.mean_squared_error(y, pred)**.5}.'"
   ]
  },
  {
   "cell_type": "code",
   "execution_count": 125,
   "metadata": {},
   "outputs": [
    {
     "data": {
      "text/html": [
       "<div>\n",
       "<style scoped>\n",
       "    .dataframe tbody tr th:only-of-type {\n",
       "        vertical-align: middle;\n",
       "    }\n",
       "\n",
       "    .dataframe tbody tr th {\n",
       "        vertical-align: top;\n",
       "    }\n",
       "\n",
       "    .dataframe thead th {\n",
       "        text-align: right;\n",
       "    }\n",
       "</style>\n",
       "<table border=\"1\" class=\"dataframe\">\n",
       "  <thead>\n",
       "    <tr style=\"text-align: right;\">\n",
       "      <th></th>\n",
       "      <th>id</th>\n",
       "      <th>pid</th>\n",
       "      <th>ms_subclass</th>\n",
       "      <th>ms_zoning</th>\n",
       "      <th>lot_frontage</th>\n",
       "      <th>lot_area</th>\n",
       "      <th>street</th>\n",
       "      <th>alley</th>\n",
       "      <th>lot_shape</th>\n",
       "      <th>land_contour</th>\n",
       "      <th>...</th>\n",
       "      <th>misc_val</th>\n",
       "      <th>mo_sold</th>\n",
       "      <th>yr_sold</th>\n",
       "      <th>sale_type</th>\n",
       "      <th>saleprice</th>\n",
       "      <th>ms_cat</th>\n",
       "      <th>n_cat</th>\n",
       "      <th>h_cat</th>\n",
       "      <th>k_cat</th>\n",
       "      <th>st_cat</th>\n",
       "    </tr>\n",
       "  </thead>\n",
       "  <tbody>\n",
       "    <tr>\n",
       "      <th>0</th>\n",
       "      <td>109</td>\n",
       "      <td>533352170</td>\n",
       "      <td>60</td>\n",
       "      <td>RL</td>\n",
       "      <td>NaN</td>\n",
       "      <td>13517</td>\n",
       "      <td>Pave</td>\n",
       "      <td>NaN</td>\n",
       "      <td>IR1</td>\n",
       "      <td>Lvl</td>\n",
       "      <td>...</td>\n",
       "      <td>0</td>\n",
       "      <td>3</td>\n",
       "      <td>2010</td>\n",
       "      <td>WD</td>\n",
       "      <td>130500</td>\n",
       "      <td>other</td>\n",
       "      <td>3</td>\n",
       "      <td>GasA</td>\n",
       "      <td>Gd</td>\n",
       "      <td>other</td>\n",
       "    </tr>\n",
       "    <tr>\n",
       "      <th>1</th>\n",
       "      <td>544</td>\n",
       "      <td>531379050</td>\n",
       "      <td>60</td>\n",
       "      <td>RL</td>\n",
       "      <td>43.0</td>\n",
       "      <td>11492</td>\n",
       "      <td>Pave</td>\n",
       "      <td>NaN</td>\n",
       "      <td>IR1</td>\n",
       "      <td>Lvl</td>\n",
       "      <td>...</td>\n",
       "      <td>0</td>\n",
       "      <td>4</td>\n",
       "      <td>2009</td>\n",
       "      <td>WD</td>\n",
       "      <td>220000</td>\n",
       "      <td>other</td>\n",
       "      <td>7</td>\n",
       "      <td>GasA</td>\n",
       "      <td>Gd</td>\n",
       "      <td>other</td>\n",
       "    </tr>\n",
       "    <tr>\n",
       "      <th>2</th>\n",
       "      <td>153</td>\n",
       "      <td>535304180</td>\n",
       "      <td>20</td>\n",
       "      <td>RL</td>\n",
       "      <td>68.0</td>\n",
       "      <td>7922</td>\n",
       "      <td>Pave</td>\n",
       "      <td>NaN</td>\n",
       "      <td>Reg</td>\n",
       "      <td>Lvl</td>\n",
       "      <td>...</td>\n",
       "      <td>0</td>\n",
       "      <td>1</td>\n",
       "      <td>2010</td>\n",
       "      <td>WD</td>\n",
       "      <td>109000</td>\n",
       "      <td>other</td>\n",
       "      <td>5</td>\n",
       "      <td>GasA</td>\n",
       "      <td>Gd</td>\n",
       "      <td>other</td>\n",
       "    </tr>\n",
       "    <tr>\n",
       "      <th>3</th>\n",
       "      <td>318</td>\n",
       "      <td>916386060</td>\n",
       "      <td>60</td>\n",
       "      <td>RL</td>\n",
       "      <td>73.0</td>\n",
       "      <td>9802</td>\n",
       "      <td>Pave</td>\n",
       "      <td>NaN</td>\n",
       "      <td>Reg</td>\n",
       "      <td>Lvl</td>\n",
       "      <td>...</td>\n",
       "      <td>0</td>\n",
       "      <td>4</td>\n",
       "      <td>2010</td>\n",
       "      <td>WD</td>\n",
       "      <td>174000</td>\n",
       "      <td>other</td>\n",
       "      <td>9</td>\n",
       "      <td>GasA</td>\n",
       "      <td>TA</td>\n",
       "      <td>other</td>\n",
       "    </tr>\n",
       "    <tr>\n",
       "      <th>4</th>\n",
       "      <td>255</td>\n",
       "      <td>906425045</td>\n",
       "      <td>50</td>\n",
       "      <td>RL</td>\n",
       "      <td>82.0</td>\n",
       "      <td>14235</td>\n",
       "      <td>Pave</td>\n",
       "      <td>NaN</td>\n",
       "      <td>IR1</td>\n",
       "      <td>Lvl</td>\n",
       "      <td>...</td>\n",
       "      <td>0</td>\n",
       "      <td>3</td>\n",
       "      <td>2010</td>\n",
       "      <td>WD</td>\n",
       "      <td>138500</td>\n",
       "      <td>other</td>\n",
       "      <td>7</td>\n",
       "      <td>GasA</td>\n",
       "      <td>TA</td>\n",
       "      <td>other</td>\n",
       "    </tr>\n",
       "  </tbody>\n",
       "</table>\n",
       "<p>5 rows × 86 columns</p>\n",
       "</div>"
      ],
      "text/plain": [
       "    id        pid  ms_subclass ms_zoning  lot_frontage  lot_area street alley  \\\n",
       "0  109  533352170           60        RL           NaN     13517   Pave   NaN   \n",
       "1  544  531379050           60        RL          43.0     11492   Pave   NaN   \n",
       "2  153  535304180           20        RL          68.0      7922   Pave   NaN   \n",
       "3  318  916386060           60        RL          73.0      9802   Pave   NaN   \n",
       "4  255  906425045           50        RL          82.0     14235   Pave   NaN   \n",
       "\n",
       "  lot_shape land_contour  ... misc_val mo_sold yr_sold sale_type saleprice  \\\n",
       "0       IR1          Lvl  ...        0       3    2010       WD     130500   \n",
       "1       IR1          Lvl  ...        0       4    2009       WD     220000   \n",
       "2       Reg          Lvl  ...        0       1    2010       WD     109000   \n",
       "3       Reg          Lvl  ...        0       4    2010       WD     174000   \n",
       "4       IR1          Lvl  ...        0       3    2010       WD     138500   \n",
       "\n",
       "  ms_cat n_cat h_cat  k_cat  st_cat  \n",
       "0  other     3  GasA     Gd   other  \n",
       "1  other     7  GasA     Gd   other  \n",
       "2  other     5  GasA     Gd   other  \n",
       "3  other     9  GasA     TA   other  \n",
       "4  other     7  GasA     TA   other  \n",
       "\n",
       "[5 rows x 86 columns]"
      ]
     },
     "execution_count": 125,
     "metadata": {},
     "output_type": "execute_result"
    }
   ],
   "source": [
    "home2 = home.copy()\n",
    "home2['ms_cat'] = 'other' #making a new column for zone categories\n",
    "home2.loc[(home2['ms_zoning'] == 'I (all)') | \n",
    "      (home2['ms_zoning'] == 'A (agr)') | \n",
    "      (home2['ms_zoning'] == 'C (all)'),\n",
    "     'ms_cat']='zone1' #zone1 includes I, A, C types\n",
    "home2.loc[home2['ms_zoning'] == 'RH', 'ms_cat']='zone2'\n",
    "home2.loc[home2['ms_zoning'] == 'FV', 'ms_cat']='zone3'\n",
    "home2.loc[home2['ms_zoning'] == 'RM', 'ms_cat']='zone4'\n",
    "\n",
    "home2['n_cat'] = 8 #making a new column for neighborhood category- if there is anything my filters don't catch, they'll roll into \"other\"\n",
    "home2.loc[(home2['neighborhood'] == 'MeadowV') | (home2['neighborhood'] == 'IDOTRR'), 'n_cat']=1\n",
    "home2.loc[(home2['neighborhood'] == 'BRDale') | (home2['neighborhood'] == 'OldTown'), 'n_cat']=2\n",
    "home2.loc[(home2['neighborhood'] == 'Edwards') | (home2['neighborhood'] == 'BrkSide') | (home2['neighborhood'] == 'Sawyer'), 'n_cat']=3\n",
    "home2.loc[(home2['neighborhood'] == 'SWISU') | (home2['neighborhood'] == 'Landmrk') | (home2['neighborhood'] == 'Blueste'), 'n_cat']=4\n",
    "home2.loc[(home2['neighborhood'] == 'NAmes') | (home2['neighborhood'] == 'NPKVill'), 'n_cat']=5\n",
    "home2.loc[home2['neighborhood'] == 'Mitchell', 'n_cat']=6\n",
    "home2.loc[(home2['neighborhood'] == 'Gilbert') | (home2['neighborhood'] == 'SawyerW') | (home2['neighborhood'] == 'NWAmes'), 'n_cat']=7\n",
    "home2.loc[(home2['neighborhood'] == 'Timber') | (home2['neighborhood'] == 'Somerst'), 'n_cat']=9\n",
    "home2.loc[home2['neighborhood'] == 'ClearCr', 'n_cat']=10\n",
    "home2.loc[(home2['neighborhood'] == 'Veenker') | (home2['neighborhood'] == 'GrnHill'), 'n_cat']=11\n",
    "home2.loc[home2['neighborhood'] == 'NoRidge', 'n_cat']=12\n",
    "home2.loc[home2['neighborhood'] == 'NridgeHt', 'n_cat']=13\n",
    "home2.loc[home2['neighborhood'] == 'StoneBr', 'n_cat']=14\n",
    "\n",
    "home2['h_cat'] = 'other' #new column for heating categories\n",
    "home2.loc[home2['heating'] == 'GasA', 'h_cat']='GasA'\n",
    "home2.loc[home2['heating'] == 'GasW', 'h_cat']='GasW'\n",
    "\n",
    "home2['k_cat'] = 'other' #new column for kitchen qual categories\n",
    "home2.loc[home2['kitchen_qual'] == 'TA', 'k_cat']='TA'\n",
    "home2.loc[home2['kitchen_qual'] == 'Gd', 'k_cat']='Gd'\n",
    "home2.loc[home2['kitchen_qual'] == 'Ex', 'k_cat']='Ex'\n",
    "\n",
    "home2['st_cat'] = 'other' #new column for sale type categories\n",
    "home2.loc[home2['sale_type'] == 'New', 'st_cat']='New'\n",
    "home2.loc[(home2['sale_type'] == 'Oth') | (home2['sale_type'] == 'ConLI') | (home2['sale_type'] == 'ConLw'), 'st_cat']='occ'\n",
    "home2.loc[(home2['sale_type'] == 'CWD') | (home2['sale_type'] == 'Con'), 'st_cat']='cwn'\n",
    "home2.loc[(home2['sale_type'] == 'COD') | (home2['sale_type'] == 'ConLD'), 'st_cat']='cld' \n",
    "\n",
    "home2.head()"
   ]
  },
  {
   "cell_type": "code",
   "execution_count": 126,
   "metadata": {},
   "outputs": [],
   "source": [
    "cat_features = ['ms_cat', 'n_cat', 'bldg_type', 'h_cat', 'central_air', 'k_cat', 'st_cat']\n",
    "features = ['overall_qual', 'year_built', 'year_remod/add', 'total_bsmt_sf', 'gr_liv_area', 'full_bath', 'garage_area',\n",
    "           'mas_vnr_area', 'totrms_abvgrd', 'fireplaces']\n",
    "all_feat = cat_features + features"
   ]
  },
  {
   "cell_type": "code",
   "execution_count": 127,
   "metadata": {},
   "outputs": [
    {
     "name": "stdout",
     "output_type": "stream",
     "text": [
      "Your R2 score is 0.8519618260830043\n"
     ]
    },
    {
     "data": {
      "image/png": "[encoded data removed]",
      "text/plain": [
       "<Figure size 432x288 with 1 Axes>"
      ]
     },
     "metadata": {
      "needs_background": "light"
     },
     "output_type": "display_data"
    },
    {
     "data": {
      "text/plain": [
       "'Your RMSE for test cat_and_num2 is 30487.91198798089.'"
      ]
     },
     "execution_count": 127,
     "metadata": {},
     "output_type": "execute_result"
    }
   ],
   "source": [
    "make_model(home2, 'cat_and_num2', all_feat, cat_features)"
   ]
  },
  {
   "cell_type": "markdown",
   "metadata": {},
   "source": [
    "The high bar below zero suggests that y - y_pred is often negative, meaning my prediction is larger than y i.e. an over-shoot. Perhaps I can fix this with a simple modification."
   ]
  },
  {
   "cell_type": "markdown",
   "metadata": {},
   "source": [
    "## Model 5"
   ]
  },
  {
   "cell_type": "code",
   "execution_count": 128,
   "metadata": {},
   "outputs": [],
   "source": [
    "#accepts df name, test_name, features list, any feature columns that need to be dummified\n",
    "def make_model(df, test_name, features, dum_cols):\n",
    "    X = df[features].fillna(0) #will make nan (should only be numerical) values zeroes\n",
    "    if dum_cols != 0: #if you need to get dummies in any categorical columns, it happens here, otherwise enter '0'\n",
    "        X = pd.get_dummies(X, columns=dum_cols, drop_first=True)\n",
    "    y = df['saleprice'] #add target\n",
    "    lr = LinearRegression()\n",
    "    lr.fit(X, y)\n",
    "    print(f'Your R2 score is {lr.score(X, y)}')\n",
    "    pred = lr.predict(X)\n",
    "    #pred = [n*1for n in pred]\n",
    "    residuals = y - pred #these are the residuals\n",
    "    residuals.hist()\n",
    "    plt.axvline(0, color = 'red')\n",
    "    plt.show()\n",
    "    return f'Your RMSE for test {test_name} is {metrics.mean_squared_error(y, pred)**.5}.'"
   ]
  },
  {
   "cell_type": "code",
   "execution_count": 129,
   "metadata": {},
   "outputs": [],
   "source": [
    "cat_features = ['ms_cat', 'n_cat', 'bldg_type', 'h_cat', 'central_air', 'k_cat', 'st_cat']\n",
    "features = ['overall_qual', 'year_built', 'year_remod/add', 'total_bsmt_sf', 'gr_liv_area', 'full_bath', 'garage_area',\n",
    "           'mas_vnr_area', 'totrms_abvgrd', 'fireplaces']\n",
    "all_feat = cat_features + features"
   ]
  },
  {
   "cell_type": "code",
   "execution_count": 130,
   "metadata": {},
   "outputs": [],
   "source": [
    "#make_model(home2, 'cat_and_num2', all_feat, cat_features)"
   ]
  },
  {
   "cell_type": "markdown",
   "metadata": {},
   "source": [
    "As it turns out, manually adjusting my 'pred' value either higher or lower than 1, even by .01, gives me a worse RMSE. That would have been too easy..."
   ]
  },
  {
   "cell_type": "markdown",
   "metadata": {},
   "source": [
    "## Model 6"
   ]
  },
  {
   "cell_type": "markdown",
   "metadata": {},
   "source": [
    "... a couple hours later..."
   ]
  },
  {
   "cell_type": "markdown",
   "metadata": {},
   "source": [
    "I have added 2 more numerical columns and 2 new grouped categorical columns - let's see how the model does with all of the adjustments."
   ]
  },
  {
   "cell_type": "code",
   "execution_count": 131,
   "metadata": {},
   "outputs": [],
   "source": [
    "home2['ex_cat'] = 'other'\n",
    "home2.loc[(home2['exter_cond'] == 'Fa') | (home2['exter_cond'] == 'Po'), 'ex_cat']='FaPo'\n",
    "home2.loc[(home2['exter_cond'] == 'Gd') | (home2['exter_cond'] == 'Ex'), 'ex_cat']='GdEx'\n",
    "\n",
    "home2['hs_cat'] = 'other'\n",
    "home2.loc[(home2['house_style'] == 'SFoyer') | (home2['house_style'] == '1.5Unf'), 'hs_cat']='SF15U'\n",
    "home2.loc[(home2['house_style'] == '1.5Fin') | (home2['house_style'] == 'SLvl'), 'hs_cat']='15FSL'\n",
    "home2.loc[(home2['house_style'] == '2.5Unf') | (home2['house_style'] == '2.5Fin'), 'hs_cat']='25UF'"
   ]
  },
  {
   "cell_type": "code",
   "execution_count": 132,
   "metadata": {},
   "outputs": [],
   "source": [
    "features = ['overall_qual', 'year_built', 'year_remod/add', 'total_bsmt_sf', 'gr_liv_area', 'full_bath', 'garage_area',\n",
    "           'mas_vnr_area', 'totrms_abvgrd', 'fireplaces', 'bsmtfin_sf_1']\n",
    "cat_features = ['ms_cat', 'n_cat', 'bldg_type', 'h_cat', 'central_air', 'k_cat', 'st_cat', 'ex_cat', 'hs_cat']\n",
    "all_feat = cat_features + features"
   ]
  },
  {
   "cell_type": "code",
   "execution_count": 133,
   "metadata": {},
   "outputs": [],
   "source": [
    "#make_model(home2, 'cat_and_num2', all_feat, cat_features)"
   ]
  },
  {
   "cell_type": "markdown",
   "metadata": {},
   "source": [
    "Okay! I broke the 30k barrier for the first time. Let's see how I do on the test data."
   ]
  },
  {
   "cell_type": "code",
   "execution_count": 134,
   "metadata": {},
   "outputs": [],
   "source": [
    "def save_test(df, test_name, features_list, dum_cols):\n",
    "    X = df[features_list].fillna(0) #will make nan (should only be numerical) values zeroes\n",
    "    #if dum_cols != 0: #if you need to get dummies in any categorical columns, it happens here, otherwise enter '0'\n",
    "    X = pd.get_dummies(X, columns=dum_cols, drop_first=True)\n",
    "    y = df['saleprice'] #add target\n",
    "    lr = LinearRegression()\n",
    "    lr.fit(X, y)\n",
    "    #print('first done')\n",
    "    test = pd.read_csv('datasets/test.csv') #read in test file\n",
    "    test.columns = [col.lower().replace(' ', '_') for col in test.columns] #reformat test columns\n",
    "    sub = test[['id']].copy() #put id numbers in empty array\n",
    "    \n",
    "    #apply categorical column grouping changes to test data\n",
    "    home2 = test.copy()\n",
    "    \n",
    "    home2['ms_cat'] = 'other' #making a new column for zone categories\n",
    "    home2.loc[(home2['ms_zoning'] == 'I (all)') | \n",
    "          (home2['ms_zoning'] == 'A (agr)') | \n",
    "          (home2['ms_zoning'] == 'C (all)'),\n",
    "         'ms_cat']='zone1' #zone1 includes I, A, C types\n",
    "    home2.loc[home2['ms_zoning'] == 'RH', 'ms_cat']='zone2'\n",
    "    home2.loc[home2['ms_zoning'] == 'FV', 'ms_cat']='zone3'\n",
    "    home2.loc[home2['ms_zoning'] == 'RM', 'ms_cat']='zone4'\n",
    "    \n",
    "    home2['n_cat'] = 'other' #making a new column for neighborhood category- if there is anything my filters don't catch, they'll roll into \"other\"\n",
    "    home2.loc[(home2['neighborhood'] == 'MeadowV') | (home2['neighborhood'] == 'IDOTRR'), 'n_cat']='zone1'\n",
    "    home2.loc[(home2['neighborhood'] == 'BRDale') | (home2['neighborhood'] == 'OldTown'), 'n_cat']='zone2'\n",
    "    home2.loc[(home2['neighborhood'] == 'Edwards') | (home2['neighborhood'] == 'BrkSide') | (home2['neighborhood'] == 'Sawyer'), 'n_cat']='zone3'\n",
    "    home2.loc[(home2['neighborhood'] == 'SWISU') | (home2['neighborhood'] == 'Landmrk') | (home2['neighborhood'] == 'Blueste'), 'n_cat']='zone4'\n",
    "    home2.loc[(home2['neighborhood'] == 'NAmes') | (home2['neighborhood'] == 'NPKVill'), 'n_cat']='zone5'\n",
    "    home2.loc[home2['neighborhood'] == 'Mitchell', 'n_cat']='zone6'\n",
    "    home2.loc[(home2['neighborhood'] == 'Gilbert') | (home2['neighborhood'] == 'SawyerW') | (home2['neighborhood'] == 'NWAmes'), 'n_cat']='zone7'\n",
    "    home2.loc[(home2['neighborhood'] == 'Timber') | (home2['neighborhood'] == 'Somerst'), 'n_cat']='zone9'\n",
    "    home2.loc[home2['neighborhood'] == 'ClearCr', 'n_cat']='zone10'\n",
    "    home2.loc[(home2['neighborhood'] == 'Veenker') | (home2['neighborhood'] == 'GrnHill'), 'n_cat']='zone11'\n",
    "    home2.loc[home2['neighborhood'] == 'NoRidge', 'n_cat']='zone12'\n",
    "    home2.loc[home2['neighborhood'] == 'NridgeHt', 'n_cat']='zone13'\n",
    "    home2.loc[home2['neighborhood'] == 'StoneBr', 'n_cat']='zone14'\n",
    "\n",
    "    home2['h_cat'] = 'other' #new column for heating categories\n",
    "    home2.loc[home2['heating'] == 'GasA', 'h_cat']='GasA'\n",
    "    home2.loc[home2['heating'] == 'GasW', 'h_cat']='GasW'\n",
    "    \n",
    "    home2['k_cat'] = 'other' #new column for kitchen qual categories\n",
    "    home2.loc[home2['kitchen_qual'] == 'TA', 'k_cat']='TA'\n",
    "    home2.loc[home2['kitchen_qual'] == 'Gd', 'k_cat']='Gd'\n",
    "    home2.loc[home2['kitchen_qual'] == 'Ex', 'k_cat']='Ex'\n",
    "    \n",
    "    home2['st_cat'] = 'other' #new column for sale type categories\n",
    "    home2.loc[home2['sale_type'] == 'New', 'st_cat']='New'\n",
    "    home2.loc[(home2['sale_type'] == 'Oth') | (home2['sale_type'] == 'ConLI') | (home2['sale_type'] == 'ConLw'), 'st_cat']='occ'\n",
    "    home2.loc[(home2['sale_type'] == 'CWD') | (home2['sale_type'] == 'Con'), 'st_cat']='cwn'\n",
    "    home2.loc[(home2['sale_type'] == 'COD') | (home2['sale_type'] == 'ConLD'), 'st_cat']='cld' \n",
    "    \n",
    "    home2['ex_cat'] = 'other' #new column for exterior categories\n",
    "    home2.loc[(home2['exter_cond'] == 'Fa') | (home2['exter_cond'] == 'Po'), 'ex_cat']='FaPo'\n",
    "    home2.loc[(home2['exter_cond'] == 'Gd') | (home2['exter_cond'] == 'Ex'), 'ex_cat']='GdEx'\n",
    "\n",
    "    home2['hs_cat'] = 'other' #new column for house style categories\n",
    "    home2.loc[(home2['house_style'] == 'SFoyer') | (home2['house_style'] == '1.5Unf'), 'hs_cat']='SF15U'\n",
    "    home2.loc[(home2['house_style'] == '1.5Fin') | (home2['house_style'] == 'SLvl'), 'hs_cat']='15FSL'\n",
    "    home2.loc[(home2['house_style'] == '2.5Unf') | (home2['house_style'] == '2.5Fin'), 'hs_cat']='25UF'\n",
    "    \n",
    "    test = home2.copy()\n",
    "    #print('cats done')\n",
    "    #sub = test[['id']].copy() #put id numbers in empty array\n",
    "    X_test = test[features_list].fillna(0) #create X value based on selected features, fill (numerical) nans with 0's\n",
    "    #if dum_cols != 0: #if you need to get dummies in any categorical columns, it happens here, else enter '0'\n",
    "    X_test = pd.get_dummies(X_test, columns=dum_cols, drop_first=True)\n",
    "    #return X_test.dtypes\n",
    "    sub['SalePrice'] = lr.predict(X_test) #make new df column from predictions\n",
    "    #print('sub done')\n",
    "    sub = sub.rename(columns = {'id' : 'Id'}) #rename id column to fit submission model\n",
    "    sub['Id'] = [int(n) for n in sub['Id']] #make id numbers ints to fit submission model\n",
    "    sub.to_csv(f'models/mod{test_name}.csv', index=False) #save submission as new csv\n",
    "    return f\"All done, submission {test_name} saved\""
   ]
  },
  {
   "cell_type": "code",
   "execution_count": 135,
   "metadata": {},
   "outputs": [],
   "source": [
    "#save_test(home2, 'cat_and_num2', all_feat, cat_features)"
   ]
  },
  {
   "cell_type": "markdown",
   "metadata": {},
   "source": [
    "Okay, that submission was also under 30k RMSE for the test data on Kaggle! Progress!"
   ]
  },
  {
   "cell_type": "markdown",
   "metadata": {},
   "source": [
    "## Model 7"
   ]
  },
  {
   "cell_type": "markdown",
   "metadata": {},
   "source": [
    "...some time later..."
   ]
  },
  {
   "cell_type": "markdown",
   "metadata": {},
   "source": [
    "I added the masonry type column in the cat_filters notebook and it seemed to make a big difference! I'm going to see how it interacts with my numerical variables in a full test. I also experimented putting in the average of mas_vnr_area for nans instead of just 0."
   ]
  },
  {
   "cell_type": "code",
   "execution_count": 136,
   "metadata": {},
   "outputs": [],
   "source": [
    "#accepts df name, test_name, features list, any feature columns that need to be dummified\n",
    "def make_model(df, test_name, features, dum_cols):\n",
    "    X = df[features] #will make nan (should only be numerical) values zeroes\n",
    "    X['mas_vnr_area'].fillna(X['mas_vnr_area'].mean(), inplace=True) #filling in mean for this column's nans\n",
    "    X.fillna(0, inplace=True) #fill rest of numerical nans with 0\n",
    "    if dum_cols != 0: #if you need to get dummies in any categorical columns, it happens here, otherwise enter '0'\n",
    "        X = pd.get_dummies(X, columns=dum_cols, drop_first=True)\n",
    "    y = df['saleprice'] #add target\n",
    "    lr = LinearRegression()\n",
    "    lr.fit(X, y)\n",
    "    print(f'Your R2 score is {lr.score(X, y)}')\n",
    "    pred = lr.predict(X)\n",
    "    #pred = [n*1for n in pred]\n",
    "    residuals = y - pred #these are the residuals\n",
    "    residuals.hist()\n",
    "    plt.axvline(0, color = 'red')\n",
    "    plt.show()\n",
    "    return f'Your RMSE for test {test_name} is {metrics.mean_squared_error(y, pred)**.5}.'"
   ]
  },
  {
   "cell_type": "code",
   "execution_count": 137,
   "metadata": {},
   "outputs": [],
   "source": [
    "home2['mas_cat'] = 'other'\n",
    "home2.loc[(home2['mas_vnr_type'] == 'BrkFace') | (home2['mas_vnr_type'] == 'BrkCmn'), 'mas_cat']='Brk'\n",
    "home2.loc[home2['mas_vnr_type'] == 'Stone', 'mas_cat']='Stone'\n",
    "#other will include \"None\", nans, and any potential cinderblock houses (none in test data)"
   ]
  },
  {
   "cell_type": "code",
   "execution_count": 138,
   "metadata": {},
   "outputs": [],
   "source": [
    "cat_features = ['ms_cat', 'n_cat', 'bldg_type', 'h_cat', 'central_air', 'k_cat', 'st_cat', 'ex_cat', 'hs_cat', 'mas_cat']\n",
    "features = ['overall_qual', 'year_built', 'year_remod/add', 'total_bsmt_sf', 'gr_liv_area', 'full_bath', 'garage_area',\n",
    "           'mas_vnr_area', 'totrms_abvgrd', 'fireplaces', 'bsmtfin_sf_1']\n",
    "all_feat = cat_features + features"
   ]
  },
  {
   "cell_type": "code",
   "execution_count": 139,
   "metadata": {},
   "outputs": [],
   "source": [
    "#make_model(home2, 'cat_and_num3', all_feat, cat_features)"
   ]
  },
  {
   "cell_type": "markdown",
   "metadata": {},
   "source": [
    "Well, it's an improvement of about 150 over the last one. Let's go ahead and submit it, why not?!"
   ]
  },
  {
   "cell_type": "code",
   "execution_count": 140,
   "metadata": {},
   "outputs": [],
   "source": [
    "def save_test(df, test_name, features_list, dum_cols):\n",
    "    X = df[features_list]\n",
    "    X['mas_vnr_area'].fillna(X['mas_vnr_area'].mean(), inplace=True) #filling in mean for this column's nans\n",
    "    X.fillna(0, inplace=True) #fill rest of numerical nans with 0\n",
    "    #if dum_cols != 0: #if you need to get dummies in any categorical columns, it happens here, otherwise enter '0'\n",
    "    X = pd.get_dummies(X, columns=dum_cols, drop_first=True)\n",
    "    y = df['saleprice'] #add target\n",
    "    lr = LinearRegression()\n",
    "    lr.fit(X, y)\n",
    "    #print('first done')\n",
    "    test = pd.read_csv('datasets/test.csv') #read in test file\n",
    "    test.columns = [col.lower().replace(' ', '_') for col in test.columns] #reformat test columns\n",
    "    sub = test[['id']].copy() #put id numbers in empty array\n",
    "    \n",
    "    #apply categorical column grouping changes to test data\n",
    "    home2 = test.copy()\n",
    "    \n",
    "    home2['ms_cat'] = 'other' #making a new column for zone categories\n",
    "    home2.loc[(home2['ms_zoning'] == 'I (all)') | \n",
    "          (home2['ms_zoning'] == 'A (agr)') | \n",
    "          (home2['ms_zoning'] == 'C (all)'),\n",
    "         'ms_cat']='zone1' #zone1 includes I, A, C types\n",
    "    home2.loc[home2['ms_zoning'] == 'RH', 'ms_cat']='zone2'\n",
    "    home2.loc[home2['ms_zoning'] == 'FV', 'ms_cat']='zone3'\n",
    "    home2.loc[home2['ms_zoning'] == 'RM', 'ms_cat']='zone4'\n",
    "    \n",
    "    home2['n_cat'] = 'other' #making a new column for neighborhood category- if there is anything my filters don't catch, they'll roll into \"other\"\n",
    "    home2.loc[(home2['neighborhood'] == 'MeadowV') | (home2['neighborhood'] == 'IDOTRR'), 'n_cat']='zone1'\n",
    "    home2.loc[(home2['neighborhood'] == 'BRDale') | (home2['neighborhood'] == 'OldTown'), 'n_cat']='zone2'\n",
    "    home2.loc[(home2['neighborhood'] == 'Edwards') | (home2['neighborhood'] == 'BrkSide') | (home2['neighborhood'] == 'Sawyer'), 'n_cat']='zone3'\n",
    "    home2.loc[(home2['neighborhood'] == 'SWISU') | (home2['neighborhood'] == 'Landmrk') | (home2['neighborhood'] == 'Blueste'), 'n_cat']='zone4'\n",
    "    home2.loc[(home2['neighborhood'] == 'NAmes') | (home2['neighborhood'] == 'NPKVill'), 'n_cat']='zone5'\n",
    "    home2.loc[home2['neighborhood'] == 'Mitchell', 'n_cat']='zone6'\n",
    "    home2.loc[(home2['neighborhood'] == 'Gilbert') | (home2['neighborhood'] == 'SawyerW') | (home2['neighborhood'] == 'NWAmes'), 'n_cat']='zone7'\n",
    "    home2.loc[(home2['neighborhood'] == 'Timber') | (home2['neighborhood'] == 'Somerst'), 'n_cat']='zone9'\n",
    "    home2.loc[home2['neighborhood'] == 'ClearCr', 'n_cat']='zone10'\n",
    "    home2.loc[(home2['neighborhood'] == 'Veenker') | (home2['neighborhood'] == 'GrnHill'), 'n_cat']='zone11'\n",
    "    home2.loc[home2['neighborhood'] == 'NoRidge', 'n_cat']='zone12'\n",
    "    home2.loc[home2['neighborhood'] == 'NridgeHt', 'n_cat']='zone13'\n",
    "    home2.loc[home2['neighborhood'] == 'StoneBr', 'n_cat']='zone14'\n",
    "\n",
    "    home2['h_cat'] = 'other' #new column for heating categories\n",
    "    home2.loc[home2['heating'] == 'GasA', 'h_cat']='GasA'\n",
    "    home2.loc[home2['heating'] == 'GasW', 'h_cat']='GasW'\n",
    "    \n",
    "    home2['k_cat'] = 'other' #new column for kitchen qual categories\n",
    "    home2.loc[home2['kitchen_qual'] == 'TA', 'k_cat']='TA'\n",
    "    home2.loc[home2['kitchen_qual'] == 'Gd', 'k_cat']='Gd'\n",
    "    home2.loc[home2['kitchen_qual'] == 'Ex', 'k_cat']='Ex'\n",
    "    \n",
    "    home2['st_cat'] = 'other' #new column for sale type categories\n",
    "    home2.loc[home2['sale_type'] == 'New', 'st_cat']='New'\n",
    "    home2.loc[(home2['sale_type'] == 'Oth') | (home2['sale_type'] == 'ConLI') | (home2['sale_type'] == 'ConLw'), 'st_cat']='occ'\n",
    "    home2.loc[(home2['sale_type'] == 'CWD') | (home2['sale_type'] == 'Con'), 'st_cat']='cwn'\n",
    "    home2.loc[(home2['sale_type'] == 'COD') | (home2['sale_type'] == 'ConLD'), 'st_cat']='cld' \n",
    "    \n",
    "    home2['ex_cat'] = 'other' #new column for exterior categories\n",
    "    home2.loc[(home2['exter_cond'] == 'Fa') | (home2['exter_cond'] == 'Po'), 'ex_cat']='FaPo'\n",
    "    home2.loc[(home2['exter_cond'] == 'Gd') | (home2['exter_cond'] == 'Ex'), 'ex_cat']='GdEx'\n",
    "\n",
    "    home2['hs_cat'] = 'other' #new column for house style categories\n",
    "    home2.loc[(home2['house_style'] == 'SFoyer') | (home2['house_style'] == '1.5Unf'), 'hs_cat']='SF15U'\n",
    "    home2.loc[(home2['house_style'] == '1.5Fin') | (home2['house_style'] == 'SLvl'), 'hs_cat']='15FSL'\n",
    "    home2.loc[(home2['house_style'] == '2.5Unf') | (home2['house_style'] == '2.5Fin'), 'hs_cat']='25UF'\n",
    "    \n",
    "    home2['mas_cat'] = 'other' #new column for masonry type categories\n",
    "    home2.loc[(home2['mas_vnr_type'] == 'BrkFace') | (home2['mas_vnr_type'] == 'BrkCmn'), 'mas_cat']='Brk'\n",
    "    home2.loc[home2['mas_vnr_type'] == 'Stone', 'mas_cat']='Stone'\n",
    "    \n",
    "    test = home2.copy()\n",
    "    #print('cats done')\n",
    "    #sub = test[['id']].copy() #put id numbers in empty array\n",
    "    X_test = test[features_list].fillna(0) #create X value based on selected features, fill (numerical) nans with 0's\n",
    "    #if dum_cols != 0: #if you need to get dummies in any categorical columns, it happens here, else enter '0'\n",
    "    X_test = pd.get_dummies(X_test, columns=dum_cols, drop_first=True)\n",
    "    #return X_test.dtypes\n",
    "    sub['SalePrice'] = lr.predict(X_test) #make new df column from predictions\n",
    "    #print('sub done')\n",
    "    sub = sub.rename(columns = {'id' : 'Id'}) #rename id column to fit submission model\n",
    "    sub['Id'] = [int(n) for n in sub['Id']] #make id numbers ints to fit submission model\n",
    "    sub.to_csv(f'models/mod{test_name}.csv', index=False) #save submission as new csv\n",
    "    return f\"All done, submission {test_name} saved\""
   ]
  },
  {
   "cell_type": "code",
   "execution_count": 141,
   "metadata": {},
   "outputs": [],
   "source": [
    "#save_test(home2, 'cat_and_num3', all_feat, cat_features)"
   ]
  },
  {
   "cell_type": "markdown",
   "metadata": {},
   "source": [
    "Again, this improved my Kaggle RMSE by a couple hundred points!"
   ]
  },
  {
   "cell_type": "markdown",
   "metadata": {},
   "source": [
    "## Model 8"
   ]
  },
  {
   "cell_type": "markdown",
   "metadata": {},
   "source": [
    "...some time later..."
   ]
  },
  {
   "cell_type": "markdown",
   "metadata": {},
   "source": [
    "I made some pretty big inroads using a polynomial fit with my numerical filters notebook. I'm going to modify the model creating function on this page to run with polynomials for both numerical and categorical features and see how it does."
   ]
  },
  {
   "cell_type": "code",
   "execution_count": 142,
   "metadata": {},
   "outputs": [],
   "source": [
    "#accepts df name, test_name, features list, any feature columns that need to be dummified\n",
    "def make_model(df, test_name, features, dum_cols):\n",
    "    X = df[features] #will make nan (should only be numerical) values zeroes\n",
    "    X['mas_vnr_area'].fillna(df['mas_vnr_area'].mean(), inplace=True)\n",
    "    X.fillna(0, inplace=True)\n",
    "    if dum_cols != 0: #if you need to get dummies in any categorical columns, it happens here, otherwise enter '0'\n",
    "        X = pd.get_dummies(X, columns=dum_cols, drop_first=True)\n",
    "    y = df['saleprice'] #add target\n",
    "    #lr = LinearRegression()\n",
    "    #lr.fit(X, y)\n",
    "    print(X.shape)\n",
    "    poly = PolynomialFeatures(include_bias=False)\n",
    "    X_poly = poly.fit_transform(X)\n",
    "    print(X_poly.shape)\n",
    "    lr = LinearRegression()\n",
    "    lr.fit(X_poly, y)\n",
    "    print(f'Your R2 score is {lr.score(X_poly, y)}')\n",
    "    pred = lr.predict(X_poly)\n",
    "    #pred = [n*1 for n in pred] #manual adjustment of preds if desired\n",
    "    residuals = y - pred #these are the residuals\n",
    "    residuals.hist()\n",
    "    plt.axvline(0, color = 'red')\n",
    "    plt.show()\n",
    "    return f'Your RMSE for test {test_name} is {metrics.mean_squared_error(y, pred)**.5}.'"
   ]
  },
  {
   "cell_type": "code",
   "execution_count": 143,
   "metadata": {},
   "outputs": [],
   "source": [
    "cat_features = ['ms_cat', 'n_cat', 'bldg_type', 'h_cat', 'central_air', 'k_cat', 'st_cat', 'ex_cat', 'hs_cat', 'mas_cat']\n",
    "features = ['overall_qual', 'year_built', 'year_remod/add', 'total_bsmt_sf', 'gr_liv_area', 'full_bath', 'garage_area',\n",
    "           'mas_vnr_area', 'totrms_abvgrd', 'fireplaces', 'bsmtfin_sf_1']\n",
    "all_feat = cat_features + features"
   ]
  },
  {
   "cell_type": "code",
   "execution_count": 144,
   "metadata": {},
   "outputs": [],
   "source": [
    "#make_model(home2, 'polytest', all_feat, cat_features)"
   ]
  },
  {
   "cell_type": "markdown",
   "metadata": {},
   "source": [
    "!!!!!!!! that is almost 15k better than before?!?!?!?! time to make a test csv!"
   ]
  },
  {
   "cell_type": "code",
   "execution_count": 145,
   "metadata": {},
   "outputs": [],
   "source": [
    "def save_test(df, test_name, features_list, dum_cols):\n",
    "    X = df[features_list]\n",
    "    X['mas_vnr_area'].fillna(X['mas_vnr_area'].mean(), inplace=True) #filling in mean for this column's nans\n",
    "    X.fillna(0, inplace=True) #fill rest of numerical nans with 0\n",
    "    #if dum_cols != 0: #if you need to get dummies in any categorical columns, it happens here, otherwise enter '0'\n",
    "    X = pd.get_dummies(X, columns=dum_cols, drop_first=True)\n",
    "    y = df['saleprice'] #add target\n",
    "    #lr = LinearRegression()\n",
    "    #lr.fit(X, y)\n",
    "    poly = PolynomialFeatures(include_bias=False)\n",
    "    X_poly = poly.fit_transform(X)\n",
    "    lr = LinearRegression()\n",
    "    lr.fit(X_poly, y)\n",
    "    print(f'Your R2 score is {lr.score(X_poly, y)}')\n",
    "    #print('first done')\n",
    "    test = pd.read_csv('datasets/test.csv') #read in test file\n",
    "    test.columns = [col.lower().replace(' ', '_') for col in test.columns] #reformat test columns\n",
    "    sub = test[['id']].copy() #put id numbers in empty array\n",
    "    \n",
    "    #apply categorical column grouping changes to test data\n",
    "    home2 = test.copy()\n",
    "    \n",
    "    home2['ms_cat'] = 'other' #making a new column for zone categories\n",
    "    home2.loc[(home2['ms_zoning'] == 'I (all)') | \n",
    "          (home2['ms_zoning'] == 'A (agr)') | \n",
    "          (home2['ms_zoning'] == 'C (all)'),\n",
    "         'ms_cat']='zone1' #zone1 includes I, A, C types\n",
    "    home2.loc[home2['ms_zoning'] == 'RH', 'ms_cat']='zone2'\n",
    "    home2.loc[home2['ms_zoning'] == 'FV', 'ms_cat']='zone3'\n",
    "    home2.loc[home2['ms_zoning'] == 'RM', 'ms_cat']='zone4'\n",
    "    \n",
    "    home2['n_cat'] = 'other' #making a new column for neighborhood category- if there is anything my filters don't catch, they'll roll into \"other\"\n",
    "    home2.loc[(home2['neighborhood'] == 'MeadowV') | (home2['neighborhood'] == 'IDOTRR'), 'n_cat']='zone1'\n",
    "    home2.loc[(home2['neighborhood'] == 'BRDale') | (home2['neighborhood'] == 'OldTown'), 'n_cat']='zone2'\n",
    "    home2.loc[(home2['neighborhood'] == 'Edwards') | (home2['neighborhood'] == 'BrkSide') | (home2['neighborhood'] == 'Sawyer'), 'n_cat']='zone3'\n",
    "    home2.loc[(home2['neighborhood'] == 'SWISU') | (home2['neighborhood'] == 'Landmrk') | (home2['neighborhood'] == 'Blueste'), 'n_cat']='zone4'\n",
    "    home2.loc[(home2['neighborhood'] == 'NAmes') | (home2['neighborhood'] == 'NPKVill'), 'n_cat']='zone5'\n",
    "    home2.loc[home2['neighborhood'] == 'Mitchell', 'n_cat']='zone6'\n",
    "    home2.loc[(home2['neighborhood'] == 'Gilbert') | (home2['neighborhood'] == 'SawyerW') | (home2['neighborhood'] == 'NWAmes'), 'n_cat']='zone7'\n",
    "    home2.loc[(home2['neighborhood'] == 'Timber') | (home2['neighborhood'] == 'Somerst'), 'n_cat']='zone9'\n",
    "    home2.loc[home2['neighborhood'] == 'ClearCr', 'n_cat']='zone10'\n",
    "    home2.loc[(home2['neighborhood'] == 'Veenker') | (home2['neighborhood'] == 'GrnHill'), 'n_cat']='zone11'\n",
    "    home2.loc[home2['neighborhood'] == 'NoRidge', 'n_cat']='zone12'\n",
    "    home2.loc[home2['neighborhood'] == 'NridgeHt', 'n_cat']='zone13'\n",
    "    home2.loc[home2['neighborhood'] == 'StoneBr', 'n_cat']='zone14'\n",
    "\n",
    "    home2['h_cat'] = 'other' #new column for heating categories\n",
    "    home2.loc[home2['heating'] == 'GasA', 'h_cat']='GasA'\n",
    "    home2.loc[home2['heating'] == 'GasW', 'h_cat']='GasW'\n",
    "    \n",
    "    home2['k_cat'] = 'other' #new column for kitchen qual categories\n",
    "    home2.loc[home2['kitchen_qual'] == 'TA', 'k_cat']='TA'\n",
    "    home2.loc[home2['kitchen_qual'] == 'Gd', 'k_cat']='Gd'\n",
    "    home2.loc[home2['kitchen_qual'] == 'Ex', 'k_cat']='Ex'\n",
    "    \n",
    "    home2['st_cat'] = 'other' #new column for sale type categories\n",
    "    home2.loc[home2['sale_type'] == 'New', 'st_cat']='New'\n",
    "    home2.loc[(home2['sale_type'] == 'Oth') | (home2['sale_type'] == 'ConLI') | (home2['sale_type'] == 'ConLw'), 'st_cat']='occ'\n",
    "    home2.loc[(home2['sale_type'] == 'CWD') | (home2['sale_type'] == 'Con'), 'st_cat']='cwn'\n",
    "    home2.loc[(home2['sale_type'] == 'COD') | (home2['sale_type'] == 'ConLD'), 'st_cat']='cld' \n",
    "    \n",
    "    home2['ex_cat'] = 'other' #new column for exterior categories\n",
    "    home2.loc[(home2['exter_cond'] == 'Fa') | (home2['exter_cond'] == 'Po'), 'ex_cat']='FaPo'\n",
    "    home2.loc[(home2['exter_cond'] == 'Gd') | (home2['exter_cond'] == 'Ex'), 'ex_cat']='GdEx'\n",
    "\n",
    "    home2['hs_cat'] = 'other' #new column for house style categories\n",
    "    home2.loc[(home2['house_style'] == 'SFoyer') | (home2['house_style'] == '1.5Unf'), 'hs_cat']='SF15U'\n",
    "    home2.loc[(home2['house_style'] == '1.5Fin') | (home2['house_style'] == 'SLvl'), 'hs_cat']='15FSL'\n",
    "    home2.loc[(home2['house_style'] == '2.5Unf') | (home2['house_style'] == '2.5Fin'), 'hs_cat']='25UF'\n",
    "    \n",
    "    home2['mas_cat'] = 'other' #new column for masonry type categories\n",
    "    home2.loc[(home2['mas_vnr_type'] == 'BrkFace') | (home2['mas_vnr_type'] == 'BrkCmn'), 'mas_cat']='Brk'\n",
    "    home2.loc[home2['mas_vnr_type'] == 'Stone', 'mas_cat']='Stone'\n",
    "    \n",
    "    test = home2.copy()\n",
    "    #print('cats done')\n",
    "    #sub = test[['id']].copy() #put id numbers in empty array\n",
    "    X_test = test[features_list] #create X value based on selected features\n",
    "    X_test['mas_vnr_area'].fillna(X_test['mas_vnr_area'].mean(), inplace=True) #filling in mean for this column's nans\n",
    "    X.fillna(0, inplace=True) #fill rest of numerical nans with 0\n",
    "    #if dum_cols != 0: #if you need to get dummies in any categorical columns, it happens here, else enter '0'\n",
    "    X_test = pd.get_dummies(X_test, columns=dum_cols, drop_first=True)\n",
    "    #print('X_test made')\n",
    "    #Xt_poly = poly.fit_transform(X_test) #poly transform the x_test list\n",
    "    sub['SalePrice'] = lr.predict(X_test) #make new df column from predictions\n",
    "    #print('sub done')\n",
    "    sub = sub.rename(columns = {'id' : 'Id'}) #rename id column to fit submission model\n",
    "    sub['Id'] = [int(n) for n in sub['Id']] #make id numbers ints to fit submission model\n",
    "    sub['SalePrice'] = [abs(n) for n in sub['SalePrice']]\n",
    "    print(sub.head())\n",
    "    query = input('Save data? Please enter \"yes\" or \"no\".')\n",
    "    if query == 'yes':\n",
    "        sub.to_csv(f'models/mod{test_name}.csv', index=False) #save submission as new csv\n",
    "        return f\"All done, submission {test_name} saved\"\n",
    "    elif query == 'no':\n",
    "        return 'Better luck next time'\n",
    "    #return sub.head() #use to preview before saving"
   ]
  },
  {
   "cell_type": "code",
   "execution_count": 146,
   "metadata": {},
   "outputs": [],
   "source": [
    "cat_features = ['ms_cat', 'n_cat', 'bldg_type', 'h_cat', 'central_air', 'k_cat', 'st_cat', 'ex_cat', 'hs_cat', 'mas_cat']\n",
    "features = ['overall_qual', 'year_built', 'year_remod/add', 'total_bsmt_sf', 'gr_liv_area', 'full_bath', 'garage_area',\n",
    "           'mas_vnr_area', 'totrms_abvgrd', 'fireplaces', 'bsmtfin_sf_1']\n",
    "all_feat = cat_features + features"
   ]
  },
  {
   "cell_type": "code",
   "execution_count": 147,
   "metadata": {},
   "outputs": [],
   "source": [
    "#save_test(home2, 'poly4', all_feat, cat_features)"
   ]
  },
  {
   "cell_type": "code",
   "execution_count": 148,
   "metadata": {},
   "outputs": [],
   "source": [
    "#https://towardsdatascience.com/machine-learning-polynomial-regression-with-python-5328e4e8a386"
   ]
  },
  {
   "cell_type": "markdown",
   "metadata": {},
   "source": [
    "The polynomial model was not succesful for submission. Seems like a pretty clear case of overfit - I scored very well on the training data but the test data is 100k off. I'm going to try taking the log."
   ]
  },
  {
   "cell_type": "markdown",
   "metadata": {},
   "source": [
    "## Model 9"
   ]
  },
  {
   "cell_type": "code",
   "execution_count": 149,
   "metadata": {},
   "outputs": [],
   "source": [
    "def save_test(df, test_name, features_list, dum_cols):\n",
    "    X = df[features_list]\n",
    "    X['mas_vnr_area'].fillna(X['mas_vnr_area'].mean(), inplace=True) #filling in mean for this column's nans\n",
    "    X.fillna(0, inplace=True) #fill rest of numerical nans with 0\n",
    "    #if dum_cols != 0: #if you need to get dummies in any categorical columns, it happens here, otherwise enter '0'\n",
    "    X = pd.get_dummies(X, columns=dum_cols, drop_first=True)\n",
    "    y = df['saleprice'].map(np.log) #add target\n",
    "    lr = LinearRegression()\n",
    "    lr.fit(X, y)\n",
    "    \n",
    "    #poly = PolynomialFeatures(include_bias=False) #use for polynomial test\n",
    "    #X_poly = poly.fit_transform(X)\n",
    "    \n",
    "    lr = LinearRegression()\n",
    "    lr.fit(X, y)\n",
    "    print(f'Your R2 score is {lr.score(X, y)}')\n",
    "    #print('first done')\n",
    "    test = pd.read_csv('datasets/test.csv') #read in test file\n",
    "    test.columns = [col.lower().replace(' ', '_') for col in test.columns] #reformat test columns\n",
    "    sub = test[['id']].copy() #put id numbers in empty array\n",
    "    \n",
    "    #apply categorical column grouping changes to test data\n",
    "    home2 = test.copy()\n",
    "    \n",
    "    home2['ms_cat'] = 'other' #making a new column for zone categories\n",
    "    home2.loc[(home2['ms_zoning'] == 'I (all)') | \n",
    "          (home2['ms_zoning'] == 'A (agr)') | \n",
    "          (home2['ms_zoning'] == 'C (all)'),\n",
    "         'ms_cat']='zone1' #zone1 includes I, A, C types\n",
    "    home2.loc[home2['ms_zoning'] == 'RH', 'ms_cat']='zone2'\n",
    "    home2.loc[home2['ms_zoning'] == 'FV', 'ms_cat']='zone3'\n",
    "    home2.loc[home2['ms_zoning'] == 'RM', 'ms_cat']='zone4'\n",
    "    \n",
    "    home2['n_cat'] = 'other' #making a new column for neighborhood category- if there is anything my filters don't catch, they'll roll into \"other\"\n",
    "    home2.loc[(home2['neighborhood'] == 'MeadowV') | (home2['neighborhood'] == 'IDOTRR'), 'n_cat']='zone1'\n",
    "    home2.loc[(home2['neighborhood'] == 'BRDale') | (home2['neighborhood'] == 'OldTown'), 'n_cat']='zone2'\n",
    "    home2.loc[(home2['neighborhood'] == 'Edwards') | (home2['neighborhood'] == 'BrkSide') | (home2['neighborhood'] == 'Sawyer'), 'n_cat']='zone3'\n",
    "    home2.loc[(home2['neighborhood'] == 'SWISU') | (home2['neighborhood'] == 'Landmrk') | (home2['neighborhood'] == 'Blueste'), 'n_cat']='zone4'\n",
    "    home2.loc[(home2['neighborhood'] == 'NAmes') | (home2['neighborhood'] == 'NPKVill'), 'n_cat']='zone5'\n",
    "    home2.loc[home2['neighborhood'] == 'Mitchell', 'n_cat']='zone6'\n",
    "    home2.loc[(home2['neighborhood'] == 'Gilbert') | (home2['neighborhood'] == 'SawyerW') | (home2['neighborhood'] == 'NWAmes'), 'n_cat']='zone7'\n",
    "    home2.loc[(home2['neighborhood'] == 'Timber') | (home2['neighborhood'] == 'Somerst'), 'n_cat']='zone9'\n",
    "    home2.loc[home2['neighborhood'] == 'ClearCr', 'n_cat']='zone10'\n",
    "    home2.loc[(home2['neighborhood'] == 'Veenker') | (home2['neighborhood'] == 'GrnHill'), 'n_cat']='zone11'\n",
    "    home2.loc[home2['neighborhood'] == 'NoRidge', 'n_cat']='zone12'\n",
    "    home2.loc[home2['neighborhood'] == 'NridgeHt', 'n_cat']='zone13'\n",
    "    home2.loc[home2['neighborhood'] == 'StoneBr', 'n_cat']='zone14'\n",
    "\n",
    "    home2['h_cat'] = 'other' #new column for heating categories\n",
    "    home2.loc[home2['heating'] == 'GasA', 'h_cat']='GasA'\n",
    "    home2.loc[home2['heating'] == 'GasW', 'h_cat']='GasW'\n",
    "    \n",
    "    home2['k_cat'] = 'other' #new column for kitchen qual categories\n",
    "    home2.loc[home2['kitchen_qual'] == 'TA', 'k_cat']='TA'\n",
    "    home2.loc[home2['kitchen_qual'] == 'Gd', 'k_cat']='Gd'\n",
    "    home2.loc[home2['kitchen_qual'] == 'Ex', 'k_cat']='Ex'\n",
    "    \n",
    "    home2['st_cat'] = 'other' #new column for sale type categories\n",
    "    home2.loc[home2['sale_type'] == 'New', 'st_cat']='New'\n",
    "    home2.loc[(home2['sale_type'] == 'Oth') | (home2['sale_type'] == 'ConLI') | (home2['sale_type'] == 'ConLw'), 'st_cat']='occ'\n",
    "    home2.loc[(home2['sale_type'] == 'CWD') | (home2['sale_type'] == 'Con'), 'st_cat']='cwn'\n",
    "    home2.loc[(home2['sale_type'] == 'COD') | (home2['sale_type'] == 'ConLD'), 'st_cat']='cld' \n",
    "    \n",
    "    home2['ex_cat'] = 'other' #new column for exterior categories\n",
    "    home2.loc[(home2['exter_cond'] == 'Fa') | (home2['exter_cond'] == 'Po'), 'ex_cat']='FaPo'\n",
    "    home2.loc[(home2['exter_cond'] == 'Gd') | (home2['exter_cond'] == 'Ex'), 'ex_cat']='GdEx'\n",
    "\n",
    "    home2['hs_cat'] = 'other' #new column for house style categories\n",
    "    home2.loc[(home2['house_style'] == 'SFoyer') | (home2['house_style'] == '1.5Unf'), 'hs_cat']='SF15U'\n",
    "    home2.loc[(home2['house_style'] == '1.5Fin') | (home2['house_style'] == 'SLvl'), 'hs_cat']='15FSL'\n",
    "    home2.loc[(home2['house_style'] == '2.5Unf') | (home2['house_style'] == '2.5Fin'), 'hs_cat']='25UF'\n",
    "    \n",
    "    home2['mas_cat'] = 'other' #new column for masonry type categories\n",
    "    home2.loc[(home2['mas_vnr_type'] == 'BrkFace') | (home2['mas_vnr_type'] == 'BrkCmn'), 'mas_cat']='Brk'\n",
    "    home2.loc[home2['mas_vnr_type'] == 'Stone', 'mas_cat']='Stone'\n",
    "    \n",
    "    test = home2.copy()\n",
    "    #print('cats done')\n",
    "    #sub = test[['id']].copy() #put id numbers in empty array\n",
    "    X_test = test[features_list] #create X value based on selected features\n",
    "    X_test['mas_vnr_area'].fillna(X_test['mas_vnr_area'].mean(), inplace=True) #filling in mean for this column's nans\n",
    "    X.fillna(0, inplace=True) #fill rest of numerical nans with 0\n",
    "    #if dum_cols != 0: #if you need to get dummies in any categorical columns, it happens here, else enter '0'\n",
    "    X_test = pd.get_dummies(X_test, columns=dum_cols, drop_first=True)\n",
    "    #print('X_test made')\n",
    "    #Xt_poly = poly.fit_transform(X_test) #poly transform the x_test list\n",
    "    sub['SalePrice'] = lr.predict(X_test) #make new df column from predictions\n",
    "    #print('sub done')\n",
    "    sub['SalePrice'] = np.exp(sub['SalePrice'])\n",
    "    sub = sub.rename(columns = {'id' : 'Id'}) #rename id column to fit submission model\n",
    "    sub['Id'] = [int(n) for n in sub['Id']] #make id numbers ints to fit submission model\n",
    "    print(sub.head())\n",
    "    query = input('Save data? Please enter \"yes\" or \"no\".')\n",
    "    if query == 'yes':\n",
    "        sub.to_csv(f'models/{test_name}.csv', index=False) #save submission as new csv\n",
    "        return f\"All done, submission {test_name} saved\"\n",
    "    elif query == 'no':\n",
    "        return 'Better luck next time'\n",
    "    #return sub.head() #use to preview before saving"
   ]
  },
  {
   "cell_type": "code",
   "execution_count": 150,
   "metadata": {},
   "outputs": [],
   "source": [
    "cat_features = ['ms_cat', 'n_cat', 'bldg_type', 'h_cat', 'central_air', 'k_cat', 'st_cat', 'ex_cat', 'hs_cat', 'mas_cat']\n",
    "features = ['overall_qual', 'year_built', 'year_remod/add', 'total_bsmt_sf', 'gr_liv_area', 'full_bath', 'garage_area',\n",
    "           'mas_vnr_area', 'totrms_abvgrd', 'fireplaces', 'bsmtfin_sf_1']\n",
    "all_feat = cat_features + features"
   ]
  },
  {
   "cell_type": "code",
   "execution_count": 151,
   "metadata": {},
   "outputs": [],
   "source": [
    "#save_test(home2, 'log3_all', all_feat, cat_features)"
   ]
  },
  {
   "cell_type": "markdown",
   "metadata": {},
   "source": [
    "## Model 10"
   ]
  },
  {
   "cell_type": "markdown",
   "metadata": {},
   "source": [
    "...some time later...  \n",
    "In 10/4 office hours with Noelle, she suggested trying some of my categories as ordinal instead of as dummies, since some of them are truly ordered by value (like neighborhood.)"
   ]
  },
  {
   "cell_type": "markdown",
   "metadata": {},
   "source": [
    "Here is my list of categorical transformations - I'm going to order neighborhood first just to see if it makes any difference."
   ]
  },
  {
   "cell_type": "code",
   "execution_count": 152,
   "metadata": {},
   "outputs": [],
   "source": [
    "    home2['ms_cat'] = 'other' #making a new column for zone categories\n",
    "    home2.loc[(home2['ms_zoning'] == 'I (all)') | \n",
    "          (home2['ms_zoning'] == 'A (agr)') | \n",
    "          (home2['ms_zoning'] == 'C (all)'),\n",
    "         'ms_cat']='zone1' #zone1 includes I, A, C types\n",
    "    home2.loc[home2['ms_zoning'] == 'RH', 'ms_cat']='zone2'\n",
    "    home2.loc[home2['ms_zoning'] == 'FV', 'ms_cat']='zone3'\n",
    "    home2.loc[home2['ms_zoning'] == 'RM', 'ms_cat']='zone4'\n",
    "    \n",
    "    home2['n_cat'] = 8 #making a new column for neighborhood category- if there is anything my filters don't catch, they'll roll into \"other\"\n",
    "    home2.loc[(home2['neighborhood'] == 'MeadowV') | (home2['neighborhood'] == 'IDOTRR'), 'n_cat']=1\n",
    "    home2.loc[(home2['neighborhood'] == 'BRDale') | (home2['neighborhood'] == 'OldTown'), 'n_cat']=2\n",
    "    home2.loc[(home2['neighborhood'] == 'Edwards') | (home2['neighborhood'] == 'BrkSide') | (home2['neighborhood'] == 'Sawyer'), 'n_cat']=3\n",
    "    home2.loc[(home2['neighborhood'] == 'SWISU') | (home2['neighborhood'] == 'Landmrk') | (home2['neighborhood'] == 'Blueste'), 'n_cat']=4\n",
    "    home2.loc[(home2['neighborhood'] == 'NAmes') | (home2['neighborhood'] == 'NPKVill'), 'n_cat']=5\n",
    "    home2.loc[home2['neighborhood'] == 'Mitchell', 'n_cat']=6\n",
    "    home2.loc[(home2['neighborhood'] == 'Gilbert') | (home2['neighborhood'] == 'SawyerW') | (home2['neighborhood'] == 'NWAmes'), 'n_cat']=7\n",
    "    home2.loc[(home2['neighborhood'] == 'Timber') | (home2['neighborhood'] == 'Somerst'), 'n_cat']=9\n",
    "    home2.loc[home2['neighborhood'] == 'ClearCr', 'n_cat']=10\n",
    "    home2.loc[(home2['neighborhood'] == 'Veenker') | (home2['neighborhood'] == 'GrnHill'), 'n_cat']=11\n",
    "    home2.loc[home2['neighborhood'] == 'NoRidge', 'n_cat']=12\n",
    "    home2.loc[home2['neighborhood'] == 'NridgeHt', 'n_cat']=13\n",
    "    home2.loc[home2['neighborhood'] == 'StoneBr', 'n_cat']=14\n",
    "\n",
    "    home2['h_cat'] = 'other' #new column for heating categories\n",
    "    home2.loc[home2['heating'] == 'GasA', 'h_cat']='GasA'\n",
    "    home2.loc[home2['heating'] == 'GasW', 'h_cat']='GasW'\n",
    "    \n",
    "    home2['k_cat'] = 'other' #new column for kitchen qual categories\n",
    "    home2.loc[home2['kitchen_qual'] == 'TA', 'k_cat']='TA'\n",
    "    home2.loc[home2['kitchen_qual'] == 'Gd', 'k_cat']='Gd'\n",
    "    home2.loc[home2['kitchen_qual'] == 'Ex', 'k_cat']='Ex'\n",
    "    \n",
    "    home2['st_cat'] = 'other' #new column for sale type categories\n",
    "    home2.loc[home2['sale_type'] == 'New', 'st_cat']='New'\n",
    "    home2.loc[(home2['sale_type'] == 'Oth') | (home2['sale_type'] == 'ConLI') | (home2['sale_type'] == 'ConLw'), 'st_cat']='occ'\n",
    "    home2.loc[(home2['sale_type'] == 'CWD') | (home2['sale_type'] == 'Con'), 'st_cat']='cwn'\n",
    "    home2.loc[(home2['sale_type'] == 'COD') | (home2['sale_type'] == 'ConLD'), 'st_cat']='cld' \n",
    "    \n",
    "    home2['ex_cat'] = 'other' #new column for exterior categories\n",
    "    home2.loc[(home2['exter_cond'] == 'Fa') | (home2['exter_cond'] == 'Po'), 'ex_cat']='FaPo'\n",
    "    home2.loc[(home2['exter_cond'] == 'Gd') | (home2['exter_cond'] == 'Ex'), 'ex_cat']='GdEx'\n",
    "\n",
    "    home2['hs_cat'] = 'other' #new column for house style categories\n",
    "    home2.loc[(home2['house_style'] == 'SFoyer') | (home2['house_style'] == '1.5Unf'), 'hs_cat']='SF15U'\n",
    "    home2.loc[(home2['house_style'] == '1.5Fin') | (home2['house_style'] == 'SLvl'), 'hs_cat']='15FSL'\n",
    "    home2.loc[(home2['house_style'] == '2.5Unf') | (home2['house_style'] == '2.5Fin'), 'hs_cat']='25UF'\n",
    "    \n",
    "    home2['mas_cat'] = 'other' #new column for masonry type categories\n",
    "    home2.loc[(home2['mas_vnr_type'] == 'BrkFace') | (home2['mas_vnr_type'] == 'BrkCmn'), 'mas_cat']='Brk'\n",
    "    home2.loc[home2['mas_vnr_type'] == 'Stone', 'mas_cat']='Stone'\n",
    "    "
   ]
  },
  {
   "cell_type": "markdown",
   "metadata": {},
   "source": [
    "Great- n_cat is now ranked by value - I just need to be sure to include it as a numerical column not a categorical so it does not get dummied."
   ]
  },
  {
   "cell_type": "code",
   "execution_count": 153,
   "metadata": {},
   "outputs": [],
   "source": [
    "home2 = home.copy()\n",
    "\n",
    "home2['ms_cat'] = 'other' #making a new column for zone categories\n",
    "home2.loc[(home2['ms_zoning'] == 'I (all)') | \n",
    "      (home2['ms_zoning'] == 'A (agr)') | \n",
    "      (home2['ms_zoning'] == 'C (all)'),\n",
    "     'ms_cat']='ms1' #zone1 includes I, A, C types\n",
    "home2.loc[home2['ms_zoning'] == 'RH', 'ms_cat']='ms2'\n",
    "home2.loc[home2['ms_zoning'] == 'FV', 'ms_cat']='ms3'\n",
    "home2.loc[home2['ms_zoning'] == 'RM', 'ms_cat']='ms4'\n",
    "\n",
    "home2['n_cat'] = 8 #making a new column for neighborhood category- if there is anything my filters don't catch, they'll roll into \"other\"\n",
    "home2.loc[(home2['neighborhood'] == 'MeadowV') | (home2['neighborhood'] == 'IDOTRR'), 'n_cat']=1\n",
    "home2.loc[(home2['neighborhood'] == 'BRDale') | (home2['neighborhood'] == 'OldTown'), 'n_cat']=2\n",
    "home2.loc[(home2['neighborhood'] == 'Edwards') | (home2['neighborhood'] == 'BrkSide') | (home2['neighborhood'] == 'Sawyer'), 'n_cat']=3\n",
    "home2.loc[(home2['neighborhood'] == 'SWISU') | (home2['neighborhood'] == 'Landmrk') | (home2['neighborhood'] == 'Blueste'), 'n_cat']=4\n",
    "home2.loc[(home2['neighborhood'] == 'NAmes') | (home2['neighborhood'] == 'NPKVill'), 'n_cat']=5\n",
    "home2.loc[home2['neighborhood'] == 'Mitchell', 'n_cat']=6\n",
    "home2.loc[(home2['neighborhood'] == 'Gilbert') | (home2['neighborhood'] == 'SawyerW') | (home2['neighborhood'] == 'NWAmes'), 'n_cat']=7\n",
    "home2.loc[(home2['neighborhood'] == 'Timber') | (home2['neighborhood'] == 'Somerst'), 'n_cat']=9\n",
    "home2.loc[home2['neighborhood'] == 'ClearCr', 'n_cat']=10\n",
    "home2.loc[(home2['neighborhood'] == 'Veenker') | (home2['neighborhood'] == 'GrnHill'), 'n_cat']=11\n",
    "home2.loc[home2['neighborhood'] == 'NoRidge', 'n_cat']=12\n",
    "home2.loc[home2['neighborhood'] == 'NridgeHt', 'n_cat']=13\n",
    "home2.loc[home2['neighborhood'] == 'StoneBr', 'n_cat']=14\n",
    "\n",
    "home2['h_cat'] = 'other' #new column for heating categories\n",
    "home2.loc[home2['heating'] == 'GasA', 'h_cat']='GasA'\n",
    "home2.loc[home2['heating'] == 'GasW', 'h_cat']='GasW'\n",
    "\n",
    "home2['k_cat'] = 'other' #new column for kitchen qual categories\n",
    "home2.loc[home2['kitchen_qual'] == 'TA', 'k_cat']='TA'\n",
    "home2.loc[home2['kitchen_qual'] == 'Gd', 'k_cat']='Gd'\n",
    "home2.loc[home2['kitchen_qual'] == 'Ex', 'k_cat']='Ex'\n",
    "\n",
    "home2['st_cat'] = 'other' #new column for sale type categories\n",
    "home2.loc[home2['sale_type'] == 'New', 'st_cat']='New'\n",
    "home2.loc[(home2['sale_type'] == 'Oth') | (home2['sale_type'] == 'ConLI') | (home2['sale_type'] == 'ConLw'), 'st_cat']='occ'\n",
    "home2.loc[(home2['sale_type'] == 'CWD') | (home2['sale_type'] == 'Con'), 'st_cat']='cwn'\n",
    "home2.loc[(home2['sale_type'] == 'COD') | (home2['sale_type'] == 'ConLD'), 'st_cat']='cld' \n",
    "\n",
    "home2['ex_cat'] = 'other' #new column for exterior categories\n",
    "home2.loc[(home2['exter_cond'] == 'Fa') | (home2['exter_cond'] == 'Po'), 'ex_cat']='FaPo'\n",
    "home2.loc[(home2['exter_cond'] == 'Gd') | (home2['exter_cond'] == 'Ex'), 'ex_cat']='GdEx'\n",
    "\n",
    "home2['hs_cat'] = 'other' #new column for house style categories\n",
    "home2.loc[(home2['house_style'] == 'SFoyer') | (home2['house_style'] == '1.5Unf'), 'hs_cat']='SF15U'\n",
    "home2.loc[(home2['house_style'] == '1.5Fin') | (home2['house_style'] == 'SLvl'), 'hs_cat']='15FSL'\n",
    "home2.loc[(home2['house_style'] == '2.5Unf') | (home2['house_style'] == '2.5Fin'), 'hs_cat']='25UF'\n",
    "\n",
    "home2['mas_cat'] = 'other' #new column for masonry type categories\n",
    "home2.loc[(home2['mas_vnr_type'] == 'BrkFace') | (home2['mas_vnr_type'] == 'BrkCmn'), 'mas_cat']='Brk'\n",
    "home2.loc[home2['mas_vnr_type'] == 'Stone', 'mas_cat']='Stone'"
   ]
  },
  {
   "cell_type": "code",
   "execution_count": 154,
   "metadata": {},
   "outputs": [],
   "source": [
    "def save_test(df, test_name, features_list, dum_cols):\n",
    "    X = df[features_list]\n",
    "    X['mas_vnr_area'].fillna(X['mas_vnr_area'].mean(), inplace=True) #filling in mean for this column's nans\n",
    "    X.fillna(0, inplace=True) #fill rest of numerical nans with 0\n",
    "    #if dum_cols != 0: #if you need to get dummies in any categorical columns, it happens here, otherwise enter '0'\n",
    "    X = pd.get_dummies(X, columns=dum_cols, drop_first=True)\n",
    "    y = df['saleprice'].map(np.log) #add target\n",
    "    lr = LinearRegression()\n",
    "    lr.fit(X, y)\n",
    "    \n",
    "    #poly = PolynomialFeatures(include_bias=False) #use for polynomial test\n",
    "    #X_poly = poly.fit_transform(X)\n",
    "    \n",
    "    print(f'Your R2 score is {lr.score(X, y)}')\n",
    "    #print('first done')\n",
    "    test = pd.read_csv('datasets/test.csv') #read in test file\n",
    "    test.columns = [col.lower().replace(' ', '_') for col in test.columns] #reformat test columns\n",
    "    sub = test[['id']].copy() #put id numbers in empty array\n",
    "    \n",
    "    #apply categorical column grouping changes to test data\n",
    "    home2 = test.copy()\n",
    "    \n",
    "    home2['ms_cat'] = 'other' #making a new column for zone categories\n",
    "    home2.loc[(home2['ms_zoning'] == 'I (all)') | \n",
    "          (home2['ms_zoning'] == 'A (agr)') | \n",
    "          (home2['ms_zoning'] == 'C (all)'),\n",
    "         'ms_cat']='ms1' #zone1 includes I, A, C types\n",
    "    home2.loc[home2['ms_zoning'] == 'RH', 'ms_cat']='ms2'\n",
    "    home2.loc[home2['ms_zoning'] == 'FV', 'ms_cat']='ms3'\n",
    "    home2.loc[home2['ms_zoning'] == 'RM', 'ms_cat']='ms4'\n",
    "    \n",
    "    home2['n_cat'] = 8 #making a new column for neighborhood category- if there is anything my filters don't catch, they'll roll into \"other\"\n",
    "    home2.loc[(home2['neighborhood'] == 'MeadowV') | (home2['neighborhood'] == 'IDOTRR'), 'n_cat']=1\n",
    "    home2.loc[(home2['neighborhood'] == 'BRDale') | (home2['neighborhood'] == 'OldTown'), 'n_cat']=2\n",
    "    home2.loc[(home2['neighborhood'] == 'Edwards') | (home2['neighborhood'] == 'BrkSide') | (home2['neighborhood'] == 'Sawyer'), 'n_cat']=3\n",
    "    home2.loc[(home2['neighborhood'] == 'SWISU') | (home2['neighborhood'] == 'Landmrk') | (home2['neighborhood'] == 'Blueste'), 'n_cat']=4\n",
    "    home2.loc[(home2['neighborhood'] == 'NAmes') | (home2['neighborhood'] == 'NPKVill'), 'n_cat']=5\n",
    "    home2.loc[home2['neighborhood'] == 'Mitchell', 'n_cat']=6\n",
    "    home2.loc[(home2['neighborhood'] == 'Gilbert') | (home2['neighborhood'] == 'SawyerW') | (home2['neighborhood'] == 'NWAmes'), 'n_cat']=7\n",
    "    home2.loc[(home2['neighborhood'] == 'Timber') | (home2['neighborhood'] == 'Somerst'), 'n_cat']=9\n",
    "    home2.loc[home2['neighborhood'] == 'ClearCr', 'n_cat']=10\n",
    "    home2.loc[(home2['neighborhood'] == 'Veenker') | (home2['neighborhood'] == 'GrnHill'), 'n_cat']=11\n",
    "    home2.loc[home2['neighborhood'] == 'NoRidge', 'n_cat']=12\n",
    "    home2.loc[home2['neighborhood'] == 'NridgeHt', 'n_cat']=13\n",
    "    home2.loc[home2['neighborhood'] == 'StoneBr', 'n_cat']=14\n",
    "\n",
    "    home2['h_cat'] = 'other' #new column for heating categories\n",
    "    home2.loc[home2['heating'] == 'GasA', 'h_cat']='GasA'\n",
    "    home2.loc[home2['heating'] == 'GasW', 'h_cat']='GasW'\n",
    "    \n",
    "    home2['k_cat'] = 'other' #new column for kitchen qual categories\n",
    "    home2.loc[home2['kitchen_qual'] == 'TA', 'k_cat']='TA'\n",
    "    home2.loc[home2['kitchen_qual'] == 'Gd', 'k_cat']='Gd'\n",
    "    home2.loc[home2['kitchen_qual'] == 'Ex', 'k_cat']='Ex'\n",
    "    \n",
    "    home2['st_cat'] = 'other' #new column for sale type categories\n",
    "    home2.loc[home2['sale_type'] == 'New', 'st_cat']='New'\n",
    "    home2.loc[(home2['sale_type'] == 'Oth') | (home2['sale_type'] == 'ConLI') | (home2['sale_type'] == 'ConLw'), 'st_cat']='occ'\n",
    "    home2.loc[(home2['sale_type'] == 'CWD') | (home2['sale_type'] == 'Con'), 'st_cat']='cwn'\n",
    "    home2.loc[(home2['sale_type'] == 'COD') | (home2['sale_type'] == 'ConLD'), 'st_cat']='cld' \n",
    "    \n",
    "    home2['ex_cat'] = 'other' #new column for exterior categories\n",
    "    home2.loc[(home2['exter_cond'] == 'Fa') | (home2['exter_cond'] == 'Po'), 'ex_cat']='FaPo'\n",
    "    home2.loc[(home2['exter_cond'] == 'Gd') | (home2['exter_cond'] == 'Ex'), 'ex_cat']='GdEx'\n",
    "\n",
    "    home2['hs_cat'] = 'other' #new column for house style categories\n",
    "    home2.loc[(home2['house_style'] == 'SFoyer') | (home2['house_style'] == '1.5Unf'), 'hs_cat']='SF15U'\n",
    "    home2.loc[(home2['house_style'] == '1.5Fin') | (home2['house_style'] == 'SLvl'), 'hs_cat']='15FSL'\n",
    "    home2.loc[(home2['house_style'] == '2.5Unf') | (home2['house_style'] == '2.5Fin'), 'hs_cat']='25UF'\n",
    "    \n",
    "    home2['mas_cat'] = 'other' #new column for masonry type categories\n",
    "    home2.loc[(home2['mas_vnr_type'] == 'BrkFace') | (home2['mas_vnr_type'] == 'BrkCmn'), 'mas_cat']='Brk'\n",
    "    home2.loc[home2['mas_vnr_type'] == 'Stone', 'mas_cat']='Stone'\n",
    "    \n",
    "    test = home2.copy()\n",
    "    #print('cats done')\n",
    "    #sub = test[['id']].copy() #put id numbers in empty array\n",
    "    X_test = test[features_list] #create X value based on selected features\n",
    "    X_test['mas_vnr_area'].fillna(X_test['mas_vnr_area'].mean(), inplace=True) #filling in mean for this column's nans\n",
    "    X.fillna(0, inplace=True) #fill rest of numerical nans with 0\n",
    "    #if dum_cols != 0: #if you need to get dummies in any categorical columns, it happens here, else enter '0'\n",
    "    X_test = pd.get_dummies(X_test, columns=dum_cols, drop_first=True)\n",
    "    #print('X_test made')\n",
    "    #Xt_poly = poly.fit_transform(X_test) #poly transform the x_test list\n",
    "    sub['SalePrice'] = lr.predict(X_test) #make new df column from predictions\n",
    "    #print('sub done')\n",
    "    sub['SalePrice'] = np.exp(sub['SalePrice'])\n",
    "    sub = sub.rename(columns = {'id' : 'Id'}) #rename id column to fit submission model\n",
    "    sub['Id'] = [int(n) for n in sub['Id']] #make id numbers ints to fit submission model\n",
    "    print(sub.head())\n",
    "    query = input('Save data? Please enter \"yes\" or \"no\".')\n",
    "    if query == 'yes':\n",
    "        sub.to_csv(f'models/{test_name}.csv', index=False) #save submission as new csv\n",
    "        return f\"All done, submission {test_name} saved\"\n",
    "    elif query == 'no':\n",
    "        return 'Better luck next time'"
   ]
  },
  {
   "cell_type": "code",
   "execution_count": 155,
   "metadata": {},
   "outputs": [],
   "source": [
    "cat_features = ['ms_cat', 'bldg_type', 'h_cat', 'central_air', 'k_cat', 'st_cat', 'ex_cat', 'hs_cat', 'mas_cat']\n",
    "features = ['overall_qual', 'year_built', 'year_remod/add', 'total_bsmt_sf', 'gr_liv_area', 'full_bath', 'garage_area',\n",
    "           'mas_vnr_area', 'totrms_abvgrd', 'fireplaces', 'bsmtfin_sf_1', 'n_cat'] #added n_cat to numerical features\n",
    "all_feat = cat_features + features"
   ]
  },
  {
   "cell_type": "code",
   "execution_count": 156,
   "metadata": {},
   "outputs": [],
   "source": [
    "#save_test(home2, 'ord_n_cat', all_feat, cat_features)"
   ]
  },
  {
   "cell_type": "markdown",
   "metadata": {},
   "source": [
    "Didn't seem to make a ton of difference. I'm going to ordinate some more of the columns and try again."
   ]
  },
  {
   "cell_type": "code",
   "execution_count": 157,
   "metadata": {},
   "outputs": [],
   "source": [
    "home2 = home.copy()\n",
    "\n",
    "home2['ms_cat'] = 'other' #making a new column for zone categories\n",
    "home2.loc[(home2['ms_zoning'] == 'I (all)') | \n",
    "      (home2['ms_zoning'] == 'A (agr)') | \n",
    "      (home2['ms_zoning'] == 'C (all)'),\n",
    "     'ms_cat']='ms1' #zone1 includes I, A, C types\n",
    "home2.loc[home2['ms_zoning'] == 'RH', 'ms_cat']='ms2'\n",
    "home2.loc[home2['ms_zoning'] == 'FV', 'ms_cat']='ms3'\n",
    "home2.loc[home2['ms_zoning'] == 'RM', 'ms_cat']='ms4'\n",
    "\n",
    "home2['n_cat'] = 8 #making a new column for neighborhood category- if there is anything my filters don't catch, they'll roll into \"other\"\n",
    "home2.loc[(home2['neighborhood'] == 'MeadowV') | (home2['neighborhood'] == 'IDOTRR'), 'n_cat']=1\n",
    "home2.loc[(home2['neighborhood'] == 'BRDale') | (home2['neighborhood'] == 'OldTown'), 'n_cat']=2\n",
    "home2.loc[(home2['neighborhood'] == 'Edwards') | (home2['neighborhood'] == 'BrkSide') | (home2['neighborhood'] == 'Sawyer'), 'n_cat']=3\n",
    "home2.loc[(home2['neighborhood'] == 'SWISU') | (home2['neighborhood'] == 'Landmrk') | (home2['neighborhood'] == 'Blueste'), 'n_cat']=4\n",
    "home2.loc[(home2['neighborhood'] == 'NAmes') | (home2['neighborhood'] == 'NPKVill'), 'n_cat']=5\n",
    "home2.loc[home2['neighborhood'] == 'Mitchell', 'n_cat']=6\n",
    "home2.loc[(home2['neighborhood'] == 'Gilbert') | (home2['neighborhood'] == 'SawyerW') | (home2['neighborhood'] == 'NWAmes'), 'n_cat']=7\n",
    "home2.loc[(home2['neighborhood'] == 'Timber') | (home2['neighborhood'] == 'Somerst'), 'n_cat']=9\n",
    "home2.loc[home2['neighborhood'] == 'ClearCr', 'n_cat']=10\n",
    "home2.loc[(home2['neighborhood'] == 'Veenker') | (home2['neighborhood'] == 'GrnHill'), 'n_cat']=11\n",
    "home2.loc[home2['neighborhood'] == 'NoRidge', 'n_cat']=12\n",
    "home2.loc[home2['neighborhood'] == 'NridgeHt', 'n_cat']=13\n",
    "home2.loc[home2['neighborhood'] == 'StoneBr', 'n_cat']=14 #neighborhoods ranked by price 1-14\n",
    "\n",
    "home2['h_cat'] = 1 #new column for heating categories\n",
    "home2.loc[home2['heating'] == 'GasA', 'h_cat']=2\n",
    "home2.loc[home2['heating'] == 'GasW', 'h_cat']=3 #grav/wall/other = 1, gasa = 2, gasw = 3\n",
    "\n",
    "home2['k_cat'] = 1 #new column for kitchen qual categories\n",
    "home2.loc[home2['kitchen_qual'] == 'TA', 'k_cat']=2\n",
    "home2.loc[home2['kitchen_qual'] == 'Gd', 'k_cat']=3\n",
    "home2.loc[home2['kitchen_qual'] == 'Ex', 'k_cat']=4 #fair/poor will be 1, TA will be 2, GD as 3, and EX as 4\n",
    "\n",
    "home2['st_cat'] = 'other' #new column for sale type categories\n",
    "home2.loc[home2['sale_type'] == 'New', 'st_cat']='New'\n",
    "home2.loc[(home2['sale_type'] == 'Oth') | (home2['sale_type'] == 'ConLI') | (home2['sale_type'] == 'ConLw'), 'st_cat']='occ'\n",
    "home2.loc[(home2['sale_type'] == 'CWD') | (home2['sale_type'] == 'Con'), 'st_cat']='cwn'\n",
    "home2.loc[(home2['sale_type'] == 'COD') | (home2['sale_type'] == 'ConLD'), 'st_cat']='cld' \n",
    "\n",
    "home2['ex_cat'] = 2 #new column for exterior categories\n",
    "home2.loc[(home2['exter_cond'] == 'Fa') | (home2['exter_cond'] == 'Po'), 'ex_cat']=1\n",
    "home2.loc[(home2['exter_cond'] == 'Gd') | (home2['exter_cond'] == 'Ex'), 'ex_cat']=3 #ranked 1 for fa/po, 2 for TA, and 3 for gd/ex\n",
    "\n",
    "home2['hs_cat'] = 'other' #new column for house style categories\n",
    "home2.loc[(home2['house_style'] == 'SFoyer') | (home2['house_style'] == '1.5Unf'), 'hs_cat']='SF15U'\n",
    "home2.loc[(home2['house_style'] == '1.5Fin') | (home2['house_style'] == 'SLvl'), 'hs_cat']='15FSL'\n",
    "home2.loc[(home2['house_style'] == '2.5Unf') | (home2['house_style'] == '2.5Fin'), 'hs_cat']='25UF'\n",
    "\n",
    "home2['mas_cat'] = 1 #new column for masonry type categories \n",
    "home2.loc[(home2['mas_vnr_type'] == 'BrkFace') | (home2['mas_vnr_type'] == 'BrkCmn'), 'mas_cat']=2\n",
    "home2.loc[home2['mas_vnr_type'] == 'Stone', 'mas_cat']=3 #make \"none\" = to 1, brick as 2, and stone as 3\n",
    "\n",
    "home2['cen_cat'] = 1\n",
    "home2.loc[home2['central_air'] == 'Y', 'cen_cat']=2 #makeing central air ordinal, since having it is clearly better than not"
   ]
  },
  {
   "cell_type": "markdown",
   "metadata": {},
   "source": [
    "Columns I have changed to ranked and need to move from cat feature list to numerical feature list:  \n",
    "- h_cat\n",
    "- ex_cat\n",
    "- mas_cat\n",
    "- cen_cat (previously central_air\n",
    "- k_cat"
   ]
  },
  {
   "cell_type": "code",
   "execution_count": 158,
   "metadata": {},
   "outputs": [],
   "source": [
    "#making feature adjustments\n",
    "cat_features = ['ms_cat', 'bldg_type', 'st_cat', 'hs_cat']\n",
    "features = ['overall_qual', 'year_built', 'year_remod/add', 'total_bsmt_sf', 'gr_liv_area', 'full_bath', 'garage_area',\n",
    "           'mas_vnr_area', 'totrms_abvgrd', 'fireplaces', 'bsmtfin_sf_1', 'n_cat', 'h_cat', 'ex_cat', 'mas_cat', 'cen_cat', 'k_cat'] \n",
    "all_feat = cat_features + features"
   ]
  },
  {
   "cell_type": "markdown",
   "metadata": {},
   "source": [
    "Now I need to fix my function so that it does the same transformations on the test data when it pulls it in."
   ]
  },
  {
   "cell_type": "code",
   "execution_count": 159,
   "metadata": {},
   "outputs": [],
   "source": [
    "def save_test(df, test_name, features_list, dum_cols):\n",
    "    X = df[features_list]\n",
    "    X['mas_vnr_area'].fillna(X['mas_vnr_area'].mean(), inplace=True) #filling in mean for this column's nans\n",
    "    X.fillna(0, inplace=True) #fill rest of numerical nans with 0\n",
    "    #if dum_cols != 0: #if you need to get dummies in any categorical columns, it happens here, otherwise enter '0'\n",
    "    X = pd.get_dummies(X, columns=dum_cols, drop_first=True)\n",
    "    y = df['saleprice'].map(np.log) #add target\n",
    "    lr = LinearRegression()\n",
    "    lr.fit(X, y)\n",
    "    \n",
    "    #poly = PolynomialFeatures(include_bias=False) #use for polynomial test\n",
    "    #X_poly = poly.fit_transform(X)\n",
    "    \n",
    "    print(f'Your R2 score is {lr.score(X, y)}')\n",
    "    #print('first done')\n",
    "    test = pd.read_csv('datasets/test.csv') #read in test file\n",
    "    test.columns = [col.lower().replace(' ', '_') for col in test.columns] #reformat test columns\n",
    "    sub = test[['id']].copy() #put id numbers in empty array\n",
    "    \n",
    "    #apply categorical column grouping changes to test data\n",
    "    home2 = test.copy()\n",
    "    \n",
    "    home2['ms_cat'] = 'other' #making a new column for zone categories\n",
    "    home2.loc[(home2['ms_zoning'] == 'I (all)') | \n",
    "          (home2['ms_zoning'] == 'A (agr)') | \n",
    "          (home2['ms_zoning'] == 'C (all)'),\n",
    "         'ms_cat']='ms1' #zone1 includes I, A, C types\n",
    "    home2.loc[home2['ms_zoning'] == 'RH', 'ms_cat']='ms2'\n",
    "    home2.loc[home2['ms_zoning'] == 'FV', 'ms_cat']='ms3'\n",
    "    home2.loc[home2['ms_zoning'] == 'RM', 'ms_cat']='ms4'\n",
    "\n",
    "    home2['n_cat'] = 8 #making a new column for neighborhood category- if there is anything my filters don't catch, they'll roll into \"other\"\n",
    "    home2.loc[(home2['neighborhood'] == 'MeadowV') | (home2['neighborhood'] == 'IDOTRR'), 'n_cat']=1\n",
    "    home2.loc[(home2['neighborhood'] == 'BRDale') | (home2['neighborhood'] == 'OldTown'), 'n_cat']=2\n",
    "    home2.loc[(home2['neighborhood'] == 'Edwards') | (home2['neighborhood'] == 'BrkSide') | (home2['neighborhood'] == 'Sawyer'), 'n_cat']=3\n",
    "    home2.loc[(home2['neighborhood'] == 'SWISU') | (home2['neighborhood'] == 'Landmrk') | (home2['neighborhood'] == 'Blueste'), 'n_cat']=4\n",
    "    home2.loc[(home2['neighborhood'] == 'NAmes') | (home2['neighborhood'] == 'NPKVill'), 'n_cat']=5\n",
    "    home2.loc[home2['neighborhood'] == 'Mitchell', 'n_cat']=6\n",
    "    home2.loc[(home2['neighborhood'] == 'Gilbert') | (home2['neighborhood'] == 'SawyerW') | (home2['neighborhood'] == 'NWAmes'), 'n_cat']=7\n",
    "    home2.loc[(home2['neighborhood'] == 'Timber') | (home2['neighborhood'] == 'Somerst'), 'n_cat']=9\n",
    "    home2.loc[home2['neighborhood'] == 'ClearCr', 'n_cat']=10\n",
    "    home2.loc[(home2['neighborhood'] == 'Veenker') | (home2['neighborhood'] == 'GrnHill'), 'n_cat']=11\n",
    "    home2.loc[home2['neighborhood'] == 'NoRidge', 'n_cat']=12\n",
    "    home2.loc[home2['neighborhood'] == 'NridgeHt', 'n_cat']=13\n",
    "    home2.loc[home2['neighborhood'] == 'StoneBr', 'n_cat']=14 #neighborhoods ranked by price 1-14\n",
    "\n",
    "    home2['h_cat'] = 1 #new column for heating categories\n",
    "    home2.loc[home2['heating'] == 'GasA', 'h_cat']=2\n",
    "    home2.loc[home2['heating'] == 'GasW', 'h_cat']=3 #grav/wall/other = 1, gasa = 2, gasw = 3\n",
    "\n",
    "    home2['k_cat'] = 1 #new column for kitchen qual categories\n",
    "    home2.loc[home2['kitchen_qual'] == 'TA', 'k_cat']=2\n",
    "    home2.loc[home2['kitchen_qual'] == 'Gd', 'k_cat']=3\n",
    "    home2.loc[home2['kitchen_qual'] == 'Ex', 'k_cat']=4 #fair/poor will be 1, TA will be 2, GD as 3, and EX as 4\n",
    "\n",
    "    home2['st_cat'] = 'other' #new column for sale type categories\n",
    "    home2.loc[home2['sale_type'] == 'New', 'st_cat']='New'\n",
    "    home2.loc[(home2['sale_type'] == 'Oth') | (home2['sale_type'] == 'ConLI') | (home2['sale_type'] == 'ConLw'), 'st_cat']='occ'\n",
    "    home2.loc[(home2['sale_type'] == 'CWD') | (home2['sale_type'] == 'Con'), 'st_cat']='cwn'\n",
    "    home2.loc[(home2['sale_type'] == 'COD') | (home2['sale_type'] == 'ConLD'), 'st_cat']='cld' \n",
    "\n",
    "    home2['ex_cat'] = 2 #new column for exterior categories\n",
    "    home2.loc[(home2['exter_cond'] == 'Fa') | (home2['exter_cond'] == 'Po'), 'ex_cat']=1\n",
    "    home2.loc[(home2['exter_cond'] == 'Gd') | (home2['exter_cond'] == 'Ex'), 'ex_cat']=3 #ranked 1 for fa/po, 2 for TA, and 3 for gd/ex\n",
    "\n",
    "    home2['hs_cat'] = 'other' #new column for house style categories\n",
    "    home2.loc[(home2['house_style'] == 'SFoyer') | (home2['house_style'] == '1.5Unf'), 'hs_cat']='SF15U'\n",
    "    home2.loc[(home2['house_style'] == '1.5Fin') | (home2['house_style'] == 'SLvl'), 'hs_cat']='15FSL'\n",
    "    home2.loc[(home2['house_style'] == '2.5Unf') | (home2['house_style'] == '2.5Fin'), 'hs_cat']='25UF'\n",
    "\n",
    "    home2['mas_cat'] = 1 #new column for masonry type categories \n",
    "    home2.loc[(home2['mas_vnr_type'] == 'BrkFace') | (home2['mas_vnr_type'] == 'BrkCmn'), 'mas_cat']=2\n",
    "    home2.loc[home2['mas_vnr_type'] == 'Stone', 'mas_cat']=3 #make \"none\" = to 1, brick as 2, and stone as 3\n",
    "\n",
    "    home2['cen_cat'] = 1\n",
    "    home2.loc[home2['central_air'] == 'Y', 'cen_cat']=2 #makeing central air ordinal, since having it is clearly better than not\n",
    "    \n",
    "    test = home2.copy()\n",
    "    #print('cats done')\n",
    "    #sub = test[['id']].copy() #put id numbers in empty array\n",
    "    X_test = test[features_list] #create X value based on selected features\n",
    "    X_test['mas_vnr_area'].fillna(X_test['mas_vnr_area'].mean(), inplace=True) #filling in mean for this column's nans\n",
    "    X.fillna(0, inplace=True) #fill rest of numerical nans with 0\n",
    "    #if dum_cols != 0: #if you need to get dummies in any categorical columns, it happens here, else enter '0'\n",
    "    X_test = pd.get_dummies(X_test, columns=dum_cols, drop_first=True)\n",
    "    #print('X_test made')\n",
    "    #Xt_poly = poly.fit_transform(X_test) #poly transform the x_test list\n",
    "    sub['SalePrice'] = lr.predict(X_test) #make new df column from predictions\n",
    "    #print('sub done')\n",
    "    sub['SalePrice'] = np.exp(sub['SalePrice'])\n",
    "    sub = sub.rename(columns = {'id' : 'Id'}) #rename id column to fit submission model\n",
    "    sub['Id'] = [int(n) for n in sub['Id']] #make id numbers ints to fit submission model\n",
    "    print(sub.head())\n",
    "    query = input('Save data? Please enter \"yes\" or \"no\".')\n",
    "    if query == 'yes':\n",
    "        sub.to_csv(f'models/{test_name}.csv', index=False) #save submission as new csv\n",
    "        return f\"All done, submission {test_name} saved\"\n",
    "    elif query == 'no':\n",
    "        return 'Better luck next time'"
   ]
  },
  {
   "cell_type": "code",
   "execution_count": 160,
   "metadata": {},
   "outputs": [],
   "source": [
    "#save_test(home2, 'ord_cat2', all_feat, cat_features)"
   ]
  },
  {
   "cell_type": "markdown",
   "metadata": {},
   "source": [
    "That submission was 50 points worse than my last submission - this ordinal strategy doesn't seem to be helping."
   ]
  },
  {
   "cell_type": "markdown",
   "metadata": {},
   "source": [
    "I'm going to scale back the ordinal ranking for some of the less straightforward categorical columns."
   ]
  },
  {
   "cell_type": "code",
   "execution_count": 161,
   "metadata": {},
   "outputs": [],
   "source": [
    "home2 = home.copy()\n",
    "\n",
    "home2['ms_cat'] = 'other' #making a new column for zone categories\n",
    "home2.loc[(home2['ms_zoning'] == 'I (all)') | \n",
    "      (home2['ms_zoning'] == 'A (agr)') | \n",
    "      (home2['ms_zoning'] == 'C (all)'),\n",
    "     'ms_cat']='ms1' #zone1 includes I, A, C types\n",
    "home2.loc[home2['ms_zoning'] == 'RH', 'ms_cat']='ms2'\n",
    "home2.loc[home2['ms_zoning'] == 'FV', 'ms_cat']='ms3'\n",
    "home2.loc[home2['ms_zoning'] == 'RM', 'ms_cat']='ms4'\n",
    "\n",
    "home2['n_cat'] = 8 #making a new column for neighborhood category- if there is anything my filters don't catch, they'll roll into \"other\"\n",
    "home2.loc[(home2['neighborhood'] == 'MeadowV') | (home2['neighborhood'] == 'IDOTRR'), 'n_cat']=1\n",
    "home2.loc[(home2['neighborhood'] == 'BRDale') | (home2['neighborhood'] == 'OldTown'), 'n_cat']=2\n",
    "home2.loc[(home2['neighborhood'] == 'Edwards') | (home2['neighborhood'] == 'BrkSide') | (home2['neighborhood'] == 'Sawyer'), 'n_cat']=3\n",
    "home2.loc[(home2['neighborhood'] == 'SWISU') | (home2['neighborhood'] == 'Landmrk') | (home2['neighborhood'] == 'Blueste'), 'n_cat']=4\n",
    "home2.loc[(home2['neighborhood'] == 'NAmes') | (home2['neighborhood'] == 'NPKVill'), 'n_cat']=5\n",
    "home2.loc[home2['neighborhood'] == 'Mitchell', 'n_cat']=6\n",
    "home2.loc[(home2['neighborhood'] == 'Gilbert') | (home2['neighborhood'] == 'SawyerW') | (home2['neighborhood'] == 'NWAmes'), 'n_cat']=7\n",
    "home2.loc[(home2['neighborhood'] == 'Timber') | (home2['neighborhood'] == 'Somerst'), 'n_cat']=9\n",
    "home2.loc[home2['neighborhood'] == 'ClearCr', 'n_cat']=10\n",
    "home2.loc[(home2['neighborhood'] == 'Veenker') | (home2['neighborhood'] == 'GrnHill'), 'n_cat']=11\n",
    "home2.loc[home2['neighborhood'] == 'NoRidge', 'n_cat']=12\n",
    "home2.loc[home2['neighborhood'] == 'NridgeHt', 'n_cat']=13\n",
    "home2.loc[home2['neighborhood'] == 'StoneBr', 'n_cat']=14 #neighborhoods ranked by price 1-14\n",
    "\n",
    "home2['h_cat'] = 'one' #new column for heating categories\n",
    "home2.loc[home2['heating'] == 'GasA', 'h_cat']='two'\n",
    "home2.loc[home2['heating'] == 'GasW', 'h_cat']='three' #grav/wall/other = 1, gasa = 2, gasw = 3\n",
    "\n",
    "home2['k_cat'] = 1 #new column for kitchen qual categories\n",
    "home2.loc[home2['kitchen_qual'] == 'TA', 'k_cat']=2\n",
    "home2.loc[home2['kitchen_qual'] == 'Gd', 'k_cat']=3\n",
    "home2.loc[home2['kitchen_qual'] == 'Ex', 'k_cat']=4 #fair/poor will be 1, TA will be 2, GD as 3, and EX as 4\n",
    "\n",
    "home2['st_cat'] = 'other' #new column for sale type categories\n",
    "home2.loc[home2['sale_type'] == 'New', 'st_cat']='New'\n",
    "home2.loc[(home2['sale_type'] == 'Oth') | (home2['sale_type'] == 'ConLI') | (home2['sale_type'] == 'ConLw'), 'st_cat']='occ'\n",
    "home2.loc[(home2['sale_type'] == 'CWD') | (home2['sale_type'] == 'Con'), 'st_cat']='cwn'\n",
    "home2.loc[(home2['sale_type'] == 'COD') | (home2['sale_type'] == 'ConLD'), 'st_cat']='cld' \n",
    "\n",
    "home2['ex_cat'] = 2 #new column for exterior categories\n",
    "home2.loc[(home2['exter_cond'] == 'Fa') | (home2['exter_cond'] == 'Po'), 'ex_cat']=1\n",
    "home2.loc[(home2['exter_cond'] == 'Gd') | (home2['exter_cond'] == 'Ex'), 'ex_cat']=3 #ranked 1 for fa/po, 2 for TA, and 3 for gd/ex\n",
    "\n",
    "home2['hs_cat'] = 'other' #new column for house style categories\n",
    "home2.loc[(home2['house_style'] == 'SFoyer') | (home2['house_style'] == '1.5Unf'), 'hs_cat']='SF15U'\n",
    "home2.loc[(home2['house_style'] == '1.5Fin') | (home2['house_style'] == 'SLvl'), 'hs_cat']='15FSL'\n",
    "home2.loc[(home2['house_style'] == '2.5Unf') | (home2['house_style'] == '2.5Fin'), 'hs_cat']='25UF'\n",
    "\n",
    "home2['mas_cat'] = 'one' #new column for masonry type categories \n",
    "home2.loc[(home2['mas_vnr_type'] == 'BrkFace') | (home2['mas_vnr_type'] == 'BrkCmn'), 'mas_cat']='two'\n",
    "home2.loc[home2['mas_vnr_type'] == 'Stone', 'mas_cat']='three' #make \"none\" = to 1, brick as 2, and stone as 3\n",
    "\n",
    "home2['cen_cat'] = 1\n",
    "home2.loc[home2['central_air'] == 'Y', 'cen_cat']=2 #makeing central air ordinal, since having it is clearly better than not"
   ]
  },
  {
   "cell_type": "markdown",
   "metadata": {},
   "source": [
    "I'm removing the ordinal ranking for:  \n",
    "- mas_cat\n",
    "- h_cat"
   ]
  },
  {
   "cell_type": "code",
   "execution_count": 162,
   "metadata": {},
   "outputs": [],
   "source": [
    "#making feature adjustments\n",
    "cat_features = ['ms_cat', 'bldg_type', 'st_cat', 'hs_cat', 'mas_cat', 'h_cat']\n",
    "features = ['overall_qual', 'year_built', 'year_remod/add', 'total_bsmt_sf', 'gr_liv_area', 'full_bath', 'garage_area',\n",
    "           'mas_vnr_area', 'totrms_abvgrd', 'fireplaces', 'bsmtfin_sf_1', 'n_cat', 'ex_cat', 'cen_cat', 'k_cat'] \n",
    "all_feat = cat_features + features"
   ]
  },
  {
   "cell_type": "code",
   "execution_count": 163,
   "metadata": {},
   "outputs": [],
   "source": [
    "#save_test(home2, 'ord_cat3', all_feat, cat_features)"
   ]
  },
  {
   "cell_type": "markdown",
   "metadata": {},
   "source": [
    "R2 improved about .1 Maybe I can make a few more adjustments."
   ]
  },
  {
   "cell_type": "code",
   "execution_count": 164,
   "metadata": {},
   "outputs": [],
   "source": [
    "home2 = home.copy()\n",
    "\n",
    "home2['ms_cat'] = 'other' #making a new column for zone categories\n",
    "home2.loc[(home2['ms_zoning'] == 'I (all)') | \n",
    "      (home2['ms_zoning'] == 'A (agr)') | \n",
    "      (home2['ms_zoning'] == 'C (all)'),\n",
    "     'ms_cat']='ms1' #zone1 includes I, A, C types\n",
    "home2.loc[home2['ms_zoning'] == 'RH', 'ms_cat']='ms2'\n",
    "home2.loc[home2['ms_zoning'] == 'FV', 'ms_cat']='ms3'\n",
    "home2.loc[home2['ms_zoning'] == 'RM', 'ms_cat']='ms4'\n",
    "\n",
    "home2['n_cat'] = 7 #making a new column for neighborhood category- if there is anything my filters don't catch, they'll roll into \"other\"\n",
    "home2.loc[(home2['neighborhood'] == 'MeadowV') | (home2['neighborhood'] == 'IDOTRR'), 'n_cat']=0\n",
    "home2.loc[(home2['neighborhood'] == 'BRDale') | (home2['neighborhood'] == 'OldTown'), 'n_cat']=1\n",
    "home2.loc[(home2['neighborhood'] == 'Edwards') | (home2['neighborhood'] == 'BrkSide') | (home2['neighborhood'] == 'Sawyer'), 'n_cat']=2\n",
    "home2.loc[(home2['neighborhood'] == 'SWISU') | (home2['neighborhood'] == 'Landmrk') | (home2['neighborhood'] == 'Blueste'), 'n_cat']=3\n",
    "home2.loc[(home2['neighborhood'] == 'NAmes') | (home2['neighborhood'] == 'NPKVill'), 'n_cat']=4\n",
    "home2.loc[home2['neighborhood'] == 'Mitchell', 'n_cat']=5\n",
    "home2.loc[(home2['neighborhood'] == 'Gilbert') | (home2['neighborhood'] == 'SawyerW') | (home2['neighborhood'] == 'NWAmes'), 'n_cat']=6\n",
    "home2.loc[(home2['neighborhood'] == 'Timber') | (home2['neighborhood'] == 'Somerst'), 'n_cat']=8\n",
    "home2.loc[home2['neighborhood'] == 'ClearCr', 'n_cat']=9\n",
    "home2.loc[(home2['neighborhood'] == 'Veenker') | (home2['neighborhood'] == 'GrnHill'), 'n_cat']=10\n",
    "home2.loc[home2['neighborhood'] == 'NoRidge', 'n_cat']=11\n",
    "home2.loc[home2['neighborhood'] == 'NridgeHt', 'n_cat']=12\n",
    "home2.loc[home2['neighborhood'] == 'StoneBr', 'n_cat']=13 #neighborhoods ranked by price 1-14\n",
    "\n",
    "home2['h_cat'] = 1 #new column for heating categories\n",
    "home2.loc[home2['heating'] == 'GasA', 'h_cat']=2\n",
    "home2.loc[home2['heating'] == 'GasW', 'h_cat']=3 #grav/wall/other = 1, gasa = 2, gasw = 3\n",
    "\n",
    "home2['k_cat'] = 0 #new column for kitchen qual categories\n",
    "home2.loc[home2['kitchen_qual'] == 'TA', 'k_cat']=1\n",
    "home2.loc[home2['kitchen_qual'] == 'Gd', 'k_cat']=2\n",
    "home2.loc[home2['kitchen_qual'] == 'Ex', 'k_cat']=3 #fair/poor will be 1, TA will be 2, GD as 3, and EX as 4\n",
    "\n",
    "home2['st_cat'] = 'other' #new column for sale type categories\n",
    "home2.loc[home2['sale_type'] == 'New', 'st_cat']='New'\n",
    "home2.loc[(home2['sale_type'] == 'Oth') | (home2['sale_type'] == 'ConLI') | (home2['sale_type'] == 'ConLw'), 'st_cat']='occ'\n",
    "home2.loc[(home2['sale_type'] == 'CWD') | (home2['sale_type'] == 'Con'), 'st_cat']='cwn'\n",
    "home2.loc[(home2['sale_type'] == 'COD') | (home2['sale_type'] == 'ConLD'), 'st_cat']='cld' \n",
    "\n",
    "home2['ex_cat'] = 1 #new column for exterior categories\n",
    "home2.loc[(home2['exter_cond'] == 'Fa') | (home2['exter_cond'] == 'Po'), 'ex_cat']=0\n",
    "home2.loc[(home2['exter_cond'] == 'Gd') | (home2['exter_cond'] == 'Ex'), 'ex_cat']=2 #ranked 1 for fa/po, 2 for TA, and 3 for gd/ex\n",
    "\n",
    "home2['hs_cat'] = 'other' #new column for house style categories\n",
    "home2.loc[(home2['house_style'] == 'SFoyer') | (home2['house_style'] == '1.5Unf'), 'hs_cat']='SF15U'\n",
    "home2.loc[(home2['house_style'] == '1.5Fin') | (home2['house_style'] == 'SLvl'), 'hs_cat']='15FSL'\n",
    "home2.loc[(home2['house_style'] == '2.5Unf') | (home2['house_style'] == '2.5Fin'), 'hs_cat']='25UF'\n",
    "\n",
    "home2['mas_cat'] = 'one' #new column for masonry type categories \n",
    "home2.loc[(home2['mas_vnr_type'] == 'BrkFace') | (home2['mas_vnr_type'] == 'BrkCmn'), 'mas_cat']='two'\n",
    "home2.loc[home2['mas_vnr_type'] == 'Stone', 'mas_cat']='three' #make \"none\" = to 1, brick as 2, and stone as 3\n",
    "\n",
    "home2['cen_cat'] = 0\n",
    "home2.loc[home2['central_air'] == 'Y', 'cen_cat']=1 #makeing central air ordinal, since having it is clearly better than not"
   ]
  },
  {
   "cell_type": "markdown",
   "metadata": {},
   "source": [
    "Changes for this run_through:\n",
    "- starting my ordinal categories at 0 instead of 1\n",
    "- changed neighborhood back to dummy capacity"
   ]
  },
  {
   "cell_type": "code",
   "execution_count": 165,
   "metadata": {},
   "outputs": [],
   "source": [
    "def save_test(df, test_name, features_list, dum_cols):\n",
    "    X = df[features_list]\n",
    "    X['mas_vnr_area'].fillna(X['mas_vnr_area'].mean(), inplace=True) #filling in mean for this column's nans\n",
    "    X.fillna(0, inplace=True) #fill rest of numerical nans with 0\n",
    "    #if dum_cols != 0: #if you need to get dummies in any categorical columns, it happens here, otherwise enter '0'\n",
    "    X = pd.get_dummies(X, columns=dum_cols, drop_first=True)\n",
    "    y = df['saleprice'].map(np.log) #add target\n",
    "    lr = LinearRegression()\n",
    "    lr.fit(X, y)\n",
    "    \n",
    "    #poly = PolynomialFeatures(include_bias=False) #use for polynomial test\n",
    "    #X_poly = poly.fit_transform(X)\n",
    "    \n",
    "    print(f'Your R2 score is {lr.score(X, y)}')\n",
    "    #print('first done')\n",
    "    test = pd.read_csv('datasets/test.csv') #read in test file\n",
    "    test.columns = [col.lower().replace(' ', '_') for col in test.columns] #reformat test columns\n",
    "    sub = test[['id']].copy() #put id numbers in empty array\n",
    "    \n",
    "    #apply categorical column grouping changes to test data\n",
    "    home2 = test.copy()\n",
    "    \n",
    "    home2['ms_cat'] = 'other' #making a new column for zone categories\n",
    "    home2.loc[(home2['ms_zoning'] == 'I (all)') | \n",
    "          (home2['ms_zoning'] == 'A (agr)') | \n",
    "          (home2['ms_zoning'] == 'C (all)'),\n",
    "         'ms_cat']='ms1' #zone1 includes I, A, C types\n",
    "    home2.loc[home2['ms_zoning'] == 'RH', 'ms_cat']='ms2'\n",
    "    home2.loc[home2['ms_zoning'] == 'FV', 'ms_cat']='ms3'\n",
    "    home2.loc[home2['ms_zoning'] == 'RM', 'ms_cat']='ms4'\n",
    "\n",
    "    home2['n_cat'] = 7 #making a new column for neighborhood category- if there is anything my filters don't catch, they'll roll into \"other\"\n",
    "    home2.loc[(home2['neighborhood'] == 'MeadowV') | (home2['neighborhood'] == 'IDOTRR'), 'n_cat']=0\n",
    "    home2.loc[(home2['neighborhood'] == 'BRDale') | (home2['neighborhood'] == 'OldTown'), 'n_cat']=1\n",
    "    home2.loc[(home2['neighborhood'] == 'Edwards') | (home2['neighborhood'] == 'BrkSide') | (home2['neighborhood'] == 'Sawyer'), 'n_cat']=2\n",
    "    home2.loc[(home2['neighborhood'] == 'SWISU') | (home2['neighborhood'] == 'Landmrk') | (home2['neighborhood'] == 'Blueste'), 'n_cat']=3\n",
    "    home2.loc[(home2['neighborhood'] == 'NAmes') | (home2['neighborhood'] == 'NPKVill'), 'n_cat']=4\n",
    "    home2.loc[home2['neighborhood'] == 'Mitchell', 'n_cat']=5\n",
    "    home2.loc[(home2['neighborhood'] == 'Gilbert') | (home2['neighborhood'] == 'SawyerW') | (home2['neighborhood'] == 'NWAmes'), 'n_cat']=6\n",
    "    home2.loc[(home2['neighborhood'] == 'Timber') | (home2['neighborhood'] == 'Somerst'), 'n_cat']=8\n",
    "    home2.loc[home2['neighborhood'] == 'ClearCr', 'n_cat']=9\n",
    "    home2.loc[(home2['neighborhood'] == 'Veenker') | (home2['neighborhood'] == 'GrnHill'), 'n_cat']=10\n",
    "    home2.loc[home2['neighborhood'] == 'NoRidge', 'n_cat']=11\n",
    "    home2.loc[home2['neighborhood'] == 'NridgeHt', 'n_cat']=12\n",
    "    home2.loc[home2['neighborhood'] == 'StoneBr', 'n_cat']=13 #neighborhoods ranked by price 1-14\n",
    "\n",
    "    home2['h_cat'] = 1 #new column for heating categories\n",
    "    home2.loc[home2['heating'] == 'GasA', 'h_cat']=2\n",
    "    home2.loc[home2['heating'] == 'GasW', 'h_cat']=3 #grav/wall/other = 1, gasa = 2, gasw = 3\n",
    "\n",
    "    home2['k_cat'] = 0 #new column for kitchen qual categories\n",
    "    home2.loc[home2['kitchen_qual'] == 'TA', 'k_cat']=1\n",
    "    home2.loc[home2['kitchen_qual'] == 'Gd', 'k_cat']=2\n",
    "    home2.loc[home2['kitchen_qual'] == 'Ex', 'k_cat']=3 #fair/poor will be 1, TA will be 2, GD as 3, and EX as 4\n",
    "\n",
    "    home2['st_cat'] = 'other' #new column for sale type categories\n",
    "    home2.loc[home2['sale_type'] == 'New', 'st_cat']='New'\n",
    "    home2.loc[(home2['sale_type'] == 'Oth') | (home2['sale_type'] == 'ConLI') | (home2['sale_type'] == 'ConLw'), 'st_cat']='occ'\n",
    "    home2.loc[(home2['sale_type'] == 'CWD') | (home2['sale_type'] == 'Con'), 'st_cat']='cwn'\n",
    "    home2.loc[(home2['sale_type'] == 'COD') | (home2['sale_type'] == 'ConLD'), 'st_cat']='cld' \n",
    "\n",
    "    home2['ex_cat'] = 1 #new column for exterior categories\n",
    "    home2.loc[(home2['exter_cond'] == 'Fa') | (home2['exter_cond'] == 'Po'), 'ex_cat']=0\n",
    "    home2.loc[(home2['exter_cond'] == 'Gd') | (home2['exter_cond'] == 'Ex'), 'ex_cat']=2 #ranked 1 for fa/po, 2 for TA, and 3 for gd/ex\n",
    "\n",
    "    home2['hs_cat'] = 'other' #new column for house style categories\n",
    "    home2.loc[(home2['house_style'] == 'SFoyer') | (home2['house_style'] == '1.5Unf'), 'hs_cat']='SF15U'\n",
    "    home2.loc[(home2['house_style'] == '1.5Fin') | (home2['house_style'] == 'SLvl'), 'hs_cat']='15FSL'\n",
    "    home2.loc[(home2['house_style'] == '2.5Unf') | (home2['house_style'] == '2.5Fin'), 'hs_cat']='25UF'\n",
    "\n",
    "    home2['mas_cat'] = 'one' #new column for masonry type categories \n",
    "    home2.loc[(home2['mas_vnr_type'] == 'BrkFace') | (home2['mas_vnr_type'] == 'BrkCmn'), 'mas_cat']='two'\n",
    "    home2.loc[home2['mas_vnr_type'] == 'Stone', 'mas_cat']='three' #make \"none\" = to 1, brick as 2, and stone as 3\n",
    "\n",
    "    home2['cen_cat'] = 0\n",
    "    home2.loc[home2['central_air'] == 'Y', 'cen_cat']=1 #makeing central air ordinal, since having it is clearly better than not\n",
    "    \n",
    "    test = home2.copy()\n",
    "    #print('cats done')\n",
    "    #sub = test[['id']].copy() #put id numbers in empty array\n",
    "    X_test = test[features_list] #create X value based on selected features\n",
    "    X_test['mas_vnr_area'].fillna(X_test['mas_vnr_area'].mean(), inplace=True) #filling in mean for this column's nans\n",
    "    X.fillna(0, inplace=True) #fill rest of numerical nans with 0\n",
    "    #if dum_cols != 0: #if you need to get dummies in any categorical columns, it happens here, else enter '0'\n",
    "    X_test = pd.get_dummies(X_test, columns=dum_cols, drop_first=True)\n",
    "    #print('X_test made')\n",
    "    #Xt_poly = poly.fit_transform(X_test) #poly transform the x_test list\n",
    "    sub['SalePrice'] = lr.predict(X_test) #make new df column from predictions\n",
    "    #print('sub done')\n",
    "    sub['SalePrice'] = np.exp(sub['SalePrice'])\n",
    "    sub = sub.rename(columns = {'id' : 'Id'}) #rename id column to fit submission model\n",
    "    sub['Id'] = [int(n) for n in sub['Id']] #make id numbers ints to fit submission model\n",
    "    print(sub.head())\n",
    "    query = input('Save data? Please enter \"yes\" or \"no\".')\n",
    "    if query == 'yes':\n",
    "        sub.to_csv(f'models/{test_name}.csv', index=False) #save submission as new csv\n",
    "        return f\"All done, submission {test_name} saved\"\n",
    "    elif query == 'no':\n",
    "        return 'Better luck next time'"
   ]
  },
  {
   "cell_type": "code",
   "execution_count": 166,
   "metadata": {},
   "outputs": [],
   "source": [
    "cat_features = ['ms_cat', 'bldg_type', 'st_cat', 'hs_cat', 'mas_cat', 'n_cat']\n",
    "features = ['overall_qual', 'year_built', 'year_remod/add', 'total_bsmt_sf', 'gr_liv_area', 'full_bath', 'garage_area',\n",
    "           'mas_vnr_area', 'totrms_abvgrd', 'fireplaces', 'bsmtfin_sf_1', 'ex_cat', 'cen_cat', 'k_cat', 'h_cat'] \n",
    "all_feat = cat_features + features"
   ]
  },
  {
   "cell_type": "code",
   "execution_count": 167,
   "metadata": {},
   "outputs": [],
   "source": [
    "#save_test(home2, 'ord_cat4', all_feat, cat_features)"
   ]
  },
  {
   "cell_type": "markdown",
   "metadata": {},
   "source": [
    "That brought R2 up a tiny bit."
   ]
  },
  {
   "cell_type": "markdown",
   "metadata": {},
   "source": [
    "## Model 11"
   ]
  },
  {
   "cell_type": "markdown",
   "metadata": {},
   "source": [
    "Okay - I engineered some new multiplied columns on the numerical side - I'm going to add those into the function and features list and see how that scores altogether."
   ]
  },
  {
   "cell_type": "code",
   "execution_count": 168,
   "metadata": {},
   "outputs": [],
   "source": [
    "home2 = home.copy()\n",
    "\n",
    "home2['ms_cat'] = 'other' #making a new column for zone categories\n",
    "home2.loc[(home2['ms_zoning'] == 'I (all)') | \n",
    "      (home2['ms_zoning'] == 'A (agr)') | \n",
    "      (home2['ms_zoning'] == 'C (all)'),\n",
    "     'ms_cat']='ms1' #zone1 includes I, A, C types\n",
    "home2.loc[home2['ms_zoning'] == 'RH', 'ms_cat']='ms2'\n",
    "home2.loc[home2['ms_zoning'] == 'FV', 'ms_cat']='ms3'\n",
    "home2.loc[home2['ms_zoning'] == 'RM', 'ms_cat']='ms4'\n",
    "\n",
    "home2['n_cat'] = 7 #making a new column for neighborhood category- if there is anything my filters don't catch, they'll roll into \"other\"\n",
    "home2.loc[(home2['neighborhood'] == 'MeadowV') | (home2['neighborhood'] == 'IDOTRR'), 'n_cat']=0\n",
    "home2.loc[(home2['neighborhood'] == 'BRDale') | (home2['neighborhood'] == 'OldTown'), 'n_cat']=1\n",
    "home2.loc[(home2['neighborhood'] == 'Edwards') | (home2['neighborhood'] == 'BrkSide') | (home2['neighborhood'] == 'Sawyer'), 'n_cat']=2\n",
    "home2.loc[(home2['neighborhood'] == 'SWISU') | (home2['neighborhood'] == 'Landmrk') | (home2['neighborhood'] == 'Blueste'), 'n_cat']=3\n",
    "home2.loc[(home2['neighborhood'] == 'NAmes') | (home2['neighborhood'] == 'NPKVill'), 'n_cat']=4\n",
    "home2.loc[home2['neighborhood'] == 'Mitchell', 'n_cat']=5\n",
    "home2.loc[(home2['neighborhood'] == 'Gilbert') | (home2['neighborhood'] == 'SawyerW') | (home2['neighborhood'] == 'NWAmes'), 'n_cat']=6\n",
    "home2.loc[(home2['neighborhood'] == 'Timber') | (home2['neighborhood'] == 'Somerst'), 'n_cat']=8\n",
    "home2.loc[home2['neighborhood'] == 'ClearCr', 'n_cat']=9\n",
    "home2.loc[(home2['neighborhood'] == 'Veenker') | (home2['neighborhood'] == 'GrnHill'), 'n_cat']=10\n",
    "home2.loc[home2['neighborhood'] == 'NoRidge', 'n_cat']=11\n",
    "home2.loc[home2['neighborhood'] == 'NridgeHt', 'n_cat']=12\n",
    "home2.loc[home2['neighborhood'] == 'StoneBr', 'n_cat']=13 #neighborhoods ranked by price 1-14\n",
    "\n",
    "home2['h_cat'] = 1 #new column for heating categories\n",
    "home2.loc[home2['heating'] == 'GasA', 'h_cat']=2\n",
    "home2.loc[home2['heating'] == 'GasW', 'h_cat']=3 #grav/wall/other = 1, gasa = 2, gasw = 3\n",
    "\n",
    "home2['k_cat'] = 0 #new column for kitchen qual categories\n",
    "home2.loc[home2['kitchen_qual'] == 'TA', 'k_cat']=1\n",
    "home2.loc[home2['kitchen_qual'] == 'Gd', 'k_cat']=2\n",
    "home2.loc[home2['kitchen_qual'] == 'Ex', 'k_cat']=3 #fair/poor will be 1, TA will be 2, GD as 3, and EX as 4\n",
    "\n",
    "home2['st_cat'] = 'other' #new column for sale type categories\n",
    "home2.loc[home2['sale_type'] == 'New', 'st_cat']='New'\n",
    "home2.loc[(home2['sale_type'] == 'Oth') | (home2['sale_type'] == 'ConLI') | (home2['sale_type'] == 'ConLw'), 'st_cat']='occ'\n",
    "home2.loc[(home2['sale_type'] == 'CWD') | (home2['sale_type'] == 'Con'), 'st_cat']='cwn'\n",
    "home2.loc[(home2['sale_type'] == 'COD') | (home2['sale_type'] == 'ConLD'), 'st_cat']='cld' \n",
    "\n",
    "home2['ex_cat'] = 1 #new column for exterior categories\n",
    "home2.loc[(home2['exter_cond'] == 'Fa') | (home2['exter_cond'] == 'Po'), 'ex_cat']=0\n",
    "home2.loc[(home2['exter_cond'] == 'Gd') | (home2['exter_cond'] == 'Ex'), 'ex_cat']=2 #ranked 1 for fa/po, 2 for TA, and 3 for gd/ex\n",
    "\n",
    "home2['hs_cat'] = 'other' #new column for house style categories\n",
    "home2.loc[(home2['house_style'] == 'SFoyer') | (home2['house_style'] == '1.5Unf'), 'hs_cat']='SF15U'\n",
    "home2.loc[(home2['house_style'] == '1.5Fin') | (home2['house_style'] == 'SLvl'), 'hs_cat']='15FSL'\n",
    "home2.loc[(home2['house_style'] == '2.5Unf') | (home2['house_style'] == '2.5Fin'), 'hs_cat']='25UF'\n",
    "\n",
    "home2['mas_cat'] = 'one' #new column for masonry type categories \n",
    "home2.loc[(home2['mas_vnr_type'] == 'BrkFace') | (home2['mas_vnr_type'] == 'BrkCmn'), 'mas_cat']='two'\n",
    "home2.loc[home2['mas_vnr_type'] == 'Stone', 'mas_cat']='three' #make \"none\" = to 1, brick as 2, and stone as 3\n",
    "\n",
    "home2['cen_cat'] = 0\n",
    "home2.loc[home2['central_air'] == 'Y', 'cen_cat']=1 #makeing central air ordinal, since having it is clearly better than not\n",
    "\n",
    "#new features\n",
    "home2['oqual_gla'] = home2['overall_qual']*home2['gr_liv_area']\n",
    "home2['garage'] = home2['garage_cars']*home2['garage_area']\n",
    "home2['liv_tot'] = home2['total_bsmt_sf']*home2['1st_flr_sf']*home2['gr_liv_area']\n",
    "\n"
   ]
  },
  {
   "cell_type": "code",
   "execution_count": 169,
   "metadata": {},
   "outputs": [],
   "source": [
    "#new feature list:\n",
    "features = ['overall_qual', 'year_built', 'total_bsmt_sf', 'gr_liv_area', 'full_bath', 'garage_area',\n",
    "           'mas_vnr_area', 'totrms_abvgrd', 'fireplaces', 'bsmtfin_sf_1', 'oqual_gla', 'garage', 'liv_tot',\n",
    "           'ex_cat', 'cen_cat', 'k_cat', 'h_cat']"
   ]
  },
  {
   "cell_type": "code",
   "execution_count": 170,
   "metadata": {},
   "outputs": [],
   "source": [
    "cat_features = ['ms_cat', 'bldg_type', 'st_cat', 'hs_cat', 'mas_cat', 'n_cat']\n",
    "all_feat = cat_features + features"
   ]
  },
  {
   "cell_type": "code",
   "execution_count": 171,
   "metadata": {},
   "outputs": [],
   "source": [
    "def save_test(df, test_name, features_list, dum_cols):\n",
    "    X = df[features_list]\n",
    "    X['mas_vnr_area'].fillna(X['mas_vnr_area'].mean(), inplace=True) #filling in mean for this column's nans\n",
    "    X.fillna(0, inplace=True) #fill rest of numerical nans with 0\n",
    "    #if dum_cols != 0: #if you need to get dummies in any categorical columns, it happens here, otherwise enter '0'\n",
    "    X = pd.get_dummies(X, columns=dum_cols, drop_first=True)\n",
    "    y = df['saleprice'].map(np.log) #add target\n",
    "    lr = LinearRegression()\n",
    "    lr.fit(X, y)\n",
    "    \n",
    "    #poly = PolynomialFeatures(include_bias=False) #use for polynomial test\n",
    "    #X_poly = poly.fit_transform(X)\n",
    "    \n",
    "    print(f'Your R2 score is {lr.score(X, y)}')\n",
    "    #print('first done')\n",
    "    test = pd.read_csv('datasets/test.csv') #read in test file\n",
    "    test.columns = [col.lower().replace(' ', '_') for col in test.columns] #reformat test columns\n",
    "    sub = test[['id']].copy() #put id numbers in empty array\n",
    "    \n",
    "    #apply categorical column grouping changes to test data\n",
    "    home2 = test.copy()\n",
    "    \n",
    "    home2['ms_cat'] = 'other' #making a new column for zone categories\n",
    "    home2.loc[(home2['ms_zoning'] == 'I (all)') | \n",
    "          (home2['ms_zoning'] == 'A (agr)') | \n",
    "          (home2['ms_zoning'] == 'C (all)'),\n",
    "         'ms_cat']='ms1' #zone1 includes I, A, C types\n",
    "    home2.loc[home2['ms_zoning'] == 'RH', 'ms_cat']='ms2'\n",
    "    home2.loc[home2['ms_zoning'] == 'FV', 'ms_cat']='ms3'\n",
    "    home2.loc[home2['ms_zoning'] == 'RM', 'ms_cat']='ms4'\n",
    "\n",
    "    home2['n_cat'] = 7 #making a new column for neighborhood category- if there is anything my filters don't catch, they'll roll into \"other\"\n",
    "    home2.loc[(home2['neighborhood'] == 'MeadowV') | (home2['neighborhood'] == 'IDOTRR'), 'n_cat']=0\n",
    "    home2.loc[(home2['neighborhood'] == 'BRDale') | (home2['neighborhood'] == 'OldTown'), 'n_cat']=1\n",
    "    home2.loc[(home2['neighborhood'] == 'Edwards') | (home2['neighborhood'] == 'BrkSide') | (home2['neighborhood'] == 'Sawyer'), 'n_cat']=2\n",
    "    home2.loc[(home2['neighborhood'] == 'SWISU') | (home2['neighborhood'] == 'Landmrk') | (home2['neighborhood'] == 'Blueste'), 'n_cat']=3\n",
    "    home2.loc[(home2['neighborhood'] == 'NAmes') | (home2['neighborhood'] == 'NPKVill'), 'n_cat']=4\n",
    "    home2.loc[home2['neighborhood'] == 'Mitchell', 'n_cat']=5\n",
    "    home2.loc[(home2['neighborhood'] == 'Gilbert') | (home2['neighborhood'] == 'SawyerW') | (home2['neighborhood'] == 'NWAmes'), 'n_cat']=6\n",
    "    home2.loc[(home2['neighborhood'] == 'Timber') | (home2['neighborhood'] == 'Somerst'), 'n_cat']=8\n",
    "    home2.loc[home2['neighborhood'] == 'ClearCr', 'n_cat']=9\n",
    "    home2.loc[(home2['neighborhood'] == 'Veenker') | (home2['neighborhood'] == 'GrnHill'), 'n_cat']=10\n",
    "    home2.loc[home2['neighborhood'] == 'NoRidge', 'n_cat']=11\n",
    "    home2.loc[home2['neighborhood'] == 'NridgeHt', 'n_cat']=12\n",
    "    home2.loc[home2['neighborhood'] == 'StoneBr', 'n_cat']=13 #neighborhoods ranked by price 1-14\n",
    "\n",
    "    home2['h_cat'] = 1 #new column for heating categories\n",
    "    home2.loc[home2['heating'] == 'GasA', 'h_cat']=2\n",
    "    home2.loc[home2['heating'] == 'GasW', 'h_cat']=3 #grav/wall/other = 1, gasa = 2, gasw = 3\n",
    "\n",
    "    home2['k_cat'] = 0 #new column for kitchen qual categories\n",
    "    home2.loc[home2['kitchen_qual'] == 'TA', 'k_cat']=1\n",
    "    home2.loc[home2['kitchen_qual'] == 'Gd', 'k_cat']=2\n",
    "    home2.loc[home2['kitchen_qual'] == 'Ex', 'k_cat']=3 #fair/poor will be 1, TA will be 2, GD as 3, and EX as 4\n",
    "\n",
    "    home2['st_cat'] = 'other' #new column for sale type categories\n",
    "    home2.loc[home2['sale_type'] == 'New', 'st_cat']='New'\n",
    "    home2.loc[(home2['sale_type'] == 'Oth') | (home2['sale_type'] == 'ConLI') | (home2['sale_type'] == 'ConLw'), 'st_cat']='occ'\n",
    "    home2.loc[(home2['sale_type'] == 'CWD') | (home2['sale_type'] == 'Con'), 'st_cat']='cwn'\n",
    "    home2.loc[(home2['sale_type'] == 'COD') | (home2['sale_type'] == 'ConLD'), 'st_cat']='cld' \n",
    "\n",
    "    home2['ex_cat'] = 1 #new column for exterior categories\n",
    "    home2.loc[(home2['exter_cond'] == 'Fa') | (home2['exter_cond'] == 'Po'), 'ex_cat']=0\n",
    "    home2.loc[(home2['exter_cond'] == 'Gd') | (home2['exter_cond'] == 'Ex'), 'ex_cat']=2 #ranked 1 for fa/po, 2 for TA, and 3 for gd/ex\n",
    "\n",
    "    home2['hs_cat'] = 'other' #new column for house style categories\n",
    "    home2.loc[(home2['house_style'] == 'SFoyer') | (home2['house_style'] == '1.5Unf'), 'hs_cat']='SF15U'\n",
    "    home2.loc[(home2['house_style'] == '1.5Fin') | (home2['house_style'] == 'SLvl'), 'hs_cat']='15FSL'\n",
    "    home2.loc[(home2['house_style'] == '2.5Unf') | (home2['house_style'] == '2.5Fin'), 'hs_cat']='25UF'\n",
    "\n",
    "    home2['mas_cat'] = 'one' #new column for masonry type categories \n",
    "    home2.loc[(home2['mas_vnr_type'] == 'BrkFace') | (home2['mas_vnr_type'] == 'BrkCmn'), 'mas_cat']='two'\n",
    "    home2.loc[home2['mas_vnr_type'] == 'Stone', 'mas_cat']='three' #make \"none\" = to 1, brick as 2, and stone as 3\n",
    "\n",
    "    home2['cen_cat'] = 0\n",
    "    home2.loc[home2['central_air'] == 'Y', 'cen_cat']=1 #makeing central air ordinal, since having it is clearly better than not\n",
    "\n",
    "    #new features\n",
    "    home2['oqual_gla'] = home2['overall_qual']*home2['gr_liv_area']\n",
    "    home2['garage'] = home2['garage_cars']*home2['garage_area']\n",
    "    home2['liv_tot'] = home2['total_bsmt_sf']*home2['1st_flr_sf']*home2['gr_liv_area']\n",
    "    \n",
    "    test = home2.copy()\n",
    "    #print('cats done')\n",
    "    #sub = test[['id']].copy() #put id numbers in empty array\n",
    "    X_test = test[features_list] #create X value based on selected features\n",
    "    X_test['mas_vnr_area'].fillna(X_test['mas_vnr_area'].mean(), inplace=True) #filling in mean for this column's nans\n",
    "    X.fillna(0, inplace=True) #fill rest of numerical nans with 0\n",
    "    #if dum_cols != 0: #if you need to get dummies in any categorical columns, it happens here, else enter '0'\n",
    "    X_test = pd.get_dummies(X_test, columns=dum_cols, drop_first=True)\n",
    "    #print('X_test made')\n",
    "    #Xt_poly = poly.fit_transform(X_test) #poly transform the x_test list\n",
    "    sub['SalePrice'] = lr.predict(X_test) #make new df column from predictions\n",
    "    #print('sub done')\n",
    "    sub['SalePrice'] = np.exp(sub['SalePrice'])\n",
    "    sub = sub.rename(columns = {'id' : 'Id'}) #rename id column to fit submission model\n",
    "    sub['Id'] = [int(n) for n in sub['Id']] #make id numbers ints to fit submission model\n",
    "    print(sub.head())\n",
    "    query = input('Save data? Please enter \"yes\" or \"no\".')\n",
    "    if query == 'yes':\n",
    "        sub.to_csv(f'models/{test_name}.csv', index=False) #save submission as new csv\n",
    "        return f\"All done, submission {test_name} saved\"\n",
    "    elif query == 'no':\n",
    "        return 'Better luck next time'"
   ]
  },
  {
   "cell_type": "code",
   "execution_count": 172,
   "metadata": {},
   "outputs": [],
   "source": [
    "#save_test(home2, 'prodfeat1', all_feat, cat_features)"
   ]
  },
  {
   "cell_type": "code",
   "execution_count": 173,
   "metadata": {},
   "outputs": [],
   "source": [
    "#new feature list:\n",
    "features = ['overall_qual', 'year_built', 'total_bsmt_sf', 'gr_liv_area', 'full_bath', 'garage_area',\n",
    "           'mas_vnr_area', 'totrms_abvgrd', 'fireplaces', 'bsmtfin_sf_1', 'oqual_gla', 'garage', 'liv_tot',\n",
    "           'cen_cat', 'k_cat']\n",
    "cat_features = ['ms_cat', 'bldg_type', 'st_cat', 'hs_cat', 'mas_cat', 'n_cat', 'ex_cat', 'h_cat']\n",
    "all_feat = cat_features + features"
   ]
  },
  {
   "cell_type": "code",
   "execution_count": 174,
   "metadata": {},
   "outputs": [],
   "source": [
    "#save_test(home2, 'prodfeat2', all_feat, cat_features)"
   ]
  },
  {
   "cell_type": "code",
   "execution_count": 175,
   "metadata": {},
   "outputs": [],
   "source": [
    "#new feature list:\n",
    "features = ['overall_qual', 'year_built', 'total_bsmt_sf', 'gr_liv_area', 'full_bath', 'garage_area',\n",
    "           'mas_vnr_area', 'totrms_abvgrd', 'fireplaces', 'bsmtfin_sf_1', 'oqual_gla', 'garage', 'liv_tot',\n",
    "           'cen_cat', 'k_cat', 'n_cat']\n",
    "cat_features = ['ms_cat', 'bldg_type', 'st_cat', 'hs_cat', 'mas_cat', 'ex_cat', 'h_cat']\n",
    "all_feat = cat_features + features\n",
    "\n",
    "#save_test(home2, 'prodfeat3', all_feat, cat_features)"
   ]
  },
  {
   "cell_type": "code",
   "execution_count": 176,
   "metadata": {},
   "outputs": [],
   "source": [
    "#new feature list:\n",
    "features = ['overall_qual', 'year_built', 'total_bsmt_sf', 'gr_liv_area', 'full_bath', 'garage_area',\n",
    "           'mas_vnr_area', 'totrms_abvgrd', 'fireplaces', 'bsmtfin_sf_1', 'oqual_gla', 'garage', 'liv_tot',\n",
    "           'cen_cat']\n",
    "cat_features = ['ms_cat', 'bldg_type', 'st_cat', 'hs_cat', 'mas_cat', 'ex_cat', 'h_cat', 'k_cat', 'n_cat']\n",
    "all_feat = cat_features + features\n",
    "\n",
    "#save_test(home2, 'prodfeat3', all_feat, cat_features)"
   ]
  },
  {
   "cell_type": "code",
   "execution_count": 177,
   "metadata": {},
   "outputs": [],
   "source": [
    "#new feature list:\n",
    "features = ['overall_qual', 'year_built', 'total_bsmt_sf', 'gr_liv_area', 'full_bath', 'garage_area',\n",
    "           'mas_vnr_area', 'totrms_abvgrd', 'fireplaces', 'bsmtfin_sf_1', 'oqual_gla', 'garage', 'liv_tot']\n",
    "cat_features = ['ms_cat', 'bldg_type', 'st_cat', 'hs_cat', 'mas_cat', 'ex_cat', 'h_cat', 'k_cat', 'n_cat', 'cen_cat']\n",
    "all_feat = cat_features + features\n",
    "\n",
    "#save_test(home2, 'prodfeat3', all_feat, cat_features)"
   ]
  },
  {
   "cell_type": "code",
   "execution_count": 178,
   "metadata": {},
   "outputs": [],
   "source": [
    "features = ['overall_qual', 'year_built', 'total_bsmt_sf', 'gr_liv_area', 'full_bath', 'garage_area',\n",
    "           'mas_vnr_area', 'totrms_abvgrd', 'fireplaces', 'bsmtfin_sf_1', 'oqual_gla', 'garage', 'liv_tot']\n",
    "cat_features = ['ms_cat', 'bldg_type', 'st_cat', 'hs_cat', 'mas_cat', 'ex_cat', 'h_cat', 'k_cat', 'n_cat', 'cen_cat']\n",
    "all_feat = cat_features + features\n",
    "\n",
    "#save_test(home2, 'prodfeat4', all_feat, cat_features)"
   ]
  },
  {
   "cell_type": "markdown",
   "metadata": {},
   "source": [
    "Okay - that dropped my RMSE on kaggle to 23,382 - I'm going to see if rearraning my neighborhoods helps at all. Back to the cat_filters notebook!"
   ]
  },
  {
   "cell_type": "markdown",
   "metadata": {},
   "source": [
    "## Model 12  \n",
    "I changed my neighborhood groupings to use median sale price instead of the somewhat arbitrary mutliplied (min * max * median) metric I had been using."
   ]
  },
  {
   "cell_type": "code",
   "execution_count": 179,
   "metadata": {},
   "outputs": [],
   "source": [
    "home2['n_cat'] = 0 #making a new column for neighborhood category- if there is anything my filters don't catch, they'll roll into 0\n",
    "home2.loc[(home2['neighborhood'] == 'MeadowV') | (home2['neighborhood'] == 'IDOTRR')\n",
    "          | (home2['neighborhood'] == 'BrDale'), 'n_cat']=1\n",
    "home2.loc[(home2['neighborhood'] == 'OldTown') | (home2['neighborhood'] == 'Edwards') \n",
    "          | (home2['neighborhood'] == 'BrkSide'), 'n_cat']=2\n",
    "home2.loc[(home2['neighborhood'] == 'Sawyer') | (home2['neighborhood'] == 'SWISU') \n",
    "          | (home2['neighborhood'] == 'Landmrk') | (home2['neighborhood'] == 'Blueste'), 'n_cat']=3\n",
    "\n",
    "home2.loc[(home2['neighborhood'] == 'NAmes') | (home2['neighborhood'] == 'NPkVill'), 'n_cat']=4\n",
    "home2.loc[home2['neighborhood'] == 'Mitchel', 'n_cat']=5\n",
    "home2.loc[(home2['neighborhood'] == 'Gilbert') | (home2['neighborhood'] == 'SawyerW'), 'n_cat']=6\n",
    "home2.loc[(home2['neighborhood'] == 'NWAmes') | (home2['neighborhood'] == 'Greens') \n",
    "          | (home2['neighborhood'] == 'Blmngtn'), 'n_cat']=7\n",
    "home2.loc[(home2['neighborhood'] == 'Crawfor') | (home2['neighborhood'] == 'CollgCr'), 'n_cat']=8\n",
    "home2.loc[(home2['neighborhood'] == 'Timber') | (home2['neighborhood'] == 'Somerst') \n",
    "          | (home2['neighborhood'] == 'ClearCr'), 'n_cat']=9\n",
    "home2.loc[(home2['neighborhood'] == 'Veenker') | (home2['neighborhood'] == 'GrnHill'), 'n_cat']=10\n",
    "home2.loc[home2['neighborhood'] == 'NoRidge', 'n_cat']=11\n",
    "home2.loc[home2['neighborhood'] == 'NridgHt', 'n_cat']=12\n",
    "home2.loc[home2['neighborhood'] == 'StoneBr', 'n_cat']=13 #neighborhoods ranked by price 1-13 (upd 10/5)"
   ]
  },
  {
   "cell_type": "code",
   "execution_count": 180,
   "metadata": {},
   "outputs": [],
   "source": [
    "def save_test(df, test_name, features_list, dum_cols):\n",
    "    X = df[features_list]\n",
    "    X['mas_vnr_area'].fillna(X['mas_vnr_area'].mean(), inplace=True) #filling in mean for this column's nans\n",
    "    X.fillna(0, inplace=True) #fill rest of numerical nans with 0\n",
    "    #if dum_cols != 0: #if you need to get dummies in any categorical columns, it happens here, otherwise enter '0'\n",
    "    X = pd.get_dummies(X, columns=dum_cols, drop_first=True)\n",
    "    y = df['saleprice'].map(np.log) #add target\n",
    "    lr = LinearRegression()\n",
    "    lr.fit(X, y)\n",
    "    \n",
    "    #poly = PolynomialFeatures(include_bias=False) #use for polynomial test\n",
    "    #X_poly = poly.fit_transform(X)\n",
    "    \n",
    "    print(f'Your R2 score is {lr.score(X, y)}')\n",
    "    #print('first done')\n",
    "    test = pd.read_csv('datasets/test.csv') #read in test file\n",
    "    test.columns = [col.lower().replace(' ', '_') for col in test.columns] #reformat test columns\n",
    "    sub = test[['id']].copy() #put id numbers in empty array\n",
    "    \n",
    "    #apply categorical column grouping changes to test data\n",
    "    home2 = test.copy()\n",
    "    \n",
    "    home2['ms_cat'] = 'other' #making a new column for zone categories\n",
    "    home2.loc[(home2['ms_zoning'] == 'I (all)') | \n",
    "          (home2['ms_zoning'] == 'A (agr)') | \n",
    "          (home2['ms_zoning'] == 'C (all)'),\n",
    "         'ms_cat']='ms1' #zone1 includes I, A, C types\n",
    "    home2.loc[home2['ms_zoning'] == 'RH', 'ms_cat']='ms2'\n",
    "    home2.loc[home2['ms_zoning'] == 'FV', 'ms_cat']='ms3'\n",
    "    home2.loc[home2['ms_zoning'] == 'RM', 'ms_cat']='ms4'\n",
    "\n",
    "    home2['n_cat'] = 0 #making a new column for neighborhood category- if there is anything my filters don't catch, they'll roll into 0\n",
    "    home2.loc[(home2['neighborhood'] == 'MeadowV') | (home2['neighborhood'] == 'IDOTRR')\n",
    "              | (home2['neighborhood'] == 'BrDale'), 'n_cat']=1\n",
    "    home2.loc[(home2['neighborhood'] == 'OldTown') | (home2['neighborhood'] == 'Edwards') \n",
    "              | (home2['neighborhood'] == 'BrkSide'), 'n_cat']=2\n",
    "    home2.loc[(home2['neighborhood'] == 'Sawyer') | (home2['neighborhood'] == 'SWISU') \n",
    "              | (home2['neighborhood'] == 'Landmrk') | (home2['neighborhood'] == 'Blueste'), 'n_cat']=3\n",
    "\n",
    "    home2.loc[(home2['neighborhood'] == 'NAmes') | (home2['neighborhood'] == 'NPkVill'), 'n_cat']=4\n",
    "    home2.loc[home2['neighborhood'] == 'Mitchel', 'n_cat']=5\n",
    "    home2.loc[(home2['neighborhood'] == 'Gilbert') | (home2['neighborhood'] == 'SawyerW'), 'n_cat']=6\n",
    "    home2.loc[(home2['neighborhood'] == 'NWAmes') | (home2['neighborhood'] == 'Greens') \n",
    "              | (home2['neighborhood'] == 'Blmngtn'), 'n_cat']=7\n",
    "    home2.loc[(home2['neighborhood'] == 'Crawfor') | (home2['neighborhood'] == 'CollgCr'), 'n_cat']=8\n",
    "    home2.loc[(home2['neighborhood'] == 'Timber') | (home2['neighborhood'] == 'Somerst') \n",
    "              | (home2['neighborhood'] == 'ClearCr'), 'n_cat']=9\n",
    "    home2.loc[(home2['neighborhood'] == 'Veenker') | (home2['neighborhood'] == 'GrnHill'), 'n_cat']=10\n",
    "    home2.loc[home2['neighborhood'] == 'NoRidge', 'n_cat']=11\n",
    "    home2.loc[home2['neighborhood'] == 'NridgHt', 'n_cat']=12\n",
    "\n",
    "    home2['h_cat'] = 1 #new column for heating categories\n",
    "    home2.loc[home2['heating'] == 'GasA', 'h_cat']=2\n",
    "    home2.loc[home2['heating'] == 'GasW', 'h_cat']=3 #grav/wall/other = 1, gasa = 2, gasw = 3\n",
    "\n",
    "    home2['k_cat'] = 0 #new column for kitchen qual categories\n",
    "    home2.loc[home2['kitchen_qual'] == 'TA', 'k_cat']=1\n",
    "    home2.loc[home2['kitchen_qual'] == 'Gd', 'k_cat']=2\n",
    "    home2.loc[home2['kitchen_qual'] == 'Ex', 'k_cat']=3 #fair/poor will be 1, TA will be 2, GD as 3, and EX as 4\n",
    "\n",
    "    home2['st_cat'] = 'other' #new column for sale type categories\n",
    "    home2.loc[home2['sale_type'] == 'New', 'st_cat']='New'\n",
    "    home2.loc[(home2['sale_type'] == 'Oth') | (home2['sale_type'] == 'ConLI') | (home2['sale_type'] == 'ConLw'), 'st_cat']='occ'\n",
    "    home2.loc[(home2['sale_type'] == 'CWD') | (home2['sale_type'] == 'Con'), 'st_cat']='cwn'\n",
    "    home2.loc[(home2['sale_type'] == 'COD') | (home2['sale_type'] == 'ConLD'), 'st_cat']='cld' \n",
    "\n",
    "    home2['ex_cat'] = 1 #new column for exterior categories\n",
    "    home2.loc[(home2['exter_cond'] == 'Fa') | (home2['exter_cond'] == 'Po'), 'ex_cat']=0\n",
    "    home2.loc[(home2['exter_cond'] == 'Gd') | (home2['exter_cond'] == 'Ex'), 'ex_cat']=2 #ranked 1 for fa/po, 2 for TA, and 3 for gd/ex\n",
    "\n",
    "    home2['hs_cat'] = 'other' #new column for house style categories\n",
    "    home2.loc[(home2['house_style'] == 'SFoyer') | (home2['house_style'] == '1.5Unf'), 'hs_cat']='SF15U'\n",
    "    home2.loc[(home2['house_style'] == '1.5Fin') | (home2['house_style'] == 'SLvl'), 'hs_cat']='15FSL'\n",
    "    home2.loc[(home2['house_style'] == '2.5Unf') | (home2['house_style'] == '2.5Fin'), 'hs_cat']='25UF'\n",
    "\n",
    "    home2['mas_cat'] = 'one' #new column for masonry type categories \n",
    "    home2.loc[(home2['mas_vnr_type'] == 'BrkFace') | (home2['mas_vnr_type'] == 'BrkCmn'), 'mas_cat']='two'\n",
    "    home2.loc[home2['mas_vnr_type'] == 'Stone', 'mas_cat']='three' #make \"none\" = to 1, brick as 2, and stone as 3\n",
    "\n",
    "    home2['cen_cat'] = 0\n",
    "    home2.loc[home2['central_air'] == 'Y', 'cen_cat']=1 #makeing central air ordinal, since having it is clearly better than not\n",
    "\n",
    "    #new features\n",
    "    home2['oqual_gla'] = home2['overall_qual']*home2['gr_liv_area']\n",
    "    home2['garage'] = home2['garage_cars']*home2['garage_area']\n",
    "    home2['liv_tot'] = home2['total_bsmt_sf']*home2['1st_flr_sf']*home2['gr_liv_area']\n",
    "    \n",
    "    test = home2.copy()\n",
    "    #print('cats done')\n",
    "    #sub = test[['id']].copy() #put id numbers in empty array\n",
    "    X_test = test[features_list] #create X value based on selected features\n",
    "    X_test['mas_vnr_area'].fillna(X_test['mas_vnr_area'].mean(), inplace=True) #filling in mean for this column's nans\n",
    "    X.fillna(0, inplace=True) #fill rest of numerical nans with 0\n",
    "    #if dum_cols != 0: #if you need to get dummies in any categorical columns, it happens here, else enter '0'\n",
    "    X_test = pd.get_dummies(X_test, columns=dum_cols, drop_first=True)\n",
    "    #print('X_test made')\n",
    "    #Xt_poly = poly.fit_transform(X_test) #poly transform the x_test list\n",
    "    sub['SalePrice'] = lr.predict(X_test) #make new df column from predictions\n",
    "    #print('sub done')\n",
    "    sub['SalePrice'] = np.exp(sub['SalePrice'])\n",
    "    sub = sub.rename(columns = {'id' : 'Id'}) #rename id column to fit submission model\n",
    "    sub['Id'] = [int(n) for n in sub['Id']] #make id numbers ints to fit submission model\n",
    "    print(sub.head())\n",
    "    query = input('Save data? Please enter \"yes\" or \"no\".')\n",
    "    if query == 'yes':\n",
    "        sub.to_csv(f'models/{test_name}.csv', index=False) #save submission as new csv\n",
    "        return f\"All done, submission {test_name} saved\"\n",
    "    elif query == 'no':\n",
    "        return 'Better luck next time'"
   ]
  },
  {
   "cell_type": "code",
   "execution_count": 181,
   "metadata": {},
   "outputs": [],
   "source": [
    "features = ['overall_qual', 'year_built', 'total_bsmt_sf', 'gr_liv_area', 'full_bath', 'garage_area',\n",
    "           'mas_vnr_area', 'totrms_abvgrd', 'fireplaces', 'bsmtfin_sf_1', 'oqual_gla', 'garage', 'liv_tot']\n",
    "cat_features = ['ms_cat', 'bldg_type', 'st_cat', 'hs_cat', 'mas_cat', 'ex_cat', 'h_cat', 'k_cat', 'n_cat', 'cen_cat']\n",
    "all_feat = cat_features + features\n",
    "\n",
    "#save_test(home2, 'new_n_cat', all_feat, cat_features)"
   ]
  },
  {
   "cell_type": "code",
   "execution_count": 182,
   "metadata": {},
   "outputs": [],
   "source": [
    "features = ['overall_qual', 'year_built', 'total_bsmt_sf', 'gr_liv_area', 'full_bath', 'garage_area',\n",
    "           'mas_vnr_area', 'totrms_abvgrd', 'fireplaces', 'bsmtfin_sf_1', 'oqual_gla', 'garage', 'liv_tot', 'n_cat']\n",
    "cat_features = ['ms_cat', 'bldg_type', 'st_cat', 'hs_cat', 'mas_cat', 'ex_cat', 'h_cat', 'k_cat', 'cen_cat']\n",
    "all_feat = cat_features + features\n",
    "\n",
    "#save_test(home2, 'new_n_num', all_feat, cat_features)"
   ]
  },
  {
   "cell_type": "markdown",
   "metadata": {},
   "source": [
    "## Model 13"
   ]
  },
  {
   "cell_type": "markdown",
   "metadata": {},
   "source": [
    "I added 4 more numeric columns ('lot_frontage', 'lot_area', 'wood_deck_sf', 'open_porch_sf') in my numeric testing notebook and they brought the train RMSE down. I'm going to run them through the full model. I'm also going to change my neighborhoods back from before, the new sorting brought my kaggle RMSE down quite a bit."
   ]
  },
  {
   "cell_type": "code",
   "execution_count": 183,
   "metadata": {},
   "outputs": [],
   "source": [
    "def save_test(df, test_name, features_list, dum_cols):\n",
    "    X = df[features_list]\n",
    "    X['mas_vnr_area'].fillna(X['mas_vnr_area'].mean(), inplace=True) #filling in mean for this column's nans\n",
    "    X.fillna(0, inplace=True) #fill rest of numerical nans with 0\n",
    "    #if dum_cols != 0: #if you need to get dummies in any categorical columns, it happens here, otherwise enter '0'\n",
    "    X = pd.get_dummies(X, columns=dum_cols, drop_first=True)\n",
    "    print(X.shape)\n",
    "    y = df['saleprice'].map(np.log) #add target\n",
    "    lr = LinearRegression()\n",
    "    lr.fit(X, y)\n",
    "    \n",
    "    #poly = PolynomialFeatures(include_bias=False) #use for polynomial test\n",
    "    #X_poly = poly.fit_transform(X)\n",
    "    \n",
    "    print(f'Your R2 score is {lr.score(X, y)}')\n",
    "    #print('first done')\n",
    "    test = pd.read_csv('datasets/test.csv') #read in test file\n",
    "    test.columns = [col.lower().replace(' ', '_') for col in test.columns] #reformat test columns\n",
    "    sub = test[['id']].copy() #put id numbers in empty array\n",
    "    \n",
    "    #apply categorical column grouping changes to test data\n",
    "    home2 = test.copy()\n",
    "    \n",
    "    home2['ms_cat'] = 'other' #making a new column for zone categories\n",
    "    home2.loc[(home2['ms_zoning'] == 'I (all)') | \n",
    "          (home2['ms_zoning'] == 'A (agr)') | \n",
    "          (home2['ms_zoning'] == 'C (all)'),\n",
    "         'ms_cat']='ms1' #zone1 includes I, A, C types\n",
    "    home2.loc[home2['ms_zoning'] == 'RH', 'ms_cat']='ms2'\n",
    "    home2.loc[home2['ms_zoning'] == 'FV', 'ms_cat']='ms3'\n",
    "    home2.loc[home2['ms_zoning'] == 'RM', 'ms_cat']='ms4'\n",
    "\n",
    "    home2['n_cat'] = 7 #making a new column for neighborhood category- if there is anything my filters don't catch, they'll roll into \"other\"\n",
    "    home2.loc[(home2['neighborhood'] == 'MeadowV') | (home2['neighborhood'] == 'IDOTRR'), 'n_cat']=0\n",
    "    home2.loc[(home2['neighborhood'] == 'BRDale') | (home2['neighborhood'] == 'OldTown'), 'n_cat']=1\n",
    "    home2.loc[(home2['neighborhood'] == 'Edwards') | (home2['neighborhood'] == 'BrkSide') | (home2['neighborhood'] == 'Sawyer'), 'n_cat']=2\n",
    "    home2.loc[(home2['neighborhood'] == 'SWISU') | (home2['neighborhood'] == 'Landmrk') | (home2['neighborhood'] == 'Blueste'), 'n_cat']=3\n",
    "    home2.loc[(home2['neighborhood'] == 'NAmes') | (home2['neighborhood'] == 'NPkVill'), 'n_cat']=4\n",
    "    home2.loc[home2['neighborhood'] == 'Mitchell', 'n_cat']=5\n",
    "    home2.loc[(home2['neighborhood'] == 'Gilbert') | (home2['neighborhood'] == 'SawyerW') | (home2['neighborhood'] == 'NWAmes'), 'n_cat']=6\n",
    "    home2.loc[(home2['neighborhood'] == 'Timber') | (home2['neighborhood'] == 'Somerst'), 'n_cat']=8\n",
    "    home2.loc[home2['neighborhood'] == 'ClearCr', 'n_cat']=9\n",
    "    home2.loc[(home2['neighborhood'] == 'Veenker') | (home2['neighborhood'] == 'GrnHill'), 'n_cat']=10\n",
    "    home2.loc[home2['neighborhood'] == 'NoRidge', 'n_cat']=11\n",
    "    home2.loc[home2['neighborhood'] == 'NridgeHt', 'n_cat']=12\n",
    "    home2.loc[home2['neighborhood'] == 'StoneBr', 'n_cat']=13 #neighborhoods ranked by price 1-14\n",
    "\n",
    "    home2['h_cat'] = 1 #new column for heating categories\n",
    "    home2.loc[home2['heating'] == 'GasA', 'h_cat']=2\n",
    "    home2.loc[home2['heating'] == 'GasW', 'h_cat']=3 #grav/wall/other = 1, gasa = 2, gasw = 3\n",
    "\n",
    "    home2['k_cat'] = 0 #new column for kitchen qual categories\n",
    "    home2.loc[home2['kitchen_qual'] == 'TA', 'k_cat']=1\n",
    "    home2.loc[home2['kitchen_qual'] == 'Gd', 'k_cat']=2\n",
    "    home2.loc[home2['kitchen_qual'] == 'Ex', 'k_cat']=3 #fair/poor will be 1, TA will be 2, GD as 3, and EX as 4\n",
    "\n",
    "    home2['st_cat'] = 'other' #new column for sale type categories\n",
    "    home2.loc[home2['sale_type'] == 'New', 'st_cat']='New'\n",
    "    home2.loc[(home2['sale_type'] == 'Oth') | (home2['sale_type'] == 'ConLI') | (home2['sale_type'] == 'ConLw'), 'st_cat']='occ'\n",
    "    home2.loc[(home2['sale_type'] == 'CWD') | (home2['sale_type'] == 'Con'), 'st_cat']='cwn'\n",
    "    home2.loc[(home2['sale_type'] == 'COD') | (home2['sale_type'] == 'ConLD'), 'st_cat']='cld' \n",
    "\n",
    "    home2['ex_cat'] = 1 #new column for exterior categories\n",
    "    home2.loc[(home2['exter_cond'] == 'Fa') | (home2['exter_cond'] == 'Po'), 'ex_cat']=0\n",
    "    home2.loc[(home2['exter_cond'] == 'Gd') | (home2['exter_cond'] == 'Ex'), 'ex_cat']=2 #ranked 1 for fa/po, 2 for TA, and 3 for gd/ex\n",
    "\n",
    "    home2['hs_cat'] = 'other' #new column for house style categories\n",
    "    home2.loc[(home2['house_style'] == 'SFoyer') | (home2['house_style'] == '1.5Unf'), 'hs_cat']='SF15U'\n",
    "    home2.loc[(home2['house_style'] == '1.5Fin') | (home2['house_style'] == 'SLvl'), 'hs_cat']='15FSL'\n",
    "    home2.loc[(home2['house_style'] == '2.5Unf') | (home2['house_style'] == '2.5Fin'), 'hs_cat']='25UF'\n",
    "\n",
    "    home2['mas_cat'] = 'one' #new column for masonry type categories \n",
    "    home2.loc[(home2['mas_vnr_type'] == 'BrkFace') | (home2['mas_vnr_type'] == 'BrkCmn'), 'mas_cat']='two'\n",
    "    home2.loc[home2['mas_vnr_type'] == 'Stone', 'mas_cat']='three' #make \"none\" = to 1, brick as 2, and stone as 3\n",
    "\n",
    "    home2['cen_cat'] = 0\n",
    "    home2.loc[home2['central_air'] == 'Y', 'cen_cat']=1 #makeing central air ordinal, since having it is clearly better than not\n",
    "\n",
    "    #new features\n",
    "    home2['oqual_gla'] = home2['overall_qual']*home2['gr_liv_area']\n",
    "    home2['garage'] = home2['garage_cars']*home2['garage_area']\n",
    "    home2['liv_tot'] = home2['total_bsmt_sf']*home2['1st_flr_sf']*home2['gr_liv_area']\n",
    "    \n",
    "    test = home2.copy()\n",
    "    #print('cats done')\n",
    "    #sub = test[['id']].copy() #put id numbers in empty array\n",
    "    X_test = test[features_list] #create X value based on selected features\n",
    "    X_test['mas_vnr_area'].fillna(X_test['mas_vnr_area'].mean(), inplace=True) #filling in mean for this column's nans\n",
    "    X_test.fillna(0, inplace=True) #fill rest of numerical nans with 0\n",
    "    #if dum_cols != 0: #if you need to get dummies in any categorical columns, it happens here, else enter '0'\n",
    "    X_test = pd.get_dummies(X_test, columns=dum_cols, drop_first=True)\n",
    "    print(X_test.shape)\n",
    "    #Xt_poly = poly.fit_transform(X_test) #poly transform the x_test list\n",
    "    #X_test.fillna(0, inplace=True) #fill rest of numerical nans with 0\n",
    "    #return X_test.isnull().sum()\n",
    "    sub['SalePrice'] = lr.predict(X_test) #make new df column from predictions\n",
    "    #print('sub done')\n",
    "    sub['SalePrice'] = np.exp(sub['SalePrice'])\n",
    "    sub = sub.rename(columns = {'id' : 'Id'}) #rename id column to fit submission model\n",
    "    sub['Id'] = [int(n) for n in sub['Id']] #make id numbers ints to fit submission model\n",
    "    print(sub.head())\n",
    "    query = input('Save data? Please enter \"yes\" or \"no\".')\n",
    "    if query == 'yes':\n",
    "        sub.to_csv(f'models/{test_name}.csv', index=False) #save submission as new csv\n",
    "        return f\"All done, submission {test_name} saved\"\n",
    "    elif query == 'no':\n",
    "        return 'Better luck next time'"
   ]
  },
  {
   "cell_type": "code",
   "execution_count": 184,
   "metadata": {},
   "outputs": [],
   "source": [
    "features = ['overall_qual', 'year_built', 'total_bsmt_sf', 'gr_liv_area', 'full_bath', 'garage_area',\n",
    "           'mas_vnr_area', 'totrms_abvgrd', 'fireplaces', 'bsmtfin_sf_1', 'oqual_gla', 'garage', 'liv_tot', 'n_cat',\n",
    "           'lot_frontage', 'lot_area', 'wood_deck_sf', 'open_porch_sf', 'n_cat']\n",
    "cat_features = ['ms_cat', 'bldg_type', 'st_cat', 'hs_cat', 'mas_cat', 'ex_cat', 'h_cat', 'k_cat', 'cen_cat']\n",
    "all_feat = cat_features + features\n",
    "\n",
    "#save_test(home2, 'plus4nums', all_feat, cat_features)"
   ]
  },
  {
   "cell_type": "markdown",
   "metadata": {},
   "source": [
    "Better R2 score. Worse Kaggle score. I just realized n_cat was part of numerical on that test run. I'm going to move it down to categorical as that has been better in the past."
   ]
  },
  {
   "cell_type": "markdown",
   "metadata": {},
   "source": [
    "## Model 14"
   ]
  },
  {
   "cell_type": "code",
   "execution_count": 185,
   "metadata": {},
   "outputs": [],
   "source": [
    "home2['n_cat'] = 7 #making a new column for neighborhood category- if there is anything my filters don't catch, they'll roll into \"other\"\n",
    "home2.loc[(home2['neighborhood'] == 'MeadowV') | (home2['neighborhood'] == 'IDOTRR'), 'n_cat']=0\n",
    "home2.loc[(home2['neighborhood'] == 'BRDale') | (home2['neighborhood'] == 'OldTown'), 'n_cat']=1\n",
    "home2.loc[(home2['neighborhood'] == 'Edwards') | (home2['neighborhood'] == 'BrkSide') | (home2['neighborhood'] == 'Sawyer'), 'n_cat']=2\n",
    "home2.loc[(home2['neighborhood'] == 'SWISU') | (home2['neighborhood'] == 'Landmrk') | (home2['neighborhood'] == 'Blueste'), 'n_cat']=3\n",
    "home2.loc[(home2['neighborhood'] == 'NAmes') | (home2['neighborhood'] == 'NPkVill'), 'n_cat']=4\n",
    "home2.loc[home2['neighborhood'] == 'Mitchell', 'n_cat']=5\n",
    "home2.loc[(home2['neighborhood'] == 'Gilbert') | (home2['neighborhood'] == 'SawyerW') | (home2['neighborhood'] == 'NWAmes'), 'n_cat']=6\n",
    "home2.loc[(home2['neighborhood'] == 'Timber') | (home2['neighborhood'] == 'Somerst'), 'n_cat']=8\n",
    "home2.loc[home2['neighborhood'] == 'ClearCr', 'n_cat']=9\n",
    "home2.loc[(home2['neighborhood'] == 'Veenker') | (home2['neighborhood'] == 'GrnHill'), 'n_cat']=10\n",
    "home2.loc[home2['neighborhood'] == 'NoRidge', 'n_cat']=11\n",
    "home2.loc[home2['neighborhood'] == 'NridgeHt', 'n_cat']=12\n",
    "home2.loc[home2['neighborhood'] == 'StoneBr', 'n_cat']=13 #neighborhoods ranked by price 1-14"
   ]
  },
  {
   "cell_type": "code",
   "execution_count": 186,
   "metadata": {},
   "outputs": [],
   "source": [
    "features = ['overall_qual', 'year_built', 'total_bsmt_sf', 'gr_liv_area', 'full_bath', 'garage_area',\n",
    "           'mas_vnr_area', 'totrms_abvgrd', 'fireplaces', 'bsmtfin_sf_1', 'oqual_gla', 'garage', 'liv_tot', \n",
    "            'lot_frontage', 'lot_area', 'wood_deck_sf', 'open_porch_sf']\n",
    "cat_features = ['ms_cat', 'bldg_type', 'st_cat', 'hs_cat', 'mas_cat', 'ex_cat', 'h_cat', 'k_cat', 'cen_cat', 'n_cat']\n",
    "all_feat = cat_features + features"
   ]
  },
  {
   "cell_type": "code",
   "execution_count": 187,
   "metadata": {},
   "outputs": [],
   "source": [
    "#save_test(home2, 'plus4nums2', all_feat, cat_features)"
   ]
  },
  {
   "cell_type": "code",
   "execution_count": 188,
   "metadata": {},
   "outputs": [],
   "source": [
    "#save_test(home2, 'plus4nums2', all_feat, cat_features)"
   ]
  },
  {
   "cell_type": "code",
   "execution_count": 189,
   "metadata": {},
   "outputs": [],
   "source": [
    "features = ['overall_qual', 'year_built', 'total_bsmt_sf', 'gr_liv_area', 'full_bath', 'garage_area',\n",
    "           'mas_vnr_area', 'totrms_abvgrd', 'fireplaces', 'bsmtfin_sf_1', 'oqual_gla', 'garage', 'liv_tot', \n",
    "            'lot_frontage', 'lot_area', 'wood_deck_sf', 'open_porch_sf', '2nd_flr_sf', 'bsmt_full_bath', 'half_bath']\n",
    "cat_features = ['ms_cat', 'bldg_type', 'st_cat', 'hs_cat', 'mas_cat', 'ex_cat', 'h_cat', 'k_cat', 'cen_cat', 'n_cat']\n",
    "all_feat = cat_features + features"
   ]
  },
  {
   "cell_type": "code",
   "execution_count": 190,
   "metadata": {},
   "outputs": [],
   "source": [
    "#save_test(home2, 'plus7nums1', all_feat, cat_features)"
   ]
  },
  {
   "cell_type": "markdown",
   "metadata": {},
   "source": [
    "Adding those 3 additional numeric columns bumped me another 200 points on Kaggle."
   ]
  },
  {
   "cell_type": "markdown",
   "metadata": {},
   "source": [
    "## Model 15"
   ]
  },
  {
   "cell_type": "markdown",
   "metadata": {},
   "source": [
    "I'm wondering if 1 or more of my ratings are nominal rather than ordinal. Maybe I'll try dummying them instead:  \n",
    "- overall_qual\n",
    "    - this may mean removing my oqual_gla counter\n",
    "- year_build"
   ]
  },
  {
   "cell_type": "code",
   "execution_count": 191,
   "metadata": {},
   "outputs": [],
   "source": [
    "features = ['year_built', 'total_bsmt_sf', 'gr_liv_area', 'full_bath', 'garage_area',\n",
    "           'mas_vnr_area', 'totrms_abvgrd', 'fireplaces', 'bsmtfin_sf_1', 'oqual_gla', 'garage', 'liv_tot', \n",
    "            'lot_frontage', 'lot_area', 'wood_deck_sf', 'open_porch_sf', '2nd_flr_sf', 'bsmt_full_bath', 'half_bath']\n",
    "cat_features = ['ms_cat', 'bldg_type', 'st_cat', 'hs_cat', 'mas_cat', 'ex_cat', 'h_cat', 'k_cat', 'cen_cat', 'n_cat', \n",
    "                'overall_qual']\n",
    "all_feat = cat_features + features"
   ]
  },
  {
   "cell_type": "markdown",
   "metadata": {},
   "source": [
    "First, with oqual_gla product category:"
   ]
  },
  {
   "cell_type": "code",
   "execution_count": 192,
   "metadata": {},
   "outputs": [],
   "source": [
    "#save_test(home2, 'cat_oqual1', all_feat, cat_features) #moved oqual to categorical"
   ]
  },
  {
   "cell_type": "markdown",
   "metadata": {},
   "source": [
    "Second, without oqual_gla product category:"
   ]
  },
  {
   "cell_type": "code",
   "execution_count": 193,
   "metadata": {},
   "outputs": [],
   "source": [
    "features = ['year_built', 'total_bsmt_sf', 'gr_liv_area', 'full_bath', 'garage_area',\n",
    "           'mas_vnr_area', 'totrms_abvgrd', 'fireplaces', 'bsmtfin_sf_1', 'garage', 'liv_tot', \n",
    "            'lot_frontage', 'lot_area', 'wood_deck_sf', 'open_porch_sf', '2nd_flr_sf', 'bsmt_full_bath', 'half_bath']\n",
    "cat_features = ['ms_cat', 'bldg_type', 'st_cat', 'hs_cat', 'mas_cat', 'ex_cat', 'h_cat', 'k_cat', 'cen_cat', 'n_cat', \n",
    "                'overall_qual']\n",
    "all_feat = cat_features + features"
   ]
  },
  {
   "cell_type": "code",
   "execution_count": 194,
   "metadata": {},
   "outputs": [],
   "source": [
    "#save_test(home2, 'cat_oqual2', all_feat, cat_features) #moved oqual and year_built to categorical AND removed oqual_gla"
   ]
  },
  {
   "cell_type": "code",
   "execution_count": 195,
   "metadata": {},
   "outputs": [],
   "source": [
    "home2.loc[home2['overall_qual'] <=2, 'overall_qual']=2"
   ]
  },
  {
   "cell_type": "code",
   "execution_count": 196,
   "metadata": {},
   "outputs": [],
   "source": [
    "#https://stackoverflow.com/questions/18689823/pandas-dataframe-replace-nan-values-with-average-of-columns\n",
    "#df.apply(lambda x: x.fillna(x.mean()),axis=0)"
   ]
  },
  {
   "cell_type": "code",
   "execution_count": 197,
   "metadata": {},
   "outputs": [],
   "source": [
    "def save_test(df, test_name, features_list, dum_cols):\n",
    "    X = df[features_list]\n",
    "    #X['mas_vnr_area'].fillna(X['mas_vnr_area'].mean(), inplace=True) #filling in mean for this column's nans\n",
    "    #X.fillna(0, inplace=True) #fill rest of numerical nans with 0\n",
    "    #if dum_cols != 0: #if you need to get dummies in any categorical columns, it happens here, otherwise enter '0'\n",
    "    # X.apply(lambda x: x.fillna(x.mean()), axis=0)\n",
    "    X = pd.get_dummies(X, columns=dum_cols, drop_first=True)\n",
    "    X.apply(lambda x: x.fillna(x.mean()), axis=0)\n",
    "    print(X.shape)\n",
    "    y = df['saleprice'].map(np.log) #add target\n",
    "    lr = LinearRegression()\n",
    "    lr.fit(X, y)\n",
    "    \n",
    "    #poly = PolynomialFeatures(include_bias=False) #use for polynomial test\n",
    "    #X_poly = poly.fit_transform(X)\n",
    "    \n",
    "    print(f'Your R2 score is {lr.score(X, y)}')\n",
    "    #print('first done')\n",
    "    test = pd.read_csv('datasets/test.csv') #read in test file\n",
    "    test.columns = [col.lower().replace(' ', '_') for col in test.columns] #reformat test columns\n",
    "    sub = test[['id']].copy() #put id numbers in empty array\n",
    "    \n",
    "    #apply categorical column grouping changes to test data\n",
    "    home2 = test.copy()\n",
    "    \n",
    "    home2['ms_cat'] = 'other' #making a new column for zone categories\n",
    "    home2.loc[(home2['ms_zoning'] == 'I (all)') | \n",
    "          (home2['ms_zoning'] == 'A (agr)') | \n",
    "          (home2['ms_zoning'] == 'C (all)'),\n",
    "         'ms_cat']='ms1' #zone1 includes I, A, C types\n",
    "    home2.loc[home2['ms_zoning'] == 'RH', 'ms_cat']='ms2'\n",
    "    home2.loc[home2['ms_zoning'] == 'FV', 'ms_cat']='ms3'\n",
    "    home2.loc[home2['ms_zoning'] == 'RM', 'ms_cat']='ms4'\n",
    "\n",
    "    home2['n_cat'] = 7 #making a new column for neighborhood category- if there is anything my filters don't catch, they'll roll into \"other\"\n",
    "    home2.loc[(home2['neighborhood'] == 'MeadowV') | (home2['neighborhood'] == 'IDOTRR'), 'n_cat']=0\n",
    "    home2.loc[(home2['neighborhood'] == 'BRDale') | (home2['neighborhood'] == 'OldTown'), 'n_cat']=1\n",
    "    home2.loc[(home2['neighborhood'] == 'Edwards') | (home2['neighborhood'] == 'BrkSide') | (home2['neighborhood'] == 'Sawyer'), 'n_cat']=2\n",
    "    home2.loc[(home2['neighborhood'] == 'SWISU') | (home2['neighborhood'] == 'Landmrk') | (home2['neighborhood'] == 'Blueste'), 'n_cat']=3\n",
    "    home2.loc[(home2['neighborhood'] == 'NAmes') | (home2['neighborhood'] == 'NPkVill'), 'n_cat']=4\n",
    "    home2.loc[home2['neighborhood'] == 'Mitchell', 'n_cat']=5\n",
    "    home2.loc[(home2['neighborhood'] == 'Gilbert') | (home2['neighborhood'] == 'SawyerW') | (home2['neighborhood'] == 'NWAmes'), 'n_cat']=6\n",
    "    home2.loc[(home2['neighborhood'] == 'Timber') | (home2['neighborhood'] == 'Somerst'), 'n_cat']=8\n",
    "    home2.loc[home2['neighborhood'] == 'ClearCr', 'n_cat']=9\n",
    "    home2.loc[(home2['neighborhood'] == 'Veenker') | (home2['neighborhood'] == 'GrnHill'), 'n_cat']=10\n",
    "    home2.loc[home2['neighborhood'] == 'NoRidge', 'n_cat']=11\n",
    "    home2.loc[home2['neighborhood'] == 'NridgeHt', 'n_cat']=12\n",
    "    home2.loc[home2['neighborhood'] == 'StoneBr', 'n_cat']=13 #neighborhoods ranked by price 1-14\n",
    "\n",
    "    home2['h_cat'] = 1 #new column for heating categories\n",
    "    home2.loc[home2['heating'] == 'GasA', 'h_cat']=2\n",
    "    home2.loc[home2['heating'] == 'GasW', 'h_cat']=3 #grav/wall/other = 1, gasa = 2, gasw = 3\n",
    "\n",
    "    home2['k_cat'] = 0 #new column for kitchen qual categories\n",
    "    home2.loc[home2['kitchen_qual'] == 'TA', 'k_cat']=1\n",
    "    home2.loc[home2['kitchen_qual'] == 'Gd', 'k_cat']=2\n",
    "    home2.loc[home2['kitchen_qual'] == 'Ex', 'k_cat']=3 #fair/poor will be 1, TA will be 2, GD as 3, and EX as 4\n",
    "\n",
    "    home2['st_cat'] = 'other' #new column for sale type categories\n",
    "    home2.loc[home2['sale_type'] == 'New', 'st_cat']='New'\n",
    "    home2.loc[(home2['sale_type'] == 'Oth') | (home2['sale_type'] == 'ConLI') | (home2['sale_type'] == 'ConLw'), 'st_cat']='occ'\n",
    "    home2.loc[(home2['sale_type'] == 'CWD') | (home2['sale_type'] == 'Con'), 'st_cat']='cwn'\n",
    "    home2.loc[(home2['sale_type'] == 'COD') | (home2['sale_type'] == 'ConLD'), 'st_cat']='cld' \n",
    "\n",
    "    home2['ex_cat'] = 1 #new column for exterior categories\n",
    "    home2.loc[(home2['exter_cond'] == 'Fa') | (home2['exter_cond'] == 'Po'), 'ex_cat']=0\n",
    "    home2.loc[(home2['exter_cond'] == 'Gd') | (home2['exter_cond'] == 'Ex'), 'ex_cat']=2 #ranked 1 for fa/po, 2 for TA, and 3 for gd/ex\n",
    "\n",
    "    home2['hs_cat'] = 'other' #new column for house style categories\n",
    "    home2.loc[(home2['house_style'] == 'SFoyer') | (home2['house_style'] == '1.5Unf'), 'hs_cat']='SF15U'\n",
    "    home2.loc[(home2['house_style'] == '1.5Fin') | (home2['house_style'] == 'SLvl'), 'hs_cat']='15FSL'\n",
    "    home2.loc[(home2['house_style'] == '2.5Unf') | (home2['house_style'] == '2.5Fin'), 'hs_cat']='25UF'\n",
    "\n",
    "    home2['mas_cat'] = 'one' #new column for masonry type categories \n",
    "    home2.loc[(home2['mas_vnr_type'] == 'BrkFace') | (home2['mas_vnr_type'] == 'BrkCmn'), 'mas_cat']='two'\n",
    "    home2.loc[home2['mas_vnr_type'] == 'Stone', 'mas_cat']='three' #make \"none\" = to 1, brick as 2, and stone as 3\n",
    "\n",
    "    home2['cen_cat'] = 0\n",
    "    home2.loc[home2['central_air'] == 'Y', 'cen_cat']=1 #makeing central air ordinal, since having it is clearly better than not\n",
    "\n",
    "    #new features\n",
    "    home2['oqual_gla'] = home2['overall_qual']*home2['gr_liv_area']\n",
    "    home2['garage'] = home2['garage_cars']*home2['garage_area']\n",
    "    home2['liv_tot'] = home2['total_bsmt_sf']*home2['1st_flr_sf']*home2['gr_liv_area']\n",
    "    home2['bedbath'] = (home2['half_bath'] + home2['full_bath']) / home2['bedroom_abvgr']\n",
    "    \n",
    "    #combining bottom 2 overall quality scores since there are no 1's in test set\n",
    "    home2.loc[home2['overall_qual'] <=2, 'overall_qual']=2\n",
    "    \n",
    "    test = home2.copy()\n",
    "    #print('cats done')\n",
    "    #sub = test[['id']].copy() #put id numbers in empty array\n",
    "    X_test = test[features_list] #create X value based on selected features\n",
    "    X_test.apply(lambda x: x.fillna(x.mean()), axis=0)\n",
    "    #X_test['mas_vnr_area'].fillna(X_test['mas_vnr_area'].mean(), inplace=True) #filling in mean for this column's nans\n",
    "    # X_test.fillna(0, inplace=True) #fill rest of numerical nans with 0\n",
    "    #if dum_cols != 0: #if you need to get dummies in any categorical columns, it happens here, else enter '0'\n",
    "    X_test = pd.get_dummies(X_test, columns=dum_cols, drop_first=True)\n",
    "    print(X_test.shape)\n",
    "    #Xt_poly = poly.fit_transform(X_test) #poly transform the x_test list\n",
    "    #X_test.fillna(0, inplace=True) #fill rest of numerical nans with 0\n",
    "    #return X_test.isnull().sum()\n",
    "    sub['SalePrice'] = lr.predict(X_test) #make new df column from predictions\n",
    "    #print('sub done')\n",
    "    sub['SalePrice'] = np.exp(sub['SalePrice'])\n",
    "    sub = sub.rename(columns = {'id' : 'Id'}) #rename id column to fit submission model\n",
    "    sub['Id'] = [int(n) for n in sub['Id']] #make id numbers ints to fit submission model\n",
    "    print(sub.head())\n",
    "    query = input('Save data? Please enter \"yes\" or \"no\".')\n",
    "    if query == 'yes':\n",
    "        sub.to_csv(f'models/{test_name}.csv', index=False) #save submission as new csv\n",
    "        return f\"All done, submission {test_name} saved\"\n",
    "    elif query == 'no':\n",
    "        return 'Better luck next time'"
   ]
  },
  {
   "cell_type": "code",
   "execution_count": 198,
   "metadata": {},
   "outputs": [],
   "source": [
    "features = ['year_built', 'total_bsmt_sf', 'gr_liv_area', 'full_bath', 'garage_area', #removed lot frontage due to all the nans (taking avg)\n",
    "           'mas_vnr_area', 'totrms_abvgrd', 'fireplaces', 'bsmtfin_sf_1', 'oqual_gla', 'garage', 'liv_tot', \n",
    "            'lot_area', 'wood_deck_sf', 'open_porch_sf', '2nd_flr_sf', 'bsmt_full_bath', 'half_bath']\n",
    "cat_features = ['ms_cat', 'bldg_type', 'st_cat', 'hs_cat', 'mas_cat', 'ex_cat', 'h_cat', 'k_cat', 'cen_cat', 'n_cat', \n",
    "                'overall_qual']\n",
    "all_feat = cat_features + features"
   ]
  },
  {
   "cell_type": "code",
   "execution_count": 199,
   "metadata": {},
   "outputs": [],
   "source": [
    "#save_test(home2, 'cat_oqual2', all_feat, cat_features)"
   ]
  },
  {
   "cell_type": "markdown",
   "metadata": {},
   "source": [
    "## Model 16\n",
    "### ENTER THE .PY FILE\n",
    "It's at this point that I'm finally fed up with the constant adjustments my functions and datasets require manually every time I make minor changes to feature selection. I decided to combine all of my cleaning, modeling, and saving off to the side in a python file so that I can edit them once, in one place, and then call them in as needed."
   ]
  },
  {
   "cell_type": "code",
   "execution_count": 200,
   "metadata": {},
   "outputs": [],
   "source": [
    "import cleaner as cleaner"
   ]
  },
  {
   "cell_type": "code",
   "execution_count": 201,
   "metadata": {},
   "outputs": [],
   "source": [
    "features = ['year_built', 'total_bsmt_sf', 'gr_liv_area', 'full_bath', 'lot_frontage',\n",
    "           'mas_vnr_area', 'totrms_abvgrd', 'fireplaces', 'bsmtfin_sf_1', 'garage',\n",
    "            'lot_area', 'wood_deck_sf', 'open_porch_sf', '2nd_flr_sf', 'bsmt_full_bath', 'half_bath']\n",
    "cat_features = ['ms_cat', 'bldg_type', 'st_cat', 'hs_cat', 'mas_cat', 'ex_cat', 'h_cat', 'k_cat', 'cen_cat', 'n_cat', \n",
    "                'overall_qual']\n",
    "all_feat = cat_features + features\n",
    "\n",
    "#this test does not include engineered columns nz, live_tot, or bedbath\n",
    "\n",
    "#cleaner.save_test(home, all_feat, cat_features)"
   ]
  },
  {
   "cell_type": "code",
   "execution_count": 202,
   "metadata": {},
   "outputs": [],
   "source": [
    "features = ['year_built', 'total_bsmt_sf', 'gr_liv_area', 'full_bath', 'lot_frontage',\n",
    "           'mas_vnr_area', 'totrms_abvgrd', 'fireplaces', 'bsmtfin_sf_1', 'garage',\n",
    "            'lot_area', 'wood_deck_sf', 'open_porch_sf', '2nd_flr_sf', 'bsmt_full_bath', 'half_bath',\n",
    "           'liv_tot', 'oqual_gla']\n",
    "cat_features = ['ms_cat', 'bldg_type', 'st_cat', 'hs_cat', 'mas_cat', 'ex_cat', 'h_cat', 'k_cat', 'cen_cat', 'n_cat', \n",
    "                'overall_qual', 'nz']\n",
    "all_feat = cat_features + features\n",
    "\n",
    "#this test includes nz, live_tot, bedbath, and oqual_gla\n",
    "\n",
    "#cleaner.save_test(home, all_feat, cat_features)"
   ]
  },
  {
   "cell_type": "markdown",
   "metadata": {},
   "source": [
    "## To Production!  \n",
    "At this point I feel good about my feature selection and tuning. I have isolated the features I'd like to use and now it's just a matter of getting the correct configuration of them to amximize accuracy by minimizing RMSE. I progress to my Final Production notebook where all this research culminates in the production model."
   ]
  }
 ],
 "metadata": {
  "kernelspec": {
   "display_name": "Python 3",
   "language": "python",
   "name": "python3"
  },
  "language_info": {
   "codemirror_mode": {
    "name": "ipython",
    "version": 3
   },
   "file_extension": ".py",
   "mimetype": "text/x-python",
   "name": "python",
   "nbconvert_exporter": "python",
   "pygments_lexer": "ipython3",
   "version": "3.8.3"
  }
 },
 "nbformat": 4,
 "nbformat_minor": 4
}
