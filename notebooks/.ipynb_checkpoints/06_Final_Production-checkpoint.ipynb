{
 "cells": [
  {
   "cell_type": "code",
   "execution_count": 1,
   "metadata": {},
   "outputs": [],
   "source": [
    "from scipy.stats import ttest_ind\n",
    "import pandas as pd\n",
    "import numpy as np\n",
    "from scipy import stats\n",
    "import seaborn as sns\n",
    "import matplotlib.pyplot as plt\n",
    "import re\n",
    "#week 3\n",
    "from sklearn.linear_model import LinearRegression\n",
    "from sklearn import metrics\n",
    "import statsmodels.api as sm\n",
    "from sklearn.model_selection import train_test_split, cross_val_score\n",
    "from sklearn.preprocessing import StandardScaler, PolynomialFeatures\n",
    "#week 4\n",
    "from sklearn.linear_model import LogisticRegression\n",
    "\n",
    "#my .py file\n",
    "import cleaner as cleaner"
   ]
  },
  {
   "cell_type": "code",
   "execution_count": 2,
   "metadata": {},
   "outputs": [],
   "source": [
    "home = pd.read_csv('./datasets/train.csv')\n",
    "home.columns = [col.lower().replace(' ', '_') for col in home.columns] #reformat df columns"
   ]
  },
  {
   "cell_type": "code",
   "execution_count": 3,
   "metadata": {},
   "outputs": [],
   "source": [
    "features = ['year_built', 'total_bsmt_sf', 'gr_liv_area', 'full_bath', 'lot_frontage',\n",
    "           'mas_vnr_area', 'totrms_abvgrd', 'fireplaces', 'bsmtfin_sf_1', 'garage',\n",
    "            'lot_area', 'wood_deck_sf', 'open_porch_sf', '2nd_flr_sf', 'bsmt_full_bath', 'half_bath',\n",
    "           'liv_tot']\n",
    "cat_features = ['ms_cat', 'bldg_type', 'st_cat', 'hs_cat', 'mas_cat', 'ex_cat', 'h_cat', 'k_cat', 'cen_cat', 'n_cat', \n",
    "                'overall_qual', 'nz']\n",
    "all_feat = cat_features + features"
   ]
  },
  {
   "cell_type": "code",
   "execution_count": 4,
   "metadata": {},
   "outputs": [
    {
     "name": "stdout",
     "output_type": "stream",
     "text": [
      "Your training score is 0.9123398390829967\n",
      "Your test score is 0.7619056268061724\n",
      "Your cross val scores are [0.87533819 0.89550014 0.90723248 0.87586747 0.91362851]\n",
      "Your mean cross val score is 0.8935133586631571\n"
     ]
    },
    {
     "data": {
      "image/png": "[encoded data removed]",
      "text/plain": [
       "<Figure size 432x288 with 1 Axes>"
      ]
     },
     "metadata": {
      "needs_background": "light"
     },
     "output_type": "display_data"
    },
    {
     "name": "stdout",
     "output_type": "stream",
     "text": [
      "|                   |      coef |   coef_abs |\n",
      "|:------------------|----------:|-----------:|\n",
      "| overall_qual_10.0 |  1.09748  |   1.09748  |\n",
      "| overall_qual_9.0  |  0.99864  |   0.99864  |\n",
      "| overall_qual_8.0  |  0.941567 |   0.941567 |\n",
      "| overall_qual_7.0  |  0.864461 |   0.864461 |\n",
      "| overall_qual_6.0  |  0.792994 |   0.792994 |\n",
      "| overall_qual_5.0  |  0.743148 |   0.743148 |\n",
      "| overall_qual_4.0  |  0.660872 |   0.660872 |\n",
      "| overall_qual_3.0  |  0.560282 |   0.560282 |\n",
      "| nz_onems1         | -0.42614  |   0.42614  |\n",
      "| n_cat_one         | -0.354779 |   0.354779 |\n"
     ]
    },
    {
     "data": {
      "text/plain": [
       "'Your RMSE for test 2020-10-07 21:08:16.764819 is 0.14337281447342445.'"
      ]
     },
     "execution_count": 4,
     "metadata": {},
     "output_type": "execute_result"
    }
   ],
   "source": [
    "cleaner.make_model(home, all_feat, cat_features)"
   ]
  },
  {
   "cell_type": "code",
   "execution_count": 5,
   "metadata": {},
   "outputs": [],
   "source": [
    "features = ['year_built', 'total_bsmt_sf', 'gr_liv_area', 'full_bath', 'lot_frontage',\n",
    "           'mas_vnr_area', 'totrms_abvgrd', 'fireplaces', 'bsmtfin_sf_1', 'garage',\n",
    "            'wood_deck_sf', 'open_porch_sf', '2nd_flr_sf', 'bsmt_full_bath', 'half_bath',\n",
    "           'liv_tot']\n",
    "cat_features = ['ms_cat', 'bldg_type', 'st_cat', 'hs_cat', 'mas_cat', 'ex_cat', 'h_cat', 'k_cat', 'cen_cat', 'n_cat', \n",
    "                'overall_qual', 'nz']\n",
    "all_feat = cat_features + features\n",
    "#cleaner.make_model(home, all_feat, cat_features)"
   ]
  },
  {
   "cell_type": "code",
   "execution_count": 6,
   "metadata": {},
   "outputs": [],
   "source": [
    "features = ['year_built', 'total_bsmt_sf', 'gr_liv_area', 'full_bath', 'lot_frontage',\n",
    "           'mas_vnr_area', 'totrms_abvgrd', 'fireplaces', 'bsmtfin_sf_1', 'garage',\n",
    "            'wood_deck_sf', 'open_porch_sf', '2nd_flr_sf', 'bsmt_full_bath', 'half_bath']\n",
    "cat_features = ['ms_cat', 'bldg_type', 'st_cat', 'hs_cat', 'mas_cat', 'ex_cat', 'h_cat', 'k_cat', 'cen_cat', 'n_cat', \n",
    "                'overall_qual', 'nz']\n",
    "all_feat = cat_features + features\n",
    "#cleaner.make_model(home, all_feat, cat_features)"
   ]
  },
  {
   "cell_type": "code",
   "execution_count": 7,
   "metadata": {},
   "outputs": [],
   "source": [
    "features = ['year_built', 'total_bsmt_sf', 'gr_liv_area', 'full_bath', 'lot_area',\n",
    "           'mas_vnr_area', 'totrms_abvgrd', 'fireplaces', 'bsmtfin_sf_1', 'garage',\n",
    "            'wood_deck_sf', 'open_porch_sf', '2nd_flr_sf', 'bsmt_full_bath', 'half_bath']\n",
    "cat_features = ['ms_cat', 'bldg_type', 'st_cat', 'hs_cat', 'mas_cat', 'ex_cat', 'h_cat', 'k_cat', 'cen_cat', 'n_cat', \n",
    "                'overall_qual', 'nz']\n",
    "all_feat = cat_features + features\n",
    "#cleaner.make_model(home, all_feat, cat_features)"
   ]
  },
  {
   "cell_type": "code",
   "execution_count": 8,
   "metadata": {},
   "outputs": [],
   "source": [
    "features = ['year_built', 'total_bsmt_sf', 'gr_liv_area', 'full_bath', 'lot_area',\n",
    "           'mas_vnr_area', 'totrms_abvgrd', 'fireplaces', 'bsmtfin_sf_1', 'garage',\n",
    "            'wood_deck_sf', 'open_porch_sf', '2nd_flr_sf', 'bsmt_full_bath', 'half_bath', 'cen_cat']\n",
    "cat_features = ['ms_cat', 'bldg_type', 'st_cat', 'hs_cat', 'mas_cat', 'ex_cat', 'h_cat', 'k_cat', 'n_cat', \n",
    "                'overall_qual', 'nz']\n",
    "all_feat = cat_features + features\n",
    "#cleaner.make_model(home, all_feat, cat_features)"
   ]
  },
  {
   "cell_type": "code",
   "execution_count": 9,
   "metadata": {},
   "outputs": [],
   "source": [
    "features = ['year_built', 'total_bsmt_sf', 'gr_liv_area', 'full_bath', 'lot_area',\n",
    "           'mas_vnr_area', 'totrms_abvgrd', 'fireplaces', 'bsmtfin_sf_1', 'garage',\n",
    "            'wood_deck_sf', 'open_porch_sf', '2nd_flr_sf', 'bsmt_full_bath', 'half_bath', 'cen_cat']\n",
    "cat_features = ['ms_cat', 'bldg_type', 'st_cat', 'hs_cat', 'mas_cat', 'ex_cat', 'h_cat', 'k_cat', 'n_cat', \n",
    "                'overall_qual']\n",
    "all_feat = cat_features + features\n",
    "#cleaner.make_model(home, all_feat, cat_features)"
   ]
  },
  {
   "cell_type": "code",
   "execution_count": 10,
   "metadata": {},
   "outputs": [],
   "source": [
    "features = ['year_built', 'total_bsmt_sf', 'gr_liv_area', 'full_bath', 'lot_area',\n",
    "           'mas_vnr_area', 'totrms_abvgrd', 'fireplaces', 'bsmtfin_sf_1', 'garage',\n",
    "            'wood_deck_sf', 'open_porch_sf', '2nd_flr_sf', 'bsmt_full_bath', 'half_bath', 'cen_cat']\n",
    "cat_features = ['ms_cat', 'bldg_type', 'st_cat', 'hs_cat', 'mas_cat', 'ex_cat', 'h_cat', 'k_cat', 'n_cat', \n",
    "                'overall_qual']\n",
    "all_feat = cat_features + features\n",
    "#cleaner.make_model(home, all_feat, cat_features)"
   ]
  },
  {
   "cell_type": "code",
   "execution_count": 11,
   "metadata": {},
   "outputs": [
    {
     "name": "stdout",
     "output_type": "stream",
     "text": [
      "Your training score is 0.9042474568237128\n",
      "Your test score is 0.7669030838479207\n",
      "Your cross val scores are [0.86905773 0.89352148 0.9003529  0.86785853 0.91629488]\n",
      "Your mean cross val score is 0.8894171055643749\n"
     ]
    },
    {
     "data": {
      "image/png": "[encoded data removed]",
      "text/plain": [
       "<Figure size 432x288 with 1 Axes>"
      ]
     },
     "metadata": {
      "needs_background": "light"
     },
     "output_type": "display_data"
    },
    {
     "name": "stdout",
     "output_type": "stream",
     "text": [
      "|              |      coef |   coef_abs |\n",
      "|:-------------|----------:|-----------:|\n",
      "| ms_cat_ms3   |  0.353479 |   0.353479 |\n",
      "| ms_cat_other |  0.319999 |   0.319999 |\n",
      "| ms_cat_ms2   |  0.319879 |   0.319879 |\n",
      "| ms_cat_ms4   |  0.280551 |   0.280551 |\n",
      "| ex_cat_2     |  0.218078 |   0.218078 |\n",
      "| k_cat_3      |  0.194409 |   0.194409 |\n",
      "| h_cat_3      |  0.190164 |   0.190164 |\n",
      "| h_cat_2      |  0.187407 |   0.187407 |\n",
      "| ex_cat_1     |  0.18016  |   0.18016  |\n",
      "| st_cat_cld   | -0.120522 |   0.120522 |\n"
     ]
    },
    {
     "data": {
      "text/plain": [
       "'Your RMSE for test 2020-10-07 21:08:17.226096 is 0.14636858998040217.'"
      ]
     },
     "execution_count": 11,
     "metadata": {},
     "output_type": "execute_result"
    }
   ],
   "source": [
    "features = ['overall_qual', 'year_built', 'total_bsmt_sf', 'gr_liv_area', 'full_bath', 'garage_area',\n",
    "           'mas_vnr_area', 'totrms_abvgrd', 'fireplaces', 'bsmtfin_sf_1', 'oqual_gla', 'garage', 'liv_tot', \n",
    "            'lot_frontage', 'lot_area', 'wood_deck_sf', 'open_porch_sf', '2nd_flr_sf', 'bsmt_full_bath', 'half_bath']\n",
    "cat_features = ['ms_cat', 'bldg_type', 'st_cat', 'hs_cat', 'mas_cat', 'ex_cat', 'h_cat', 'k_cat', 'cen_cat', 'n_cat']\n",
    "all_feat = cat_features + features\n",
    "cleaner.make_model(home, all_feat, cat_features) #THIS IS MY BEST MODEL (ON KAGGLE) SO FAR (10/6)"
   ]
  },
  {
   "cell_type": "code",
   "execution_count": 12,
   "metadata": {},
   "outputs": [],
   "source": [
    "features = ['overall_qual', 'year_built', 'total_bsmt_sf', 'gr_liv_area', 'full_bath', 'garage_area',\n",
    "           'mas_vnr_area', 'totrms_abvgrd', 'fireplaces', 'bsmtfin_sf_1', 'oqual_gla', 'garage', 'liv_tot', \n",
    "            'lot_frontage', 'lot_area', 'wood_deck_sf', 'open_porch_sf', '2nd_flr_sf', 'bsmt_full_bath', 'half_bath']\n",
    "cat_features = ['bldg_type', 'st_cat', 'hs_cat', 'mas_cat', 'ex_cat', 'h_cat', 'k_cat', 'cen_cat', 'nz'] #using nz instead of n_cat and ms\n",
    "all_feat = cat_features + features\n",
    "#cleaner.make_model(home, all_feat, cat_features)"
   ]
  },
  {
   "cell_type": "code",
   "execution_count": 13,
   "metadata": {},
   "outputs": [],
   "source": [
    "features = ['overall_qual', 'year_built', 'total_bsmt_sf', 'gr_liv_area', 'full_bath', 'garage_area',\n",
    "           'mas_vnr_area', 'totrms_abvgrd', 'fireplaces', 'bsmtfin_sf_1', 'oqual_gla', 'garage', 'liv_tot', \n",
    "            'lot_frontage', 'lot_area', 'wood_deck_sf', 'open_porch_sf', '2nd_flr_sf', 'bsmt_full_bath', 'half_bath']\n",
    "cat_features = ['bldg_type', 'st_cat', 'hs_cat', 'mas_cat', 'ex_cat', 'h_cat', 'k_cat', 'cen_cat', 'nz'] #using nz instead of n_cat and ms\n",
    "all_feat = cat_features + features\n",
    "#cleaner.save_test(home, all_feat, cat_features)"
   ]
  },
  {
   "cell_type": "code",
   "execution_count": 14,
   "metadata": {},
   "outputs": [],
   "source": [
    "features = ['overall_qual', 'year_built', 'total_bsmt_sf', 'gr_liv_area', 'full_bath', 'garage_area',\n",
    "           'mas_vnr_area', 'totrms_abvgrd', 'fireplaces', 'bsmtfin_sf_1', 'oqual_gla', 'garage', 'liv_tot', \n",
    "            'lot_frontage', 'lot_area', 'wood_deck_sf', 'open_porch_sf', '2nd_flr_sf', 'bsmt_full_bath', 'half_bath']\n",
    "cat_features = ['ms_cat', 'bldg_type', 'st_cat', 'hs_cat', 'mas_cat', 'ex_cat', 'h_cat', 'k_cat', 'cen_cat', 'n_cat']\n",
    "all_feat = cat_features + features\n",
    "#cleaner.save_test(home, all_feat, cat_features) #THIS IS MY BEST K SCORE TO DATE (20201006233328.350324 - RMSE 22986.486)"
   ]
  },
  {
   "cell_type": "code",
   "execution_count": 15,
   "metadata": {},
   "outputs": [],
   "source": [
    "features = ['overall_qual', 'year_built', 'total_bsmt_sf', 'gr_liv_area', 'full_bath', 'garage_area',\n",
    "           'mas_vnr_area', 'totrms_abvgrd', 'fireplaces', 'bsmtfin_sf_1', 'oqual_gla', 'garage', 'liv_tot', \n",
    "            'lot_frontage', 'lot_area', 'wood_deck_sf', 'open_porch_sf', '2nd_flr_sf', 'bsmt_full_bath', 'half_bath',\n",
    "           'cen_cat', 'h_cat', 'k_cat', 'ex_cat']\n",
    "#cat_features = ['bldg_type', 'st_cat', 'hs_cat', 'mas_cat', 'ex_cat', 'h_cat', 'k_cat', 'cen_cat', 'nz'] #using nz instead of n_cat and ms\n",
    "all_feat = cat_features + features\n",
    "#cleaner.make_model(home, all_feat, 0) #all numerical test including converted cat features"
   ]
  },
  {
   "cell_type": "code",
   "execution_count": 16,
   "metadata": {},
   "outputs": [],
   "source": [
    "#cleaner.save_test(home, all_feat, 0)"
   ]
  },
  {
   "cell_type": "code",
   "execution_count": 17,
   "metadata": {},
   "outputs": [
    {
     "name": "stdout",
     "output_type": "stream",
     "text": [
      "Your training score is 0.9069301315221101\n",
      "Your test score is 0.7919379449620012\n",
      "Your cross val scores are [0.87648499 0.8977872  0.90223774 0.86810159 0.92034896]\n",
      "Your mean cross val score is 0.8929920960944742\n"
     ]
    },
    {
     "data": {
      "image/png": "[encoded data removed]",
      "text/plain": [
       "<Figure size 432x288 with 1 Axes>"
      ]
     },
     "metadata": {
      "needs_background": "light"
     },
     "output_type": "display_data"
    },
    {
     "name": "stdout",
     "output_type": "stream",
     "text": [
      "|                      |     coef |   coef_abs |\n",
      "|:---------------------|---------:|-----------:|\n",
      "| ms_cat_ms3           | 0.320036 |   0.320036 |\n",
      "| ms_cat_other         | 0.304347 |   0.304347 |\n",
      "| ms_cat_ms2           | 0.298745 |   0.298745 |\n",
      "| ms_cat_ms4           | 0.276961 |   0.276961 |\n",
      "| ex_cat_2             | 0.212645 |   0.212645 |\n",
      "| k_cat_3              | 0.192331 |   0.192331 |\n",
      "| h_cat_3              | 0.186971 |   0.186971 |\n",
      "| h_cat_2              | 0.182866 |   0.182866 |\n",
      "| ex_cat_1             | 0.174848 |   0.174848 |\n",
      "| neighborhood_StoneBr | 0.138507 |   0.138507 |\n"
     ]
    },
    {
     "data": {
      "text/plain": [
       "'Your RMSE for test 2020-10-07 21:08:17.667464 is 0.14183549231504566.'"
      ]
     },
     "execution_count": 17,
     "metadata": {},
     "output_type": "execute_result"
    }
   ],
   "source": [
    "features = ['overall_qual', 'year_built', 'total_bsmt_sf', 'gr_liv_area', 'full_bath', 'garage_area',\n",
    "           'mas_vnr_area', 'totrms_abvgrd', 'fireplaces', 'bsmtfin_sf_1', 'oqual_gla', 'garage', 'liv_tot', \n",
    "            'lot_frontage', 'lot_area', 'wood_deck_sf', 'open_porch_sf', '2nd_flr_sf', 'bsmt_full_bath', 'half_bath']\n",
    "cat_features = ['ms_cat', 'bldg_type', 'st_cat', 'hs_cat', 'mas_cat', 'ex_cat', 'h_cat', 'k_cat', 'cen_cat', 'neighborhood']\n",
    "all_feat = cat_features + features #testing with neighborhood instead of n_cat\n",
    "cleaner.make_model(home, all_feat, cat_features)"
   ]
  },
  {
   "cell_type": "code",
   "execution_count": 18,
   "metadata": {},
   "outputs": [],
   "source": [
    "#cleaner.save_test(home, all_feat, cat_features) #new best, 10/7"
   ]
  },
  {
   "cell_type": "markdown",
   "metadata": {},
   "source": [
    "That dropped me another 200 points on Kaggle! test name \"20201007190947.002019\", K score 22783.65"
   ]
  },
  {
   "cell_type": "code",
   "execution_count": null,
   "metadata": {},
   "outputs": [],
   "source": []
  }
 ],
 "metadata": {
  "kernelspec": {
   "display_name": "Python 3",
   "language": "python",
   "name": "python3"
  },
  "language_info": {
   "codemirror_mode": {
    "name": "ipython",
    "version": 3
   },
   "file_extension": ".py",
   "mimetype": "text/x-python",
   "name": "python",
   "nbconvert_exporter": "python",
   "pygments_lexer": "ipython3",
   "version": "3.8.3"
  }
 },
 "nbformat": 4,
 "nbformat_minor": 4
}
